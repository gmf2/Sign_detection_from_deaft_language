{
 "cells": [
  {
   "cell_type": "code",
   "execution_count": 1,
   "metadata": {},
   "outputs": [],
   "source": [
    "# REQUIRED IMPORTS FROM STANDARD PACKAGES\n",
    "\n",
    "import numpy as np\n",
    "import matplotlib.pyplot as plt\n",
    "%matplotlib inline\n",
    "import csv\n",
    "import random\n",
    "import pandas as pd\n",
    "from os.path import join as pjoin\n",
    "from glob import glob\n",
    "import sklearn as sk\n",
    "from sklearn import preprocessing\n",
    "from sklearn.metrics import f1_score\n",
    "from sklearn.pipeline import make_pipeline, Pipeline\n",
    "from sklearn.decomposition import PCA\n",
    "from sklearn.model_selection import cross_val_score\n",
    "from sklearn.model_selection import GridSearchCV\n",
    "from sklearn.preprocessing import StandardScaler, RobustScaler\n",
    "from sklearn.model_selection import RandomizedSearchCV\n",
    "import scipy\n",
    "from sklearn.model_selection import GroupShuffleSplit\n",
    "from sklearn.metrics import make_scorer, accuracy_score\n",
    "from sklearn import svm\n",
    "from sklearn.discriminant_analysis import LinearDiscriminantAnalysis as LDA\n",
    "from sklearn.externals.joblib import parallel_backend\n",
    "from sklearn.feature_selection import SelectKBest\n",
    "from sklearn.feature_selection import SelectPercentile, f_classif, chi2\n",
    "from sklearn.metrics import confusion_matrix\n",
    "from sklearn.model_selection import cross_val_predict\n",
    "#news\n",
    "from sklearn.datasets import load_iris\n",
    "from sklearn.ensemble import AdaBoostClassifier\n",
    "from sklearn.metrics import classification_report\n",
    "from sklearn.tree import DecisionTreeClassifier\n",
    "from sklearn.neural_network import MLPClassifier\n",
    "\n",
    "\n",
    "# IMPORTS FROM THE UTIL LIBRARY PROVIDED BY US\n",
    "\n",
    "import util.vis as V\n",
    "import util.helpers as H\n",
    "\n",
    "# Normally, all libraries are loaded only once, \n",
    "# even if you execute the import code multiple times\n",
    "# This code is helpful if you make your own helper libraries \n",
    "%load_ext autoreload\n",
    "%autoreload 1\n",
    "# list your libraries below with aimport: should ensure \n",
    "#they are reloaded each time without having to restart your kernel\n",
    "# in this case, our libraries are used as an example\n",
    "\n",
    "%aimport util.helpers, util.vis\n",
    "%aimport features_extraction\n",
    "%aimport augmentation\n",
    "%aimport Analysis\n",
    "%aimport validation\n",
    "%aimport preprocessing\n",
    "\n",
    "# seed random generator such that this notebook always returns the same values \n",
    "# (this is by no means necessary, but it is useful for reproducability of results)\n",
    "rng = np.random.RandomState(42)"
   ]
  },
  {
   "cell_type": "code",
   "execution_count": 2,
   "metadata": {},
   "outputs": [],
   "source": [
    "# PATHS\n",
    "\n",
    "DATA_DIR = '../data'\n",
    "POSE_DIR = '../data/pose'"
   ]
  },
  {
   "cell_type": "markdown",
   "metadata": {},
   "source": [
    "## Loading data\n",
    "Loading all the training and test data"
   ]
  },
  {
   "cell_type": "code",
   "execution_count": 3,
   "metadata": {},
   "outputs": [],
   "source": [
    "def keep_sample(sample):\n",
    "    counter = 0\n",
    "    no_hands_present = False\n",
    "    for frame in sample:\n",
    "        if (frame[4][0] == 0 or frame[7][0] == 0):\n",
    "            counter += 1\n",
    "        if (frame[4][0] == 0 and frame[7][0] == 0):\n",
    "            no_hands_present = True\n",
    "    if counter/len(sample) > 0.5 or no_hands_present:\n",
    "        return False\n",
    "    else:\n",
    "        return True\n",
    "##Loading all the training data\n",
    "dataset_file=pjoin(DATA_DIR,'labels.csv')\n",
    "\n",
    "train_samples=[]\n",
    "train_labels=[]\n",
    "train_persons = []\n",
    "train_personlabels = []\n",
    "\n",
    "with open(dataset_file) as csvfile:\n",
    "    reader = csv.reader(csvfile, delimiter=',')\n",
    "    next(reader)\n",
    "    sample_index = 0\n",
    "    preprocessing_outliers = [229, 297, 1316, 1780, 1817, 49, 495, 541, 746, 878, 2910]\n",
    "    outliers_jens_fixing_gap1 = [85 , 398 , 717 , 766 , 923 , 979 ,1111 ,1280 ,1671 ,1778 ,1960 ,1993 ,2038 ,2089, 2097, 2135 ,2140, 2145, 2417 ,2463 ,2554 ,2579, 2594, 2794, 2832 ,2975, 3138, 3211, 3215, 3325 ,3341 ,3396 ,3399 ,3482 ,3566, 3649, 3702]\n",
    "    outliers_jens_fixing_gap2 = [264,322,578,592,663,717,766,770,885,888,894,901,906,917,923,933,949,954,964,979,986,1117,1151,1152,1159,1161,1171,1199,1227,1257,1297,1573,1600,1607,1665,1671,1684,1701,1767,1778,1831,1859,1883,1930,1931,1932,1943,1960,1972,1993,1999,2037,2050,2056,2060,2089,2091,2097,2106,2119,2135,2140,2167,2191,2209,2231,2232,2235,2260,2268,2289,2334,2336,2538,2551,2554,2579,2602,2614,2637,2683,2688,2694,2699,2726,2741,2787,2803,2810,2841,2844,2845,2848,2887,2888,2893,2902,2943,2947,2954,2967,2975,2984,2990,3037,3064,3073,3078,3087,3103,3118,3119,3136,3138,3149,3170,3283,3293,3298,3305,3332,3342,3435,3475,3482,3561,3589,3590,3621,3629,3641,3649,3658,3672,3693,3697,3699,3702,3709,3710]\n",
    "    outliers_robbe_fixing_gap = [2538, 1753, 1327, 2954, 2956, 2958, 4, 1111, 1117, 1118, 2167, 1992, 1993, 1573, 1575, 1576, 977, 245, 1846, 1909, 2435, 2545, 2590, 2815, 3515, 396, 421, 434, 494, 676, 718, 795, 815, 821, 882, 977, 991, 1016, 1035, 1111, 1295, 1308, 1524, 1564, 1586, 1633, 1634, 1804]\n",
    "    #add [2538, 1753, 1327, 2954, 2956, 2958, 4, 1111, 1117, 1118]\n",
    "    for row in reader: \n",
    "        name, _gloss, label, _person = row\n",
    "        sample = np.load(pjoin(POSE_DIR, 'train', name+'.npy'))\n",
    "        #if (sample_index not in preprocessing_outliers) and (sample_index not in outliers_jens_fixing_gap1) and (sample_index not in outliers_jens_fixing_gap2) and (sample_index not in outliers_robbe_fixing_gap):            \n",
    "        if keep_sample(sample):\n",
    "            train_samples.append(sample)\n",
    "            train_labels.append(int(label))\n",
    "            train_persons.append(_person)\n",
    "            train_personlabels.append((label, _person))\n",
    "        sample_index += 1\n",
    "\n",
    "train_samples=np.array(train_samples)\n",
    "train_labels=np.array(train_labels)\n",
    "\n",
    "##Loading all the test data\n",
    "all_test_files = sorted(glob(pjoin(POSE_DIR, 'test', '*.npy')))  \n",
    "\n",
    "test_samples = []\n",
    "for numpy_file in all_test_files:\n",
    "    sample = np.load(numpy_file)\n",
    "    test_samples.append(sample)\n",
    "    \n",
    "test_samples = np.array(test_samples)"
   ]
  },
  {
   "cell_type": "markdown",
   "metadata": {},
   "source": [
    "## Data preprocessing"
   ]
  },
  {
   "cell_type": "code",
   "execution_count": 4,
   "metadata": {},
   "outputs": [
    {
     "name": "stdout",
     "output_type": "stream",
     "text": [
      "--- Centering finished ---\n",
      "--- Centering finished ---\n"
     ]
    }
   ],
   "source": [
    "train_samples = preprocessing.centering(train_samples)\n",
    "test_samples = preprocessing.centering(test_samples)"
   ]
  },
  {
   "cell_type": "markdown",
   "metadata": {},
   "source": [
    "## Extracting features"
   ]
  },
  {
   "cell_type": "code",
   "execution_count": 5,
   "metadata": {},
   "outputs": [
    {
     "name": "stderr",
     "output_type": "stream",
     "text": [
      "D:\\Anaconda3\\lib\\site-packages\\numpy\\lib\\function_base.py:3250: RuntimeWarning: All-NaN slice encountered\n",
      "  r = func(a, **kwargs)\n",
      "D:\\Anaconda3\\lib\\site-packages\\numpy\\core\\fromnumeric.py:2920: RuntimeWarning: Mean of empty slice.\n",
      "  out=out, **kwargs)\n",
      "D:\\Anaconda3\\lib\\site-packages\\numpy\\core\\_methods.py:85: RuntimeWarning: invalid value encountered in double_scalars\n",
      "  ret = ret.dtype.type(ret / rcount)\n",
      "D:\\Anaconda3\\lib\\site-packages\\numpy\\core\\_methods.py:140: RuntimeWarning: Degrees of freedom <= 0 for slice\n",
      "  keepdims=keepdims)\n",
      "D:\\Anaconda3\\lib\\site-packages\\numpy\\core\\_methods.py:110: RuntimeWarning: invalid value encountered in true_divide\n",
      "  arrmean, rcount, out=arrmean, casting='unsafe', subok=False)\n",
      "D:\\Anaconda3\\lib\\site-packages\\numpy\\core\\_methods.py:132: RuntimeWarning: invalid value encountered in double_scalars\n",
      "  ret = ret.dtype.type(ret / rcount)\n",
      "C:\\Users\\main\\Documents\\ML_competition\\features_extraction.py:1243: RuntimeWarning: invalid value encountered in true_divide\n",
      "  vector_hand_fingers = vector_hand_fingers / np.linalg.norm(vector_hand_fingers)\n"
     ]
    },
    {
     "name": "stdout",
     "output_type": "stream",
     "text": [
      "Number of features :  869\n"
     ]
    }
   ],
   "source": [
    "#Train data\n",
    "df = features_extraction.extract_features(train_samples)\n",
    "X_train = df.values\n",
    "y_train = np.array(train_labels)\n",
    "#Test data\n",
    "X_test = features_extraction.extract_features(test_samples).values\n",
    "#Number of total features\n",
    "num_features = X_train.shape[1]\n",
    "print(\"Number of features : \", num_features)\n",
    "#Correlation Matrix\n",
    "#Analysis.plot_correlation_matrix(df)"
   ]
  },
  {
   "cell_type": "markdown",
   "metadata": {},
   "source": [
    "## Loss functions\n",
    "Custom scoring functions"
   ]
  },
  {
   "cell_type": "code",
   "execution_count": 6,
   "metadata": {},
   "outputs": [],
   "source": [
    "##Custom scoring functions\n",
    "\n",
    "def top3_acc_score(y_true, proba):\n",
    "    return H.mapk(proba,y_true)\n",
    "\n",
    "def map3_score(y_true, proba):\n",
    "    return H.top3_accuracy(proba, y_true)\n",
    "    \n",
    "\n",
    "acc = make_scorer(accuracy_score)\n",
    "top3_acc = make_scorer(top3_acc_score, needs_proba=True) \n",
    "map3 = make_scorer(map3_score, needs_proba=True)\n",
    "scoring_functions = {\"acc\": acc, \"top3_acc\": top3_acc, \"map3\": map3}"
   ]
  },
  {
   "cell_type": "markdown",
   "metadata": {},
   "source": [
    "## Validation strategy"
   ]
  },
  {
   "cell_type": "code",
   "execution_count": 7,
   "metadata": {},
   "outputs": [],
   "source": [
    "##Train validate data splitter for Cross Validation\n",
    "seed = np.random.randint(1,999)\n",
    "sgkf = validation.stratified_group_k_fold(train_samples, train_labels, train_persons, 5, seed)"
   ]
  },
  {
   "cell_type": "markdown",
   "metadata": {},
   "source": [
    "## Pipeline & model training"
   ]
  },
  {
   "cell_type": "code",
   "execution_count": 22,
   "metadata": {},
   "outputs": [],
   "source": [
    "# the function below generates our rescaled pipeline model\n",
    "# with optimized hyperparameters (e.g.: regularisation parameter)\n",
    "def tune_pipeline(x_data,r_data,verbose=0):\n",
    "    pipe = Pipeline([\n",
    "        ('scale', StandardScaler()), \n",
    "        ('selectkbest', SelectKBest(f_classif)), \n",
    "        ('mlp',MLPClassifier())\n",
    "    ])\n",
    "\n",
    "    \n",
    "    # Set the parameters by cross-validation\n",
    "    tuned_parameters = {'mlp__activation': ['tanh'], #['relu', 'logistic', 'tanh'],\n",
    "                        'mlp__solver': ['sgd'], #['sgd', 'adam'],\n",
    "                        'mlp__learning_rate': ['constant', 'adaptive'] ,#['constant', 'adaptive'], \n",
    "                        'mlp__alpha': np.arange(0.001, 0.01, 0.003),\n",
    "                        'mlp__validation_fraction': [0.1, 0.2],\n",
    "                       'selectkbest__k': np.arange(250, 330, 20)}\n",
    "        \n",
    "    print(\"------ Start tuning hyperparameters ------\")\n",
    "    CV = GridSearchCV(pipe, tuned_parameters, n_jobs=-1, scoring=map3, pre_dispatch='n_jobs', cv=sgkf, verbose=2)\n",
    "    print(CV)\n",
    "    with parallel_backend('threading'):\n",
    "        CV.fit(x_data, r_data)\n",
    "    print(\"------ Tuning hyperparameters finished ------\")\n",
    "    \n",
    "    bestActivation = CV.best_params_['mlp__activation']\n",
    "    bestLearningRate = CV.best_params_['mlp__learning_rate']\n",
    "    bestSolver = CV.best_params_['mlp__solver']\n",
    "    bestK = CV.best_params_['selectkbest__k']\n",
    "    bestAlpha = CV.best_params_['mlp__alpha']\n",
    "    bestFraction = CV.best_params_['mlp__validation_fraction']\n",
    "    print(\"Optimal activation: \", bestActivation)\n",
    "    print(\"Optimal Solver: \", bestSolver)\n",
    "    print(\"Optimal learning rate: \", bestLearningRate)\n",
    "    print(\"Optimal k: \", bestK)\n",
    "    print(\"Optimal Alpha: \",  bestAlpha)\n",
    "    print(\"Optimal Fraction: \", bestFraction)\n",
    "    optimal_pipe = Pipeline([\n",
    "        ('scale', StandardScaler()), \n",
    "        ('selectkbest', SelectKBest(f_classif,k=bestK)),\n",
    "        #('pca', PCA(n_components=bestK)),\n",
    "        ('mlp',MLPClassifier(alpha = bestAlpha, validation_fraction=bestFraction ,activation=bestActivation, solver=bestSolver, learning_rate=bestLearningRate))])\n",
    "    \n",
    "    optimal_pipe.fit(x_data,r_data)  \n",
    "    \n",
    "    if verbose>0:\n",
    "    \n",
    "        print(\"Grid scores on training data set:\")\n",
    "        print()\n",
    "        cv_means = CV.cv_results_['mean_test_score']\n",
    "        print(cv_means)\n",
    "        cv_stds = CV.cv_results_['std_test_score']\n",
    "        for mean, std, params in zip(cv_means, cv_stds, CV.cv_results_['params']):\n",
    "            print(\"%0.3f (+/-%0.03f) for %r\" % (mean, std * 2, params))\n",
    "\n",
    "    return optimal_pipe, CV.cv_results_"
   ]
  },
  {
   "cell_type": "code",
   "execution_count": 23,
   "metadata": {},
   "outputs": [
    {
     "name": "stdout",
     "output_type": "stream",
     "text": [
      "------ Start tuning hyperparameters ------\n",
      "GridSearchCV(cv=<generator object stratified_group_k_fold at 0x00000149A3F246D8>,\n",
      "       error_score='raise-deprecating',\n",
      "       estimator=Pipeline(memory=None,\n",
      "     steps=[('scale', StandardScaler(copy=True, with_mean=True, with_std=True)), ('selectkbest', SelectKBest(k=10, score_func=<function f_classif at 0x00000149A8EAB1E0>)), ('mlp', MLPClassifier(activation='relu', alpha=0.0001, batch_size='auto', beta_1=0.9,\n",
      "       beta_2=0.999, early_stopping=False, epsi...=True, solver='adam', tol=0.0001,\n",
      "       validation_fraction=0.1, verbose=False, warm_start=False))]),\n",
      "       fit_params=None, iid='warn', n_jobs=-1,\n",
      "       param_grid={'mlp__activation': ['tanh'], 'mlp__solver': ['sgd'], 'mlp__learning_rate': ['constant', 'adaptive'], 'mlp__alpha': array([0.001, 0.004, 0.007, 0.01 ]), 'mlp__validation_fraction': [0.1, 0.2], 'selectkbest__k': array([250, 270, 290, 310])},\n",
      "       pre_dispatch='n_jobs', refit=True, return_train_score='warn',\n",
      "       scoring=make_scorer(map3_score, needs_proba=True), verbose=2)\n",
      "Fitting 5 folds for each of 64 candidates, totalling 320 fits\n",
      "[CV] mlp__activation=tanh, mlp__alpha=0.001, mlp__learning_rate=constant, mlp__solver=sgd, mlp__validation_fraction=0.1, selectkbest__k=250 \n",
      "[CV] mlp__activation=tanh, mlp__alpha=0.001, mlp__learning_rate=constant, mlp__solver=sgd, mlp__validation_fraction=0.1, selectkbest__k=250 \n",
      "[CV] mlp__activation=tanh, mlp__alpha=0.001, mlp__learning_rate=constant, mlp__solver=sgd, mlp__validation_fraction=0.1, selectkbest__k=250 \n",
      "[CV] mlp__activation=tanh, mlp__alpha=0.001, mlp__learning_rate=constant, mlp__solver=sgd, mlp__validation_fraction=0.1, selectkbest__k=250 \n",
      "[CV] mlp__activation=tanh, mlp__alpha=0.001, mlp__learning_rate=constant, mlp__solver=sgd, mlp__validation_fraction=0.1, selectkbest__k=250 \n",
      "[CV] mlp__activation=tanh, mlp__alpha=0.001, mlp__learning_rate=constant, mlp__solver=sgd, mlp__validation_fraction=0.1, selectkbest__k=270 \n",
      "[CV] mlp__activation=tanh, mlp__alpha=0.001, mlp__learning_rate=constant, mlp__solver=sgd, mlp__validation_fraction=0.1, selectkbest__k=270 [CV] mlp__activation=tanh, mlp__alpha=0.001, mlp__learning_rate=constant, mlp__solver=sgd, mlp__validation_fraction=0.1, selectkbest__k=270 \n",
      "\n"
     ]
    },
    {
     "name": "stderr",
     "output_type": "stream",
     "text": [
      "[Parallel(n_jobs=-1)]: Using backend ThreadingBackend with 8 concurrent workers.\n",
      "D:\\Anaconda3\\lib\\site-packages\\sklearn\\neural_network\\multilayer_perceptron.py:562: ConvergenceWarning: Stochastic Optimizer: Maximum iterations (200) reached and the optimization hasn't converged yet.\n",
      "  % self.max_iter, ConvergenceWarning)\n"
     ]
    },
    {
     "name": "stdout",
     "output_type": "stream",
     "text": [
      "[CV]  mlp__activation=tanh, mlp__alpha=0.001, mlp__learning_rate=constant, mlp__solver=sgd, mlp__validation_fraction=0.1, selectkbest__k=270, total=  24.6s\n",
      "[CV] mlp__activation=tanh, mlp__alpha=0.001, mlp__learning_rate=constant, mlp__solver=sgd, mlp__validation_fraction=0.1, selectkbest__k=270 \n"
     ]
    },
    {
     "name": "stderr",
     "output_type": "stream",
     "text": [
      "D:\\Anaconda3\\lib\\site-packages\\sklearn\\neural_network\\multilayer_perceptron.py:562: ConvergenceWarning: Stochastic Optimizer: Maximum iterations (200) reached and the optimization hasn't converged yet.\n",
      "  % self.max_iter, ConvergenceWarning)\n"
     ]
    },
    {
     "name": "stdout",
     "output_type": "stream",
     "text": [
      "[CV]  mlp__activation=tanh, mlp__alpha=0.001, mlp__learning_rate=constant, mlp__solver=sgd, mlp__validation_fraction=0.1, selectkbest__k=250, total=  25.1s\n",
      "[CV] mlp__activation=tanh, mlp__alpha=0.001, mlp__learning_rate=constant, mlp__solver=sgd, mlp__validation_fraction=0.1, selectkbest__k=270 \n"
     ]
    },
    {
     "name": "stderr",
     "output_type": "stream",
     "text": [
      "D:\\Anaconda3\\lib\\site-packages\\sklearn\\neural_network\\multilayer_perceptron.py:562: ConvergenceWarning: Stochastic Optimizer: Maximum iterations (200) reached and the optimization hasn't converged yet.\n",
      "  % self.max_iter, ConvergenceWarning)\n",
      "D:\\Anaconda3\\lib\\site-packages\\sklearn\\neural_network\\multilayer_perceptron.py:562: ConvergenceWarning: Stochastic Optimizer: Maximum iterations (200) reached and the optimization hasn't converged yet.\n",
      "  % self.max_iter, ConvergenceWarning)\n"
     ]
    },
    {
     "name": "stdout",
     "output_type": "stream",
     "text": [
      "[CV]  mlp__activation=tanh, mlp__alpha=0.001, mlp__learning_rate=constant, mlp__solver=sgd, mlp__validation_fraction=0.1, selectkbest__k=250, total=  25.7s\n",
      "[CV] mlp__activation=tanh, mlp__alpha=0.001, mlp__learning_rate=constant, mlp__solver=sgd, mlp__validation_fraction=0.1, selectkbest__k=290 \n",
      "[CV]  mlp__activation=tanh, mlp__alpha=0.001, mlp__learning_rate=constant, mlp__solver=sgd, mlp__validation_fraction=0.1, selectkbest__k=270, total=  25.8s\n",
      "[CV] mlp__activation=tanh, mlp__alpha=0.001, mlp__learning_rate=constant, mlp__solver=sgd, mlp__validation_fraction=0.1, selectkbest__k=290 "
     ]
    },
    {
     "name": "stderr",
     "output_type": "stream",
     "text": [
      "D:\\Anaconda3\\lib\\site-packages\\sklearn\\neural_network\\multilayer_perceptron.py:562: ConvergenceWarning: Stochastic Optimizer: Maximum iterations (200) reached and the optimization hasn't converged yet.\n",
      "  % self.max_iter, ConvergenceWarning)\n"
     ]
    },
    {
     "name": "stdout",
     "output_type": "stream",
     "text": [
      "\n",
      "[CV]  mlp__activation=tanh, mlp__alpha=0.001, mlp__learning_rate=constant, mlp__solver=sgd, mlp__validation_fraction=0.1, selectkbest__k=250, total=  25.9s\n",
      "[CV] mlp__activation=tanh, mlp__alpha=0.001, mlp__learning_rate=constant, mlp__solver=sgd, mlp__validation_fraction=0.1, selectkbest__k=290 \n"
     ]
    },
    {
     "name": "stderr",
     "output_type": "stream",
     "text": [
      "D:\\Anaconda3\\lib\\site-packages\\sklearn\\neural_network\\multilayer_perceptron.py:562: ConvergenceWarning: Stochastic Optimizer: Maximum iterations (200) reached and the optimization hasn't converged yet.\n",
      "  % self.max_iter, ConvergenceWarning)\n"
     ]
    },
    {
     "name": "stdout",
     "output_type": "stream",
     "text": [
      "[CV]  mlp__activation=tanh, mlp__alpha=0.001, mlp__learning_rate=constant, mlp__solver=sgd, mlp__validation_fraction=0.1, selectkbest__k=250, total=  26.2s\n",
      "[CV] mlp__activation=tanh, mlp__alpha=0.001, mlp__learning_rate=constant, mlp__solver=sgd, mlp__validation_fraction=0.1, selectkbest__k=290 \n"
     ]
    },
    {
     "name": "stderr",
     "output_type": "stream",
     "text": [
      "D:\\Anaconda3\\lib\\site-packages\\sklearn\\neural_network\\multilayer_perceptron.py:562: ConvergenceWarning: Stochastic Optimizer: Maximum iterations (200) reached and the optimization hasn't converged yet.\n",
      "  % self.max_iter, ConvergenceWarning)\n"
     ]
    },
    {
     "name": "stdout",
     "output_type": "stream",
     "text": [
      "[CV]  mlp__activation=tanh, mlp__alpha=0.001, mlp__learning_rate=constant, mlp__solver=sgd, mlp__validation_fraction=0.1, selectkbest__k=250, total=  26.6s\n",
      "[CV] mlp__activation=tanh, mlp__alpha=0.001, mlp__learning_rate=constant, mlp__solver=sgd, mlp__validation_fraction=0.1, selectkbest__k=290 \n"
     ]
    },
    {
     "name": "stderr",
     "output_type": "stream",
     "text": [
      "D:\\Anaconda3\\lib\\site-packages\\sklearn\\neural_network\\multilayer_perceptron.py:562: ConvergenceWarning: Stochastic Optimizer: Maximum iterations (200) reached and the optimization hasn't converged yet.\n",
      "  % self.max_iter, ConvergenceWarning)\n"
     ]
    },
    {
     "name": "stdout",
     "output_type": "stream",
     "text": [
      "[CV]  mlp__activation=tanh, mlp__alpha=0.001, mlp__learning_rate=constant, mlp__solver=sgd, mlp__validation_fraction=0.1, selectkbest__k=270, total=  26.9s\n",
      "[CV] mlp__activation=tanh, mlp__alpha=0.001, mlp__learning_rate=constant, mlp__solver=sgd, mlp__validation_fraction=0.1, selectkbest__k=310 \n"
     ]
    },
    {
     "name": "stderr",
     "output_type": "stream",
     "text": [
      "D:\\Anaconda3\\lib\\site-packages\\sklearn\\neural_network\\multilayer_perceptron.py:562: ConvergenceWarning: Stochastic Optimizer: Maximum iterations (200) reached and the optimization hasn't converged yet.\n",
      "  % self.max_iter, ConvergenceWarning)\n"
     ]
    },
    {
     "name": "stdout",
     "output_type": "stream",
     "text": [
      "[CV]  mlp__activation=tanh, mlp__alpha=0.001, mlp__learning_rate=constant, mlp__solver=sgd, mlp__validation_fraction=0.1, selectkbest__k=270, total=  24.3s\n",
      "[CV] mlp__activation=tanh, mlp__alpha=0.001, mlp__learning_rate=constant, mlp__solver=sgd, mlp__validation_fraction=0.1, selectkbest__k=310 \n"
     ]
    },
    {
     "name": "stderr",
     "output_type": "stream",
     "text": [
      "D:\\Anaconda3\\lib\\site-packages\\sklearn\\neural_network\\multilayer_perceptron.py:562: ConvergenceWarning: Stochastic Optimizer: Maximum iterations (200) reached and the optimization hasn't converged yet.\n",
      "  % self.max_iter, ConvergenceWarning)\n"
     ]
    },
    {
     "name": "stdout",
     "output_type": "stream",
     "text": [
      "[CV]  mlp__activation=tanh, mlp__alpha=0.001, mlp__learning_rate=constant, mlp__solver=sgd, mlp__validation_fraction=0.1, selectkbest__k=270, total=  26.0s\n",
      "[CV] mlp__activation=tanh, mlp__alpha=0.001, mlp__learning_rate=constant, mlp__solver=sgd, mlp__validation_fraction=0.1, selectkbest__k=310 \n"
     ]
    },
    {
     "name": "stderr",
     "output_type": "stream",
     "text": [
      "D:\\Anaconda3\\lib\\site-packages\\sklearn\\neural_network\\multilayer_perceptron.py:562: ConvergenceWarning: Stochastic Optimizer: Maximum iterations (200) reached and the optimization hasn't converged yet.\n",
      "  % self.max_iter, ConvergenceWarning)\n"
     ]
    },
    {
     "name": "stdout",
     "output_type": "stream",
     "text": [
      "[CV]  mlp__activation=tanh, mlp__alpha=0.001, mlp__learning_rate=constant, mlp__solver=sgd, mlp__validation_fraction=0.1, selectkbest__k=290, total=  26.2s\n",
      "[CV] mlp__activation=tanh, mlp__alpha=0.001, mlp__learning_rate=constant, mlp__solver=sgd, mlp__validation_fraction=0.1, selectkbest__k=310 \n"
     ]
    },
    {
     "name": "stderr",
     "output_type": "stream",
     "text": [
      "D:\\Anaconda3\\lib\\site-packages\\sklearn\\neural_network\\multilayer_perceptron.py:562: ConvergenceWarning: Stochastic Optimizer: Maximum iterations (200) reached and the optimization hasn't converged yet.\n",
      "  % self.max_iter, ConvergenceWarning)\n",
      "D:\\Anaconda3\\lib\\site-packages\\sklearn\\neural_network\\multilayer_perceptron.py:562: ConvergenceWarning: Stochastic Optimizer: Maximum iterations (200) reached and the optimization hasn't converged yet.\n",
      "  % self.max_iter, ConvergenceWarning)\n"
     ]
    },
    {
     "name": "stdout",
     "output_type": "stream",
     "text": [
      "[CV]  mlp__activation=tanh, mlp__alpha=0.001, mlp__learning_rate=constant, mlp__solver=sgd, mlp__validation_fraction=0.1, selectkbest__k=290, total=  26.4s\n",
      "[CV] mlp__activation=tanh, mlp__alpha=0.001, mlp__learning_rate=constant, mlp__solver=sgd, mlp__validation_fraction=0.1, selectkbest__k=310 \n",
      "[CV]  mlp__activation=tanh, mlp__alpha=0.001, mlp__learning_rate=constant, mlp__solver=sgd, mlp__validation_fraction=0.1, selectkbest__k=290, total=  26.2s\n",
      "[CV] mlp__activation=tanh, mlp__alpha=0.001, mlp__learning_rate=constant, mlp__solver=sgd, mlp__validation_fraction=0.2, selectkbest__k=250 \n"
     ]
    },
    {
     "name": "stderr",
     "output_type": "stream",
     "text": [
      "D:\\Anaconda3\\lib\\site-packages\\sklearn\\neural_network\\multilayer_perceptron.py:562: ConvergenceWarning: Stochastic Optimizer: Maximum iterations (200) reached and the optimization hasn't converged yet.\n",
      "  % self.max_iter, ConvergenceWarning)\n"
     ]
    },
    {
     "name": "stdout",
     "output_type": "stream",
     "text": [
      "[CV]  mlp__activation=tanh, mlp__alpha=0.001, mlp__learning_rate=constant, mlp__solver=sgd, mlp__validation_fraction=0.1, selectkbest__k=290, total=  26.8s\n",
      "[CV] mlp__activation=tanh, mlp__alpha=0.001, mlp__learning_rate=constant, mlp__solver=sgd, mlp__validation_fraction=0.2, selectkbest__k=250 \n"
     ]
    },
    {
     "name": "stderr",
     "output_type": "stream",
     "text": [
      "D:\\Anaconda3\\lib\\site-packages\\sklearn\\neural_network\\multilayer_perceptron.py:562: ConvergenceWarning: Stochastic Optimizer: Maximum iterations (200) reached and the optimization hasn't converged yet.\n",
      "  % self.max_iter, ConvergenceWarning)\n"
     ]
    },
    {
     "name": "stdout",
     "output_type": "stream",
     "text": [
      "[CV]  mlp__activation=tanh, mlp__alpha=0.001, mlp__learning_rate=constant, mlp__solver=sgd, mlp__validation_fraction=0.1, selectkbest__k=290, total=  26.8s\n",
      "[CV] mlp__activation=tanh, mlp__alpha=0.001, mlp__learning_rate=constant, mlp__solver=sgd, mlp__validation_fraction=0.2, selectkbest__k=250 \n"
     ]
    },
    {
     "name": "stderr",
     "output_type": "stream",
     "text": [
      "D:\\Anaconda3\\lib\\site-packages\\sklearn\\neural_network\\multilayer_perceptron.py:562: ConvergenceWarning: Stochastic Optimizer: Maximum iterations (200) reached and the optimization hasn't converged yet.\n",
      "  % self.max_iter, ConvergenceWarning)\n"
     ]
    },
    {
     "name": "stdout",
     "output_type": "stream",
     "text": [
      "[CV]  mlp__activation=tanh, mlp__alpha=0.001, mlp__learning_rate=constant, mlp__solver=sgd, mlp__validation_fraction=0.1, selectkbest__k=310, total=  27.1s\n",
      "[CV] mlp__activation=tanh, mlp__alpha=0.001, mlp__learning_rate=constant, mlp__solver=sgd, mlp__validation_fraction=0.2, selectkbest__k=250 \n"
     ]
    },
    {
     "name": "stderr",
     "output_type": "stream",
     "text": [
      "D:\\Anaconda3\\lib\\site-packages\\sklearn\\neural_network\\multilayer_perceptron.py:562: ConvergenceWarning: Stochastic Optimizer: Maximum iterations (200) reached and the optimization hasn't converged yet.\n",
      "  % self.max_iter, ConvergenceWarning)\n"
     ]
    },
    {
     "name": "stdout",
     "output_type": "stream",
     "text": [
      "[CV]  mlp__activation=tanh, mlp__alpha=0.001, mlp__learning_rate=constant, mlp__solver=sgd, mlp__validation_fraction=0.1, selectkbest__k=310, total=  25.3s\n",
      "[CV] mlp__activation=tanh, mlp__alpha=0.001, mlp__learning_rate=constant, mlp__solver=sgd, mlp__validation_fraction=0.2, selectkbest__k=250 \n"
     ]
    },
    {
     "name": "stderr",
     "output_type": "stream",
     "text": [
      "D:\\Anaconda3\\lib\\site-packages\\sklearn\\neural_network\\multilayer_perceptron.py:562: ConvergenceWarning: Stochastic Optimizer: Maximum iterations (200) reached and the optimization hasn't converged yet.\n",
      "  % self.max_iter, ConvergenceWarning)\n"
     ]
    },
    {
     "name": "stdout",
     "output_type": "stream",
     "text": [
      "[CV]  mlp__activation=tanh, mlp__alpha=0.001, mlp__learning_rate=constant, mlp__solver=sgd, mlp__validation_fraction=0.1, selectkbest__k=310, total=  25.7s\n",
      "[CV] mlp__activation=tanh, mlp__alpha=0.001, mlp__learning_rate=constant, mlp__solver=sgd, mlp__validation_fraction=0.2, selectkbest__k=270 \n"
     ]
    },
    {
     "name": "stderr",
     "output_type": "stream",
     "text": [
      "D:\\Anaconda3\\lib\\site-packages\\sklearn\\neural_network\\multilayer_perceptron.py:562: ConvergenceWarning: Stochastic Optimizer: Maximum iterations (200) reached and the optimization hasn't converged yet.\n",
      "  % self.max_iter, ConvergenceWarning)\n",
      "D:\\Anaconda3\\lib\\site-packages\\sklearn\\neural_network\\multilayer_perceptron.py:562: ConvergenceWarning: Stochastic Optimizer: Maximum iterations (200) reached and the optimization hasn't converged yet.\n",
      "  % self.max_iter, ConvergenceWarning)\n",
      "D:\\Anaconda3\\lib\\site-packages\\sklearn\\neural_network\\multilayer_perceptron.py:562: ConvergenceWarning: Stochastic Optimizer: Maximum iterations (200) reached and the optimization hasn't converged yet.\n",
      "  % self.max_iter, ConvergenceWarning)\n"
     ]
    },
    {
     "name": "stdout",
     "output_type": "stream",
     "text": [
      "[CV]  mlp__activation=tanh, mlp__alpha=0.001, mlp__learning_rate=constant, mlp__solver=sgd, mlp__validation_fraction=0.2, selectkbest__k=250, total=  24.9s\n",
      "[CV] mlp__activation=tanh, mlp__alpha=0.001, mlp__learning_rate=constant, mlp__solver=sgd, mlp__validation_fraction=0.2, selectkbest__k=270 \n",
      "[CV]  mlp__activation=tanh, mlp__alpha=0.001, mlp__learning_rate=constant, mlp__solver=sgd, mlp__validation_fraction=0.1, selectkbest__k=310, total=  25.4s\n",
      "[CV] mlp__activation=tanh, mlp__alpha=0.001, mlp__learning_rate=constant, mlp__solver=sgd, mlp__validation_fraction=0.2, selectkbest__k=270 \n",
      "[CV]  mlp__activation=tanh, mlp__alpha=0.001, mlp__learning_rate=constant, mlp__solver=sgd, mlp__validation_fraction=0.2, selectkbest__k=250, total=  24.7s\n",
      "[CV] mlp__activation=tanh, mlp__alpha=0.001, mlp__learning_rate=constant, mlp__solver=sgd, mlp__validation_fraction=0.2, selectkbest__k=270 \n"
     ]
    },
    {
     "name": "stderr",
     "output_type": "stream",
     "text": [
      "D:\\Anaconda3\\lib\\site-packages\\sklearn\\neural_network\\multilayer_perceptron.py:562: ConvergenceWarning: Stochastic Optimizer: Maximum iterations (200) reached and the optimization hasn't converged yet.\n",
      "  % self.max_iter, ConvergenceWarning)\n"
     ]
    },
    {
     "name": "stdout",
     "output_type": "stream",
     "text": [
      "[CV]  mlp__activation=tanh, mlp__alpha=0.001, mlp__learning_rate=constant, mlp__solver=sgd, mlp__validation_fraction=0.1, selectkbest__k=310, total=  25.8s\n",
      "[CV] mlp__activation=tanh, mlp__alpha=0.001, mlp__learning_rate=constant, mlp__solver=sgd, mlp__validation_fraction=0.2, selectkbest__k=270 \n"
     ]
    },
    {
     "name": "stderr",
     "output_type": "stream",
     "text": [
      "D:\\Anaconda3\\lib\\site-packages\\sklearn\\neural_network\\multilayer_perceptron.py:562: ConvergenceWarning: Stochastic Optimizer: Maximum iterations (200) reached and the optimization hasn't converged yet.\n",
      "  % self.max_iter, ConvergenceWarning)\n",
      "D:\\Anaconda3\\lib\\site-packages\\sklearn\\neural_network\\multilayer_perceptron.py:562: ConvergenceWarning: Stochastic Optimizer: Maximum iterations (200) reached and the optimization hasn't converged yet.\n",
      "  % self.max_iter, ConvergenceWarning)\n"
     ]
    },
    {
     "name": "stdout",
     "output_type": "stream",
     "text": [
      "[CV]  mlp__activation=tanh, mlp__alpha=0.001, mlp__learning_rate=constant, mlp__solver=sgd, mlp__validation_fraction=0.2, selectkbest__k=250, total=  25.0s\n",
      "[CV] mlp__activation=tanh, mlp__alpha=0.001, mlp__learning_rate=constant, mlp__solver=sgd, mlp__validation_fraction=0.2, selectkbest__k=290 \n",
      "[CV]  mlp__activation=tanh, mlp__alpha=0.001, mlp__learning_rate=constant, mlp__solver=sgd, mlp__validation_fraction=0.2, selectkbest__k=250, total=  24.6s\n",
      "[CV] mlp__activation=tanh, mlp__alpha=0.001, mlp__learning_rate=constant, mlp__solver=sgd, mlp__validation_fraction=0.2, selectkbest__k=290 \n"
     ]
    },
    {
     "name": "stderr",
     "output_type": "stream",
     "text": [
      "D:\\Anaconda3\\lib\\site-packages\\sklearn\\neural_network\\multilayer_perceptron.py:562: ConvergenceWarning: Stochastic Optimizer: Maximum iterations (200) reached and the optimization hasn't converged yet.\n",
      "  % self.max_iter, ConvergenceWarning)\n"
     ]
    },
    {
     "name": "stdout",
     "output_type": "stream",
     "text": [
      "[CV]  mlp__activation=tanh, mlp__alpha=0.001, mlp__learning_rate=constant, mlp__solver=sgd, mlp__validation_fraction=0.2, selectkbest__k=250, total=  25.3s\n",
      "[CV] mlp__activation=tanh, mlp__alpha=0.001, mlp__learning_rate=constant, mlp__solver=sgd, mlp__validation_fraction=0.2, selectkbest__k=290 \n"
     ]
    },
    {
     "name": "stderr",
     "output_type": "stream",
     "text": [
      "D:\\Anaconda3\\lib\\site-packages\\sklearn\\neural_network\\multilayer_perceptron.py:562: ConvergenceWarning: Stochastic Optimizer: Maximum iterations (200) reached and the optimization hasn't converged yet.\n",
      "  % self.max_iter, ConvergenceWarning)\n"
     ]
    },
    {
     "name": "stdout",
     "output_type": "stream",
     "text": [
      "[CV]  mlp__activation=tanh, mlp__alpha=0.001, mlp__learning_rate=constant, mlp__solver=sgd, mlp__validation_fraction=0.2, selectkbest__k=270, total=  26.8s\n",
      "[CV] mlp__activation=tanh, mlp__alpha=0.001, mlp__learning_rate=constant, mlp__solver=sgd, mlp__validation_fraction=0.2, selectkbest__k=290 \n"
     ]
    },
    {
     "name": "stderr",
     "output_type": "stream",
     "text": [
      "D:\\Anaconda3\\lib\\site-packages\\sklearn\\neural_network\\multilayer_perceptron.py:562: ConvergenceWarning: Stochastic Optimizer: Maximum iterations (200) reached and the optimization hasn't converged yet.\n",
      "  % self.max_iter, ConvergenceWarning)\n"
     ]
    },
    {
     "name": "stdout",
     "output_type": "stream",
     "text": [
      "[CV]  mlp__activation=tanh, mlp__alpha=0.001, mlp__learning_rate=constant, mlp__solver=sgd, mlp__validation_fraction=0.2, selectkbest__k=270, total=  26.6s\n",
      "[CV] mlp__activation=tanh, mlp__alpha=0.001, mlp__learning_rate=constant, mlp__solver=sgd, mlp__validation_fraction=0.2, selectkbest__k=290 \n"
     ]
    },
    {
     "name": "stderr",
     "output_type": "stream",
     "text": [
      "D:\\Anaconda3\\lib\\site-packages\\sklearn\\neural_network\\multilayer_perceptron.py:562: ConvergenceWarning: Stochastic Optimizer: Maximum iterations (200) reached and the optimization hasn't converged yet.\n",
      "  % self.max_iter, ConvergenceWarning)\n"
     ]
    },
    {
     "name": "stdout",
     "output_type": "stream",
     "text": [
      "[CV]  mlp__activation=tanh, mlp__alpha=0.001, mlp__learning_rate=constant, mlp__solver=sgd, mlp__validation_fraction=0.2, selectkbest__k=270, total=  26.8s\n",
      "[CV] mlp__activation=tanh, mlp__alpha=0.001, mlp__learning_rate=constant, mlp__solver=sgd, mlp__validation_fraction=0.2, selectkbest__k=310 \n"
     ]
    },
    {
     "name": "stderr",
     "output_type": "stream",
     "text": [
      "D:\\Anaconda3\\lib\\site-packages\\sklearn\\neural_network\\multilayer_perceptron.py:562: ConvergenceWarning: Stochastic Optimizer: Maximum iterations (200) reached and the optimization hasn't converged yet.\n",
      "  % self.max_iter, ConvergenceWarning)\n"
     ]
    },
    {
     "name": "stdout",
     "output_type": "stream",
     "text": [
      "[CV]  mlp__activation=tanh, mlp__alpha=0.001, mlp__learning_rate=constant, mlp__solver=sgd, mlp__validation_fraction=0.2, selectkbest__k=270, total=  27.3s\n",
      "[CV] mlp__activation=tanh, mlp__alpha=0.001, mlp__learning_rate=constant, mlp__solver=sgd, mlp__validation_fraction=0.2, selectkbest__k=310 \n"
     ]
    },
    {
     "name": "stderr",
     "output_type": "stream",
     "text": [
      "D:\\Anaconda3\\lib\\site-packages\\sklearn\\neural_network\\multilayer_perceptron.py:562: ConvergenceWarning: Stochastic Optimizer: Maximum iterations (200) reached and the optimization hasn't converged yet.\n",
      "  % self.max_iter, ConvergenceWarning)\n"
     ]
    },
    {
     "name": "stdout",
     "output_type": "stream",
     "text": [
      "[CV]  mlp__activation=tanh, mlp__alpha=0.001, mlp__learning_rate=constant, mlp__solver=sgd, mlp__validation_fraction=0.2, selectkbest__k=270, total=  27.1s\n",
      "[CV] mlp__activation=tanh, mlp__alpha=0.001, mlp__learning_rate=constant, mlp__solver=sgd, mlp__validation_fraction=0.2, selectkbest__k=310 \n"
     ]
    },
    {
     "name": "stderr",
     "output_type": "stream",
     "text": [
      "D:\\Anaconda3\\lib\\site-packages\\sklearn\\neural_network\\multilayer_perceptron.py:562: ConvergenceWarning: Stochastic Optimizer: Maximum iterations (200) reached and the optimization hasn't converged yet.\n",
      "  % self.max_iter, ConvergenceWarning)\n",
      "D:\\Anaconda3\\lib\\site-packages\\sklearn\\neural_network\\multilayer_perceptron.py:562: ConvergenceWarning: Stochastic Optimizer: Maximum iterations (200) reached and the optimization hasn't converged yet.\n",
      "  % self.max_iter, ConvergenceWarning)\n"
     ]
    },
    {
     "name": "stdout",
     "output_type": "stream",
     "text": [
      "[CV]  mlp__activation=tanh, mlp__alpha=0.001, mlp__learning_rate=constant, mlp__solver=sgd, mlp__validation_fraction=0.2, selectkbest__k=290, total=  27.7s\n",
      "[CV] mlp__activation=tanh, mlp__alpha=0.001, mlp__learning_rate=constant, mlp__solver=sgd, mlp__validation_fraction=0.2, selectkbest__k=310 \n",
      "[CV]  mlp__activation=tanh, mlp__alpha=0.001, mlp__learning_rate=constant, mlp__solver=sgd, mlp__validation_fraction=0.2, selectkbest__k=290, total=  27.9s\n",
      "[CV] mlp__activation=tanh, mlp__alpha=0.001, mlp__learning_rate=constant, mlp__solver=sgd, mlp__validation_fraction=0.2, selectkbest__k=310 \n"
     ]
    },
    {
     "name": "stderr",
     "output_type": "stream",
     "text": [
      "D:\\Anaconda3\\lib\\site-packages\\sklearn\\neural_network\\multilayer_perceptron.py:562: ConvergenceWarning: Stochastic Optimizer: Maximum iterations (200) reached and the optimization hasn't converged yet.\n",
      "  % self.max_iter, ConvergenceWarning)\n",
      "[Parallel(n_jobs=-1)]: Done  33 tasks      | elapsed:  2.1min\n"
     ]
    },
    {
     "name": "stdout",
     "output_type": "stream",
     "text": [
      "[CV]  mlp__activation=tanh, mlp__alpha=0.001, mlp__learning_rate=constant, mlp__solver=sgd, mlp__validation_fraction=0.2, selectkbest__k=290, total=  26.1s\n",
      "[CV] mlp__activation=tanh, mlp__alpha=0.001, mlp__learning_rate=adaptive, mlp__solver=sgd, mlp__validation_fraction=0.1, selectkbest__k=250 \n"
     ]
    },
    {
     "name": "stderr",
     "output_type": "stream",
     "text": [
      "D:\\Anaconda3\\lib\\site-packages\\sklearn\\neural_network\\multilayer_perceptron.py:562: ConvergenceWarning: Stochastic Optimizer: Maximum iterations (200) reached and the optimization hasn't converged yet.\n",
      "  % self.max_iter, ConvergenceWarning)\n"
     ]
    },
    {
     "name": "stdout",
     "output_type": "stream",
     "text": [
      "[CV]  mlp__activation=tanh, mlp__alpha=0.001, mlp__learning_rate=constant, mlp__solver=sgd, mlp__validation_fraction=0.2, selectkbest__k=290, total=  28.7s\n",
      "[CV] mlp__activation=tanh, mlp__alpha=0.001, mlp__learning_rate=adaptive, mlp__solver=sgd, mlp__validation_fraction=0.1, selectkbest__k=250 \n"
     ]
    },
    {
     "name": "stderr",
     "output_type": "stream",
     "text": [
      "D:\\Anaconda3\\lib\\site-packages\\sklearn\\neural_network\\multilayer_perceptron.py:562: ConvergenceWarning: Stochastic Optimizer: Maximum iterations (200) reached and the optimization hasn't converged yet.\n",
      "  % self.max_iter, ConvergenceWarning)\n"
     ]
    },
    {
     "name": "stdout",
     "output_type": "stream",
     "text": [
      "[CV]  mlp__activation=tanh, mlp__alpha=0.001, mlp__learning_rate=constant, mlp__solver=sgd, mlp__validation_fraction=0.2, selectkbest__k=290, total=  29.2s\n",
      "[CV] mlp__activation=tanh, mlp__alpha=0.001, mlp__learning_rate=adaptive, mlp__solver=sgd, mlp__validation_fraction=0.1, selectkbest__k=250 \n"
     ]
    },
    {
     "name": "stderr",
     "output_type": "stream",
     "text": [
      "D:\\Anaconda3\\lib\\site-packages\\sklearn\\neural_network\\multilayer_perceptron.py:562: ConvergenceWarning: Stochastic Optimizer: Maximum iterations (200) reached and the optimization hasn't converged yet.\n",
      "  % self.max_iter, ConvergenceWarning)\n",
      "D:\\Anaconda3\\lib\\site-packages\\sklearn\\neural_network\\multilayer_perceptron.py:562: ConvergenceWarning: Stochastic Optimizer: Maximum iterations (200) reached and the optimization hasn't converged yet.\n",
      "  % self.max_iter, ConvergenceWarning)\n",
      "D:\\Anaconda3\\lib\\site-packages\\sklearn\\neural_network\\multilayer_perceptron.py:562: ConvergenceWarning: Stochastic Optimizer: Maximum iterations (200) reached and the optimization hasn't converged yet.\n",
      "  % self.max_iter, ConvergenceWarning)\n"
     ]
    },
    {
     "name": "stdout",
     "output_type": "stream",
     "text": [
      "[CV]  mlp__activation=tanh, mlp__alpha=0.001, mlp__learning_rate=constant, mlp__solver=sgd, mlp__validation_fraction=0.2, selectkbest__k=310, total=  30.2s\n",
      "[CV] mlp__activation=tanh, mlp__alpha=0.001, mlp__learning_rate=adaptive, mlp__solver=sgd, mlp__validation_fraction=0.1, selectkbest__k=250 \n",
      "[CV]  mlp__activation=tanh, mlp__alpha=0.001, mlp__learning_rate=constant, mlp__solver=sgd, mlp__validation_fraction=0.2, selectkbest__k=310, total=  30.1s\n",
      "[CV] mlp__activation=tanh, mlp__alpha=0.001, mlp__learning_rate=adaptive, mlp__solver=sgd, mlp__validation_fraction=0.1, selectkbest__k=250 \n",
      "[CV]  mlp__activation=tanh, mlp__alpha=0.001, mlp__learning_rate=constant, mlp__solver=sgd, mlp__validation_fraction=0.2, selectkbest__k=310, total=  29.6s\n",
      "[CV] mlp__activation=tanh, mlp__alpha=0.001, mlp__learning_rate=adaptive, mlp__solver=sgd, mlp__validation_fraction=0.1, selectkbest__k=270 \n"
     ]
    },
    {
     "name": "stderr",
     "output_type": "stream",
     "text": [
      "D:\\Anaconda3\\lib\\site-packages\\sklearn\\neural_network\\multilayer_perceptron.py:562: ConvergenceWarning: Stochastic Optimizer: Maximum iterations (200) reached and the optimization hasn't converged yet.\n",
      "  % self.max_iter, ConvergenceWarning)\n"
     ]
    },
    {
     "name": "stdout",
     "output_type": "stream",
     "text": [
      "[CV]  mlp__activation=tanh, mlp__alpha=0.001, mlp__learning_rate=constant, mlp__solver=sgd, mlp__validation_fraction=0.2, selectkbest__k=310, total=  29.8s\n",
      "[CV] mlp__activation=tanh, mlp__alpha=0.001, mlp__learning_rate=adaptive, mlp__solver=sgd, mlp__validation_fraction=0.1, selectkbest__k=270 \n"
     ]
    },
    {
     "name": "stderr",
     "output_type": "stream",
     "text": [
      "D:\\Anaconda3\\lib\\site-packages\\sklearn\\neural_network\\multilayer_perceptron.py:562: ConvergenceWarning: Stochastic Optimizer: Maximum iterations (200) reached and the optimization hasn't converged yet.\n",
      "  % self.max_iter, ConvergenceWarning)\n"
     ]
    },
    {
     "name": "stdout",
     "output_type": "stream",
     "text": [
      "[CV]  mlp__activation=tanh, mlp__alpha=0.001, mlp__learning_rate=constant, mlp__solver=sgd, mlp__validation_fraction=0.2, selectkbest__k=310, total=  30.4s\n",
      "[CV] mlp__activation=tanh, mlp__alpha=0.001, mlp__learning_rate=adaptive, mlp__solver=sgd, mlp__validation_fraction=0.1, selectkbest__k=270 \n"
     ]
    },
    {
     "name": "stderr",
     "output_type": "stream",
     "text": [
      "D:\\Anaconda3\\lib\\site-packages\\sklearn\\neural_network\\multilayer_perceptron.py:562: ConvergenceWarning: Stochastic Optimizer: Maximum iterations (200) reached and the optimization hasn't converged yet.\n",
      "  % self.max_iter, ConvergenceWarning)\n"
     ]
    },
    {
     "name": "stdout",
     "output_type": "stream",
     "text": [
      "[CV]  mlp__activation=tanh, mlp__alpha=0.001, mlp__learning_rate=adaptive, mlp__solver=sgd, mlp__validation_fraction=0.1, selectkbest__k=250, total=  25.0s\n",
      "[CV] mlp__activation=tanh, mlp__alpha=0.001, mlp__learning_rate=adaptive, mlp__solver=sgd, mlp__validation_fraction=0.1, selectkbest__k=270 \n"
     ]
    },
    {
     "name": "stderr",
     "output_type": "stream",
     "text": [
      "D:\\Anaconda3\\lib\\site-packages\\sklearn\\neural_network\\multilayer_perceptron.py:562: ConvergenceWarning: Stochastic Optimizer: Maximum iterations (200) reached and the optimization hasn't converged yet.\n",
      "  % self.max_iter, ConvergenceWarning)\n"
     ]
    },
    {
     "name": "stdout",
     "output_type": "stream",
     "text": [
      "[CV]  mlp__activation=tanh, mlp__alpha=0.001, mlp__learning_rate=adaptive, mlp__solver=sgd, mlp__validation_fraction=0.1, selectkbest__k=250, total=  25.5s\n",
      "[CV] mlp__activation=tanh, mlp__alpha=0.001, mlp__learning_rate=adaptive, mlp__solver=sgd, mlp__validation_fraction=0.1, selectkbest__k=270 \n"
     ]
    },
    {
     "name": "stderr",
     "output_type": "stream",
     "text": [
      "D:\\Anaconda3\\lib\\site-packages\\sklearn\\neural_network\\multilayer_perceptron.py:562: ConvergenceWarning: Stochastic Optimizer: Maximum iterations (200) reached and the optimization hasn't converged yet.\n",
      "  % self.max_iter, ConvergenceWarning)\n"
     ]
    },
    {
     "name": "stdout",
     "output_type": "stream",
     "text": [
      "[CV]  mlp__activation=tanh, mlp__alpha=0.001, mlp__learning_rate=adaptive, mlp__solver=sgd, mlp__validation_fraction=0.1, selectkbest__k=250, total=  25.5s\n",
      "[CV] mlp__activation=tanh, mlp__alpha=0.001, mlp__learning_rate=adaptive, mlp__solver=sgd, mlp__validation_fraction=0.1, selectkbest__k=290 \n"
     ]
    },
    {
     "name": "stderr",
     "output_type": "stream",
     "text": [
      "D:\\Anaconda3\\lib\\site-packages\\sklearn\\neural_network\\multilayer_perceptron.py:562: ConvergenceWarning: Stochastic Optimizer: Maximum iterations (200) reached and the optimization hasn't converged yet.\n",
      "  % self.max_iter, ConvergenceWarning)\n"
     ]
    },
    {
     "name": "stdout",
     "output_type": "stream",
     "text": [
      "[CV]  mlp__activation=tanh, mlp__alpha=0.001, mlp__learning_rate=adaptive, mlp__solver=sgd, mlp__validation_fraction=0.1, selectkbest__k=250, total=  25.4s\n",
      "[CV] mlp__activation=tanh, mlp__alpha=0.001, mlp__learning_rate=adaptive, mlp__solver=sgd, mlp__validation_fraction=0.1, selectkbest__k=290 \n"
     ]
    },
    {
     "name": "stderr",
     "output_type": "stream",
     "text": [
      "D:\\Anaconda3\\lib\\site-packages\\sklearn\\neural_network\\multilayer_perceptron.py:562: ConvergenceWarning: Stochastic Optimizer: Maximum iterations (200) reached and the optimization hasn't converged yet.\n",
      "  % self.max_iter, ConvergenceWarning)\n",
      "D:\\Anaconda3\\lib\\site-packages\\sklearn\\neural_network\\multilayer_perceptron.py:562: ConvergenceWarning: Stochastic Optimizer: Maximum iterations (200) reached and the optimization hasn't converged yet.\n",
      "  % self.max_iter, ConvergenceWarning)\n"
     ]
    },
    {
     "name": "stdout",
     "output_type": "stream",
     "text": [
      "[CV]  mlp__activation=tanh, mlp__alpha=0.001, mlp__learning_rate=adaptive, mlp__solver=sgd, mlp__validation_fraction=0.1, selectkbest__k=270, total=  26.3s\n",
      "[CV] mlp__activation=tanh, mlp__alpha=0.001, mlp__learning_rate=adaptive, mlp__solver=sgd, mlp__validation_fraction=0.1, selectkbest__k=290 \n",
      "[CV]  mlp__activation=tanh, mlp__alpha=0.001, mlp__learning_rate=adaptive, mlp__solver=sgd, mlp__validation_fraction=0.1, selectkbest__k=250, total=  26.4s\n",
      "[CV] mlp__activation=tanh, mlp__alpha=0.001, mlp__learning_rate=adaptive, mlp__solver=sgd, mlp__validation_fraction=0.1, selectkbest__k=290 \n"
     ]
    },
    {
     "name": "stderr",
     "output_type": "stream",
     "text": [
      "D:\\Anaconda3\\lib\\site-packages\\sklearn\\neural_network\\multilayer_perceptron.py:562: ConvergenceWarning: Stochastic Optimizer: Maximum iterations (200) reached and the optimization hasn't converged yet.\n",
      "  % self.max_iter, ConvergenceWarning)\n"
     ]
    },
    {
     "name": "stdout",
     "output_type": "stream",
     "text": [
      "[CV]  mlp__activation=tanh, mlp__alpha=0.001, mlp__learning_rate=adaptive, mlp__solver=sgd, mlp__validation_fraction=0.1, selectkbest__k=270, total=  26.9s\n",
      "[CV] mlp__activation=tanh, mlp__alpha=0.001, mlp__learning_rate=adaptive, mlp__solver=sgd, mlp__validation_fraction=0.1, selectkbest__k=290 \n"
     ]
    },
    {
     "name": "stderr",
     "output_type": "stream",
     "text": [
      "D:\\Anaconda3\\lib\\site-packages\\sklearn\\neural_network\\multilayer_perceptron.py:562: ConvergenceWarning: Stochastic Optimizer: Maximum iterations (200) reached and the optimization hasn't converged yet.\n",
      "  % self.max_iter, ConvergenceWarning)\n"
     ]
    },
    {
     "name": "stdout",
     "output_type": "stream",
     "text": [
      "[CV]  mlp__activation=tanh, mlp__alpha=0.001, mlp__learning_rate=adaptive, mlp__solver=sgd, mlp__validation_fraction=0.1, selectkbest__k=270, total=  26.8s\n",
      "[CV] mlp__activation=tanh, mlp__alpha=0.001, mlp__learning_rate=adaptive, mlp__solver=sgd, mlp__validation_fraction=0.1, selectkbest__k=310 \n"
     ]
    },
    {
     "name": "stderr",
     "output_type": "stream",
     "text": [
      "D:\\Anaconda3\\lib\\site-packages\\sklearn\\neural_network\\multilayer_perceptron.py:562: ConvergenceWarning: Stochastic Optimizer: Maximum iterations (200) reached and the optimization hasn't converged yet.\n",
      "  % self.max_iter, ConvergenceWarning)\n"
     ]
    },
    {
     "name": "stdout",
     "output_type": "stream",
     "text": [
      "[CV]  mlp__activation=tanh, mlp__alpha=0.001, mlp__learning_rate=adaptive, mlp__solver=sgd, mlp__validation_fraction=0.1, selectkbest__k=270, total=  24.7s\n",
      "[CV] mlp__activation=tanh, mlp__alpha=0.001, mlp__learning_rate=adaptive, mlp__solver=sgd, mlp__validation_fraction=0.1, selectkbest__k=310 \n"
     ]
    },
    {
     "name": "stderr",
     "output_type": "stream",
     "text": [
      "D:\\Anaconda3\\lib\\site-packages\\sklearn\\neural_network\\multilayer_perceptron.py:562: ConvergenceWarning: Stochastic Optimizer: Maximum iterations (200) reached and the optimization hasn't converged yet.\n",
      "  % self.max_iter, ConvergenceWarning)\n"
     ]
    },
    {
     "name": "stdout",
     "output_type": "stream",
     "text": [
      "[CV]  mlp__activation=tanh, mlp__alpha=0.001, mlp__learning_rate=adaptive, mlp__solver=sgd, mlp__validation_fraction=0.1, selectkbest__k=270, total=  26.5s\n",
      "[CV] mlp__activation=tanh, mlp__alpha=0.001, mlp__learning_rate=adaptive, mlp__solver=sgd, mlp__validation_fraction=0.1, selectkbest__k=310 \n"
     ]
    },
    {
     "name": "stderr",
     "output_type": "stream",
     "text": [
      "D:\\Anaconda3\\lib\\site-packages\\sklearn\\neural_network\\multilayer_perceptron.py:562: ConvergenceWarning: Stochastic Optimizer: Maximum iterations (200) reached and the optimization hasn't converged yet.\n",
      "  % self.max_iter, ConvergenceWarning)\n"
     ]
    },
    {
     "name": "stdout",
     "output_type": "stream",
     "text": [
      "[CV]  mlp__activation=tanh, mlp__alpha=0.001, mlp__learning_rate=adaptive, mlp__solver=sgd, mlp__validation_fraction=0.1, selectkbest__k=290, total=  26.6s\n",
      "[CV] mlp__activation=tanh, mlp__alpha=0.001, mlp__learning_rate=adaptive, mlp__solver=sgd, mlp__validation_fraction=0.1, selectkbest__k=310 \n"
     ]
    },
    {
     "name": "stderr",
     "output_type": "stream",
     "text": [
      "D:\\Anaconda3\\lib\\site-packages\\sklearn\\neural_network\\multilayer_perceptron.py:562: ConvergenceWarning: Stochastic Optimizer: Maximum iterations (200) reached and the optimization hasn't converged yet.\n",
      "  % self.max_iter, ConvergenceWarning)\n"
     ]
    },
    {
     "name": "stdout",
     "output_type": "stream",
     "text": [
      "[CV]  mlp__activation=tanh, mlp__alpha=0.001, mlp__learning_rate=adaptive, mlp__solver=sgd, mlp__validation_fraction=0.1, selectkbest__k=290, total=  26.8s\n",
      "[CV] mlp__activation=tanh, mlp__alpha=0.001, mlp__learning_rate=adaptive, mlp__solver=sgd, mlp__validation_fraction=0.1, selectkbest__k=310 \n"
     ]
    },
    {
     "name": "stderr",
     "output_type": "stream",
     "text": [
      "D:\\Anaconda3\\lib\\site-packages\\sklearn\\neural_network\\multilayer_perceptron.py:562: ConvergenceWarning: Stochastic Optimizer: Maximum iterations (200) reached and the optimization hasn't converged yet.\n",
      "  % self.max_iter, ConvergenceWarning)\n"
     ]
    },
    {
     "name": "stdout",
     "output_type": "stream",
     "text": [
      "[CV]  mlp__activation=tanh, mlp__alpha=0.001, mlp__learning_rate=adaptive, mlp__solver=sgd, mlp__validation_fraction=0.1, selectkbest__k=290, total=  26.0s\n",
      "[CV] mlp__activation=tanh, mlp__alpha=0.001, mlp__learning_rate=adaptive, mlp__solver=sgd, mlp__validation_fraction=0.2, selectkbest__k=250 \n"
     ]
    },
    {
     "name": "stderr",
     "output_type": "stream",
     "text": [
      "D:\\Anaconda3\\lib\\site-packages\\sklearn\\neural_network\\multilayer_perceptron.py:562: ConvergenceWarning: Stochastic Optimizer: Maximum iterations (200) reached and the optimization hasn't converged yet.\n",
      "  % self.max_iter, ConvergenceWarning)\n"
     ]
    },
    {
     "name": "stdout",
     "output_type": "stream",
     "text": [
      "[CV]  mlp__activation=tanh, mlp__alpha=0.001, mlp__learning_rate=adaptive, mlp__solver=sgd, mlp__validation_fraction=0.1, selectkbest__k=290, total=  26.4s\n",
      "[CV] mlp__activation=tanh, mlp__alpha=0.001, mlp__learning_rate=adaptive, mlp__solver=sgd, mlp__validation_fraction=0.2, selectkbest__k=250 \n"
     ]
    },
    {
     "name": "stderr",
     "output_type": "stream",
     "text": [
      "D:\\Anaconda3\\lib\\site-packages\\sklearn\\neural_network\\multilayer_perceptron.py:562: ConvergenceWarning: Stochastic Optimizer: Maximum iterations (200) reached and the optimization hasn't converged yet.\n",
      "  % self.max_iter, ConvergenceWarning)\n"
     ]
    },
    {
     "name": "stdout",
     "output_type": "stream",
     "text": [
      "[CV]  mlp__activation=tanh, mlp__alpha=0.001, mlp__learning_rate=adaptive, mlp__solver=sgd, mlp__validation_fraction=0.1, selectkbest__k=290, total=  27.0s\n",
      "[CV] mlp__activation=tanh, mlp__alpha=0.001, mlp__learning_rate=adaptive, mlp__solver=sgd, mlp__validation_fraction=0.2, selectkbest__k=250 \n"
     ]
    },
    {
     "name": "stderr",
     "output_type": "stream",
     "text": [
      "D:\\Anaconda3\\lib\\site-packages\\sklearn\\neural_network\\multilayer_perceptron.py:562: ConvergenceWarning: Stochastic Optimizer: Maximum iterations (200) reached and the optimization hasn't converged yet.\n",
      "  % self.max_iter, ConvergenceWarning)\n"
     ]
    },
    {
     "name": "stdout",
     "output_type": "stream",
     "text": [
      "[CV]  mlp__activation=tanh, mlp__alpha=0.001, mlp__learning_rate=adaptive, mlp__solver=sgd, mlp__validation_fraction=0.1, selectkbest__k=310, total=  27.3s\n",
      "[CV] mlp__activation=tanh, mlp__alpha=0.001, mlp__learning_rate=adaptive, mlp__solver=sgd, mlp__validation_fraction=0.2, selectkbest__k=250 \n"
     ]
    },
    {
     "name": "stderr",
     "output_type": "stream",
     "text": [
      "D:\\Anaconda3\\lib\\site-packages\\sklearn\\neural_network\\multilayer_perceptron.py:562: ConvergenceWarning: Stochastic Optimizer: Maximum iterations (200) reached and the optimization hasn't converged yet.\n",
      "  % self.max_iter, ConvergenceWarning)\n"
     ]
    },
    {
     "name": "stdout",
     "output_type": "stream",
     "text": [
      "[CV]  mlp__activation=tanh, mlp__alpha=0.001, mlp__learning_rate=adaptive, mlp__solver=sgd, mlp__validation_fraction=0.1, selectkbest__k=310, total=  25.6s\n",
      "[CV] mlp__activation=tanh, mlp__alpha=0.001, mlp__learning_rate=adaptive, mlp__solver=sgd, mlp__validation_fraction=0.2, selectkbest__k=250 \n"
     ]
    },
    {
     "name": "stderr",
     "output_type": "stream",
     "text": [
      "D:\\Anaconda3\\lib\\site-packages\\sklearn\\neural_network\\multilayer_perceptron.py:562: ConvergenceWarning: Stochastic Optimizer: Maximum iterations (200) reached and the optimization hasn't converged yet.\n",
      "  % self.max_iter, ConvergenceWarning)\n"
     ]
    },
    {
     "name": "stdout",
     "output_type": "stream",
     "text": [
      "[CV]  mlp__activation=tanh, mlp__alpha=0.001, mlp__learning_rate=adaptive, mlp__solver=sgd, mlp__validation_fraction=0.1, selectkbest__k=310, total=  26.4s\n",
      "[CV] mlp__activation=tanh, mlp__alpha=0.001, mlp__learning_rate=adaptive, mlp__solver=sgd, mlp__validation_fraction=0.2, selectkbest__k=270 \n"
     ]
    },
    {
     "name": "stderr",
     "output_type": "stream",
     "text": [
      "D:\\Anaconda3\\lib\\site-packages\\sklearn\\neural_network\\multilayer_perceptron.py:562: ConvergenceWarning: Stochastic Optimizer: Maximum iterations (200) reached and the optimization hasn't converged yet.\n",
      "  % self.max_iter, ConvergenceWarning)\n"
     ]
    },
    {
     "name": "stdout",
     "output_type": "stream",
     "text": [
      "[CV]  mlp__activation=tanh, mlp__alpha=0.001, mlp__learning_rate=adaptive, mlp__solver=sgd, mlp__validation_fraction=0.1, selectkbest__k=310, total=  26.1s\n",
      "[CV] mlp__activation=tanh, mlp__alpha=0.001, mlp__learning_rate=adaptive, mlp__solver=sgd, mlp__validation_fraction=0.2, selectkbest__k=270 \n"
     ]
    },
    {
     "name": "stderr",
     "output_type": "stream",
     "text": [
      "D:\\Anaconda3\\lib\\site-packages\\sklearn\\neural_network\\multilayer_perceptron.py:562: ConvergenceWarning: Stochastic Optimizer: Maximum iterations (200) reached and the optimization hasn't converged yet.\n",
      "  % self.max_iter, ConvergenceWarning)\n"
     ]
    },
    {
     "name": "stdout",
     "output_type": "stream",
     "text": [
      "[CV]  mlp__activation=tanh, mlp__alpha=0.001, mlp__learning_rate=adaptive, mlp__solver=sgd, mlp__validation_fraction=0.2, selectkbest__k=250, total=  24.7s\n",
      "[CV] mlp__activation=tanh, mlp__alpha=0.001, mlp__learning_rate=adaptive, mlp__solver=sgd, mlp__validation_fraction=0.2, selectkbest__k=270 \n"
     ]
    },
    {
     "name": "stderr",
     "output_type": "stream",
     "text": [
      "D:\\Anaconda3\\lib\\site-packages\\sklearn\\neural_network\\multilayer_perceptron.py:562: ConvergenceWarning: Stochastic Optimizer: Maximum iterations (200) reached and the optimization hasn't converged yet.\n",
      "  % self.max_iter, ConvergenceWarning)\n"
     ]
    },
    {
     "name": "stdout",
     "output_type": "stream",
     "text": [
      "[CV]  mlp__activation=tanh, mlp__alpha=0.001, mlp__learning_rate=adaptive, mlp__solver=sgd, mlp__validation_fraction=0.2, selectkbest__k=250, total=  25.2s\n",
      "[CV] mlp__activation=tanh, mlp__alpha=0.001, mlp__learning_rate=adaptive, mlp__solver=sgd, mlp__validation_fraction=0.2, selectkbest__k=270 \n"
     ]
    },
    {
     "name": "stderr",
     "output_type": "stream",
     "text": [
      "D:\\Anaconda3\\lib\\site-packages\\sklearn\\neural_network\\multilayer_perceptron.py:562: ConvergenceWarning: Stochastic Optimizer: Maximum iterations (200) reached and the optimization hasn't converged yet.\n",
      "  % self.max_iter, ConvergenceWarning)\n"
     ]
    },
    {
     "name": "stdout",
     "output_type": "stream",
     "text": [
      "[CV]  mlp__activation=tanh, mlp__alpha=0.001, mlp__learning_rate=adaptive, mlp__solver=sgd, mlp__validation_fraction=0.1, selectkbest__k=310, total=  26.7s\n",
      "[CV] mlp__activation=tanh, mlp__alpha=0.001, mlp__learning_rate=adaptive, mlp__solver=sgd, mlp__validation_fraction=0.2, selectkbest__k=270 \n"
     ]
    },
    {
     "name": "stderr",
     "output_type": "stream",
     "text": [
      "D:\\Anaconda3\\lib\\site-packages\\sklearn\\neural_network\\multilayer_perceptron.py:562: ConvergenceWarning: Stochastic Optimizer: Maximum iterations (200) reached and the optimization hasn't converged yet.\n",
      "  % self.max_iter, ConvergenceWarning)\n"
     ]
    },
    {
     "name": "stdout",
     "output_type": "stream",
     "text": [
      "[CV]  mlp__activation=tanh, mlp__alpha=0.001, mlp__learning_rate=adaptive, mlp__solver=sgd, mlp__validation_fraction=0.2, selectkbest__k=250, total=  25.3s\n",
      "[CV] mlp__activation=tanh, mlp__alpha=0.001, mlp__learning_rate=adaptive, mlp__solver=sgd, mlp__validation_fraction=0.2, selectkbest__k=290 \n"
     ]
    },
    {
     "name": "stderr",
     "output_type": "stream",
     "text": [
      "D:\\Anaconda3\\lib\\site-packages\\sklearn\\neural_network\\multilayer_perceptron.py:562: ConvergenceWarning: Stochastic Optimizer: Maximum iterations (200) reached and the optimization hasn't converged yet.\n",
      "  % self.max_iter, ConvergenceWarning)\n"
     ]
    },
    {
     "name": "stdout",
     "output_type": "stream",
     "text": [
      "[CV]  mlp__activation=tanh, mlp__alpha=0.001, mlp__learning_rate=adaptive, mlp__solver=sgd, mlp__validation_fraction=0.2, selectkbest__k=250, total=  25.0s\n",
      "[CV] mlp__activation=tanh, mlp__alpha=0.001, mlp__learning_rate=adaptive, mlp__solver=sgd, mlp__validation_fraction=0.2, selectkbest__k=290 \n"
     ]
    },
    {
     "name": "stderr",
     "output_type": "stream",
     "text": [
      "D:\\Anaconda3\\lib\\site-packages\\sklearn\\neural_network\\multilayer_perceptron.py:562: ConvergenceWarning: Stochastic Optimizer: Maximum iterations (200) reached and the optimization hasn't converged yet.\n",
      "  % self.max_iter, ConvergenceWarning)\n"
     ]
    },
    {
     "name": "stdout",
     "output_type": "stream",
     "text": [
      "[CV]  mlp__activation=tanh, mlp__alpha=0.001, mlp__learning_rate=adaptive, mlp__solver=sgd, mlp__validation_fraction=0.2, selectkbest__k=250, total=  24.4s\n",
      "[CV] mlp__activation=tanh, mlp__alpha=0.001, mlp__learning_rate=adaptive, mlp__solver=sgd, mlp__validation_fraction=0.2, selectkbest__k=290 \n"
     ]
    },
    {
     "name": "stderr",
     "output_type": "stream",
     "text": [
      "D:\\Anaconda3\\lib\\site-packages\\sklearn\\neural_network\\multilayer_perceptron.py:562: ConvergenceWarning: Stochastic Optimizer: Maximum iterations (200) reached and the optimization hasn't converged yet.\n",
      "  % self.max_iter, ConvergenceWarning)\n"
     ]
    },
    {
     "name": "stdout",
     "output_type": "stream",
     "text": [
      "[CV]  mlp__activation=tanh, mlp__alpha=0.001, mlp__learning_rate=adaptive, mlp__solver=sgd, mlp__validation_fraction=0.2, selectkbest__k=270, total=  25.4s\n",
      "[CV] mlp__activation=tanh, mlp__alpha=0.001, mlp__learning_rate=adaptive, mlp__solver=sgd, mlp__validation_fraction=0.2, selectkbest__k=290 \n"
     ]
    },
    {
     "name": "stderr",
     "output_type": "stream",
     "text": [
      "D:\\Anaconda3\\lib\\site-packages\\sklearn\\neural_network\\multilayer_perceptron.py:562: ConvergenceWarning: Stochastic Optimizer: Maximum iterations (200) reached and the optimization hasn't converged yet.\n",
      "  % self.max_iter, ConvergenceWarning)\n"
     ]
    },
    {
     "name": "stdout",
     "output_type": "stream",
     "text": [
      "[CV]  mlp__activation=tanh, mlp__alpha=0.001, mlp__learning_rate=adaptive, mlp__solver=sgd, mlp__validation_fraction=0.2, selectkbest__k=270, total=  25.5s\n",
      "[CV] mlp__activation=tanh, mlp__alpha=0.001, mlp__learning_rate=adaptive, mlp__solver=sgd, mlp__validation_fraction=0.2, selectkbest__k=290 \n"
     ]
    },
    {
     "name": "stderr",
     "output_type": "stream",
     "text": [
      "D:\\Anaconda3\\lib\\site-packages\\sklearn\\neural_network\\multilayer_perceptron.py:562: ConvergenceWarning: Stochastic Optimizer: Maximum iterations (200) reached and the optimization hasn't converged yet.\n",
      "  % self.max_iter, ConvergenceWarning)\n"
     ]
    },
    {
     "name": "stdout",
     "output_type": "stream",
     "text": [
      "[CV]  mlp__activation=tanh, mlp__alpha=0.001, mlp__learning_rate=adaptive, mlp__solver=sgd, mlp__validation_fraction=0.2, selectkbest__k=270, total=  25.4s\n",
      "[CV] mlp__activation=tanh, mlp__alpha=0.001, mlp__learning_rate=adaptive, mlp__solver=sgd, mlp__validation_fraction=0.2, selectkbest__k=310 \n"
     ]
    },
    {
     "name": "stderr",
     "output_type": "stream",
     "text": [
      "D:\\Anaconda3\\lib\\site-packages\\sklearn\\neural_network\\multilayer_perceptron.py:562: ConvergenceWarning: Stochastic Optimizer: Maximum iterations (200) reached and the optimization hasn't converged yet.\n",
      "  % self.max_iter, ConvergenceWarning)\n"
     ]
    },
    {
     "name": "stdout",
     "output_type": "stream",
     "text": [
      "[CV]  mlp__activation=tanh, mlp__alpha=0.001, mlp__learning_rate=adaptive, mlp__solver=sgd, mlp__validation_fraction=0.2, selectkbest__k=270, total=  25.6s\n",
      "[CV] mlp__activation=tanh, mlp__alpha=0.001, mlp__learning_rate=adaptive, mlp__solver=sgd, mlp__validation_fraction=0.2, selectkbest__k=310 \n"
     ]
    },
    {
     "name": "stderr",
     "output_type": "stream",
     "text": [
      "D:\\Anaconda3\\lib\\site-packages\\sklearn\\neural_network\\multilayer_perceptron.py:562: ConvergenceWarning: Stochastic Optimizer: Maximum iterations (200) reached and the optimization hasn't converged yet.\n",
      "  % self.max_iter, ConvergenceWarning)\n"
     ]
    },
    {
     "name": "stdout",
     "output_type": "stream",
     "text": [
      "[CV]  mlp__activation=tanh, mlp__alpha=0.001, mlp__learning_rate=adaptive, mlp__solver=sgd, mlp__validation_fraction=0.2, selectkbest__k=270, total=  26.2s\n",
      "[CV] mlp__activation=tanh, mlp__alpha=0.001, mlp__learning_rate=adaptive, mlp__solver=sgd, mlp__validation_fraction=0.2, selectkbest__k=310 \n"
     ]
    },
    {
     "name": "stderr",
     "output_type": "stream",
     "text": [
      "D:\\Anaconda3\\lib\\site-packages\\sklearn\\neural_network\\multilayer_perceptron.py:562: ConvergenceWarning: Stochastic Optimizer: Maximum iterations (200) reached and the optimization hasn't converged yet.\n",
      "  % self.max_iter, ConvergenceWarning)\n"
     ]
    },
    {
     "name": "stdout",
     "output_type": "stream",
     "text": [
      "[CV]  mlp__activation=tanh, mlp__alpha=0.001, mlp__learning_rate=adaptive, mlp__solver=sgd, mlp__validation_fraction=0.2, selectkbest__k=290, total=  26.6s\n",
      "[CV] mlp__activation=tanh, mlp__alpha=0.001, mlp__learning_rate=adaptive, mlp__solver=sgd, mlp__validation_fraction=0.2, selectkbest__k=310 \n"
     ]
    },
    {
     "name": "stderr",
     "output_type": "stream",
     "text": [
      "D:\\Anaconda3\\lib\\site-packages\\sklearn\\neural_network\\multilayer_perceptron.py:562: ConvergenceWarning: Stochastic Optimizer: Maximum iterations (200) reached and the optimization hasn't converged yet.\n",
      "  % self.max_iter, ConvergenceWarning)\n"
     ]
    },
    {
     "name": "stdout",
     "output_type": "stream",
     "text": [
      "[CV]  mlp__activation=tanh, mlp__alpha=0.001, mlp__learning_rate=adaptive, mlp__solver=sgd, mlp__validation_fraction=0.2, selectkbest__k=290, total=  26.8s\n",
      "[CV] mlp__activation=tanh, mlp__alpha=0.001, mlp__learning_rate=adaptive, mlp__solver=sgd, mlp__validation_fraction=0.2, selectkbest__k=310 \n"
     ]
    },
    {
     "name": "stderr",
     "output_type": "stream",
     "text": [
      "D:\\Anaconda3\\lib\\site-packages\\sklearn\\neural_network\\multilayer_perceptron.py:562: ConvergenceWarning: Stochastic Optimizer: Maximum iterations (200) reached and the optimization hasn't converged yet.\n",
      "  % self.max_iter, ConvergenceWarning)\n"
     ]
    },
    {
     "name": "stdout",
     "output_type": "stream",
     "text": [
      "[CV]  mlp__activation=tanh, mlp__alpha=0.001, mlp__learning_rate=adaptive, mlp__solver=sgd, mlp__validation_fraction=0.2, selectkbest__k=290, total=  25.7s\n",
      "[CV] mlp__activation=tanh, mlp__alpha=0.004, mlp__learning_rate=constant, mlp__solver=sgd, mlp__validation_fraction=0.1, selectkbest__k=250 \n"
     ]
    },
    {
     "name": "stderr",
     "output_type": "stream",
     "text": [
      "D:\\Anaconda3\\lib\\site-packages\\sklearn\\neural_network\\multilayer_perceptron.py:562: ConvergenceWarning: Stochastic Optimizer: Maximum iterations (200) reached and the optimization hasn't converged yet.\n",
      "  % self.max_iter, ConvergenceWarning)\n"
     ]
    },
    {
     "name": "stdout",
     "output_type": "stream",
     "text": [
      "[CV]  mlp__activation=tanh, mlp__alpha=0.001, mlp__learning_rate=adaptive, mlp__solver=sgd, mlp__validation_fraction=0.2, selectkbest__k=290, total=  26.6s\n",
      "[CV] mlp__activation=tanh, mlp__alpha=0.004, mlp__learning_rate=constant, mlp__solver=sgd, mlp__validation_fraction=0.1, selectkbest__k=250 \n"
     ]
    },
    {
     "name": "stderr",
     "output_type": "stream",
     "text": [
      "D:\\Anaconda3\\lib\\site-packages\\sklearn\\neural_network\\multilayer_perceptron.py:562: ConvergenceWarning: Stochastic Optimizer: Maximum iterations (200) reached and the optimization hasn't converged yet.\n",
      "  % self.max_iter, ConvergenceWarning)\n"
     ]
    },
    {
     "name": "stdout",
     "output_type": "stream",
     "text": [
      "[CV]  mlp__activation=tanh, mlp__alpha=0.001, mlp__learning_rate=adaptive, mlp__solver=sgd, mlp__validation_fraction=0.2, selectkbest__k=290, total=  27.0s\n",
      "[CV] mlp__activation=tanh, mlp__alpha=0.004, mlp__learning_rate=constant, mlp__solver=sgd, mlp__validation_fraction=0.1, selectkbest__k=250 \n"
     ]
    },
    {
     "name": "stderr",
     "output_type": "stream",
     "text": [
      "D:\\Anaconda3\\lib\\site-packages\\sklearn\\neural_network\\multilayer_perceptron.py:562: ConvergenceWarning: Stochastic Optimizer: Maximum iterations (200) reached and the optimization hasn't converged yet.\n",
      "  % self.max_iter, ConvergenceWarning)\n"
     ]
    },
    {
     "name": "stdout",
     "output_type": "stream",
     "text": [
      "[CV]  mlp__activation=tanh, mlp__alpha=0.001, mlp__learning_rate=adaptive, mlp__solver=sgd, mlp__validation_fraction=0.2, selectkbest__k=310, total=  27.2s\n",
      "[CV] mlp__activation=tanh, mlp__alpha=0.004, mlp__learning_rate=constant, mlp__solver=sgd, mlp__validation_fraction=0.1, selectkbest__k=250 \n"
     ]
    },
    {
     "name": "stderr",
     "output_type": "stream",
     "text": [
      "D:\\Anaconda3\\lib\\site-packages\\sklearn\\neural_network\\multilayer_perceptron.py:562: ConvergenceWarning: Stochastic Optimizer: Maximum iterations (200) reached and the optimization hasn't converged yet.\n",
      "  % self.max_iter, ConvergenceWarning)\n"
     ]
    },
    {
     "name": "stdout",
     "output_type": "stream",
     "text": [
      "[CV]  mlp__activation=tanh, mlp__alpha=0.001, mlp__learning_rate=adaptive, mlp__solver=sgd, mlp__validation_fraction=0.2, selectkbest__k=310, total=  27.7s\n",
      "[CV] mlp__activation=tanh, mlp__alpha=0.004, mlp__learning_rate=constant, mlp__solver=sgd, mlp__validation_fraction=0.1, selectkbest__k=250 \n"
     ]
    },
    {
     "name": "stderr",
     "output_type": "stream",
     "text": [
      "D:\\Anaconda3\\lib\\site-packages\\sklearn\\neural_network\\multilayer_perceptron.py:562: ConvergenceWarning: Stochastic Optimizer: Maximum iterations (200) reached and the optimization hasn't converged yet.\n",
      "  % self.max_iter, ConvergenceWarning)\n"
     ]
    },
    {
     "name": "stdout",
     "output_type": "stream",
     "text": [
      "[CV]  mlp__activation=tanh, mlp__alpha=0.001, mlp__learning_rate=adaptive, mlp__solver=sgd, mlp__validation_fraction=0.2, selectkbest__k=310, total=  27.4s\n",
      "[CV] mlp__activation=tanh, mlp__alpha=0.004, mlp__learning_rate=constant, mlp__solver=sgd, mlp__validation_fraction=0.1, selectkbest__k=270 \n"
     ]
    },
    {
     "name": "stderr",
     "output_type": "stream",
     "text": [
      "D:\\Anaconda3\\lib\\site-packages\\sklearn\\neural_network\\multilayer_perceptron.py:562: ConvergenceWarning: Stochastic Optimizer: Maximum iterations (200) reached and the optimization hasn't converged yet.\n",
      "  % self.max_iter, ConvergenceWarning)\n"
     ]
    },
    {
     "name": "stdout",
     "output_type": "stream",
     "text": [
      "[CV]  mlp__activation=tanh, mlp__alpha=0.001, mlp__learning_rate=adaptive, mlp__solver=sgd, mlp__validation_fraction=0.2, selectkbest__k=310, total=  27.2s\n",
      "[CV] mlp__activation=tanh, mlp__alpha=0.004, mlp__learning_rate=constant, mlp__solver=sgd, mlp__validation_fraction=0.1, selectkbest__k=270 \n"
     ]
    },
    {
     "name": "stderr",
     "output_type": "stream",
     "text": [
      "D:\\Anaconda3\\lib\\site-packages\\sklearn\\neural_network\\multilayer_perceptron.py:562: ConvergenceWarning: Stochastic Optimizer: Maximum iterations (200) reached and the optimization hasn't converged yet.\n",
      "  % self.max_iter, ConvergenceWarning)\n"
     ]
    },
    {
     "name": "stdout",
     "output_type": "stream",
     "text": [
      "[CV]  mlp__activation=tanh, mlp__alpha=0.001, mlp__learning_rate=adaptive, mlp__solver=sgd, mlp__validation_fraction=0.2, selectkbest__k=310, total=  27.6s\n",
      "[CV] mlp__activation=tanh, mlp__alpha=0.004, mlp__learning_rate=constant, mlp__solver=sgd, mlp__validation_fraction=0.1, selectkbest__k=270 \n"
     ]
    },
    {
     "name": "stderr",
     "output_type": "stream",
     "text": [
      "D:\\Anaconda3\\lib\\site-packages\\sklearn\\neural_network\\multilayer_perceptron.py:562: ConvergenceWarning: Stochastic Optimizer: Maximum iterations (200) reached and the optimization hasn't converged yet.\n",
      "  % self.max_iter, ConvergenceWarning)\n"
     ]
    },
    {
     "name": "stdout",
     "output_type": "stream",
     "text": [
      "[CV]  mlp__activation=tanh, mlp__alpha=0.004, mlp__learning_rate=constant, mlp__solver=sgd, mlp__validation_fraction=0.1, selectkbest__k=250, total=  24.0s\n",
      "[CV] mlp__activation=tanh, mlp__alpha=0.004, mlp__learning_rate=constant, mlp__solver=sgd, mlp__validation_fraction=0.1, selectkbest__k=270 \n"
     ]
    },
    {
     "name": "stderr",
     "output_type": "stream",
     "text": [
      "D:\\Anaconda3\\lib\\site-packages\\sklearn\\neural_network\\multilayer_perceptron.py:562: ConvergenceWarning: Stochastic Optimizer: Maximum iterations (200) reached and the optimization hasn't converged yet.\n",
      "  % self.max_iter, ConvergenceWarning)\n"
     ]
    },
    {
     "name": "stdout",
     "output_type": "stream",
     "text": [
      "[CV]  mlp__activation=tanh, mlp__alpha=0.004, mlp__learning_rate=constant, mlp__solver=sgd, mlp__validation_fraction=0.1, selectkbest__k=250, total=  24.3s\n",
      "[CV] mlp__activation=tanh, mlp__alpha=0.004, mlp__learning_rate=constant, mlp__solver=sgd, mlp__validation_fraction=0.1, selectkbest__k=270 \n"
     ]
    },
    {
     "name": "stderr",
     "output_type": "stream",
     "text": [
      "D:\\Anaconda3\\lib\\site-packages\\sklearn\\neural_network\\multilayer_perceptron.py:562: ConvergenceWarning: Stochastic Optimizer: Maximum iterations (200) reached and the optimization hasn't converged yet.\n",
      "  % self.max_iter, ConvergenceWarning)\n",
      "D:\\Anaconda3\\lib\\site-packages\\sklearn\\neural_network\\multilayer_perceptron.py:562: ConvergenceWarning: Stochastic Optimizer: Maximum iterations (200) reached and the optimization hasn't converged yet.\n",
      "  % self.max_iter, ConvergenceWarning)\n"
     ]
    },
    {
     "name": "stdout",
     "output_type": "stream",
     "text": [
      "[CV]  mlp__activation=tanh, mlp__alpha=0.004, mlp__learning_rate=constant, mlp__solver=sgd, mlp__validation_fraction=0.1, selectkbest__k=250, total=  24.2s\n",
      "[CV] mlp__activation=tanh, mlp__alpha=0.004, mlp__learning_rate=constant, mlp__solver=sgd, mlp__validation_fraction=0.1, selectkbest__k=290 \n",
      "[CV]  mlp__activation=tanh, mlp__alpha=0.004, mlp__learning_rate=constant, mlp__solver=sgd, mlp__validation_fraction=0.1, selectkbest__k=250, total=  23.9s\n",
      "[CV] mlp__activation=tanh, mlp__alpha=0.004, mlp__learning_rate=constant, mlp__solver=sgd, mlp__validation_fraction=0.1, selectkbest__k=290 \n"
     ]
    },
    {
     "name": "stderr",
     "output_type": "stream",
     "text": [
      "D:\\Anaconda3\\lib\\site-packages\\sklearn\\neural_network\\multilayer_perceptron.py:562: ConvergenceWarning: Stochastic Optimizer: Maximum iterations (200) reached and the optimization hasn't converged yet.\n",
      "  % self.max_iter, ConvergenceWarning)\n"
     ]
    },
    {
     "name": "stdout",
     "output_type": "stream",
     "text": [
      "[CV]  mlp__activation=tanh, mlp__alpha=0.004, mlp__learning_rate=constant, mlp__solver=sgd, mlp__validation_fraction=0.1, selectkbest__k=250, total=  24.6s\n",
      "[CV] mlp__activation=tanh, mlp__alpha=0.004, mlp__learning_rate=constant, mlp__solver=sgd, mlp__validation_fraction=0.1, selectkbest__k=290 \n"
     ]
    },
    {
     "name": "stderr",
     "output_type": "stream",
     "text": [
      "D:\\Anaconda3\\lib\\site-packages\\sklearn\\neural_network\\multilayer_perceptron.py:562: ConvergenceWarning: Stochastic Optimizer: Maximum iterations (200) reached and the optimization hasn't converged yet.\n",
      "  % self.max_iter, ConvergenceWarning)\n"
     ]
    },
    {
     "name": "stdout",
     "output_type": "stream",
     "text": [
      "[CV]  mlp__activation=tanh, mlp__alpha=0.004, mlp__learning_rate=constant, mlp__solver=sgd, mlp__validation_fraction=0.1, selectkbest__k=270, total=  24.8s\n",
      "[CV] mlp__activation=tanh, mlp__alpha=0.004, mlp__learning_rate=constant, mlp__solver=sgd, mlp__validation_fraction=0.1, selectkbest__k=290 \n"
     ]
    },
    {
     "name": "stderr",
     "output_type": "stream",
     "text": [
      "D:\\Anaconda3\\lib\\site-packages\\sklearn\\neural_network\\multilayer_perceptron.py:562: ConvergenceWarning: Stochastic Optimizer: Maximum iterations (200) reached and the optimization hasn't converged yet.\n",
      "  % self.max_iter, ConvergenceWarning)\n"
     ]
    },
    {
     "name": "stdout",
     "output_type": "stream",
     "text": [
      "[CV]  mlp__activation=tanh, mlp__alpha=0.004, mlp__learning_rate=constant, mlp__solver=sgd, mlp__validation_fraction=0.1, selectkbest__k=270, total=  24.8s\n",
      "[CV] mlp__activation=tanh, mlp__alpha=0.004, mlp__learning_rate=constant, mlp__solver=sgd, mlp__validation_fraction=0.1, selectkbest__k=290 \n"
     ]
    },
    {
     "name": "stderr",
     "output_type": "stream",
     "text": [
      "D:\\Anaconda3\\lib\\site-packages\\sklearn\\neural_network\\multilayer_perceptron.py:562: ConvergenceWarning: Stochastic Optimizer: Maximum iterations (200) reached and the optimization hasn't converged yet.\n",
      "  % self.max_iter, ConvergenceWarning)\n"
     ]
    },
    {
     "name": "stdout",
     "output_type": "stream",
     "text": [
      "[CV]  mlp__activation=tanh, mlp__alpha=0.004, mlp__learning_rate=constant, mlp__solver=sgd, mlp__validation_fraction=0.1, selectkbest__k=270, total=  24.9s\n",
      "[CV] mlp__activation=tanh, mlp__alpha=0.004, mlp__learning_rate=constant, mlp__solver=sgd, mlp__validation_fraction=0.1, selectkbest__k=310 \n"
     ]
    },
    {
     "name": "stderr",
     "output_type": "stream",
     "text": [
      "D:\\Anaconda3\\lib\\site-packages\\sklearn\\neural_network\\multilayer_perceptron.py:562: ConvergenceWarning: Stochastic Optimizer: Maximum iterations (200) reached and the optimization hasn't converged yet.\n",
      "  % self.max_iter, ConvergenceWarning)\n"
     ]
    },
    {
     "name": "stdout",
     "output_type": "stream",
     "text": [
      "[CV]  mlp__activation=tanh, mlp__alpha=0.004, mlp__learning_rate=constant, mlp__solver=sgd, mlp__validation_fraction=0.1, selectkbest__k=270, total=  23.4s\n",
      "[CV] mlp__activation=tanh, mlp__alpha=0.004, mlp__learning_rate=constant, mlp__solver=sgd, mlp__validation_fraction=0.1, selectkbest__k=310 \n"
     ]
    },
    {
     "name": "stderr",
     "output_type": "stream",
     "text": [
      "D:\\Anaconda3\\lib\\site-packages\\sklearn\\neural_network\\multilayer_perceptron.py:562: ConvergenceWarning: Stochastic Optimizer: Maximum iterations (200) reached and the optimization hasn't converged yet.\n",
      "  % self.max_iter, ConvergenceWarning)\n"
     ]
    },
    {
     "name": "stdout",
     "output_type": "stream",
     "text": [
      "[CV]  mlp__activation=tanh, mlp__alpha=0.004, mlp__learning_rate=constant, mlp__solver=sgd, mlp__validation_fraction=0.1, selectkbest__k=270, total=  25.3s\n",
      "[CV] mlp__activation=tanh, mlp__alpha=0.004, mlp__learning_rate=constant, mlp__solver=sgd, mlp__validation_fraction=0.1, selectkbest__k=310 \n"
     ]
    },
    {
     "name": "stderr",
     "output_type": "stream",
     "text": [
      "D:\\Anaconda3\\lib\\site-packages\\sklearn\\neural_network\\multilayer_perceptron.py:562: ConvergenceWarning: Stochastic Optimizer: Maximum iterations (200) reached and the optimization hasn't converged yet.\n",
      "  % self.max_iter, ConvergenceWarning)\n",
      "D:\\Anaconda3\\lib\\site-packages\\sklearn\\neural_network\\multilayer_perceptron.py:562: ConvergenceWarning: Stochastic Optimizer: Maximum iterations (200) reached and the optimization hasn't converged yet.\n",
      "  % self.max_iter, ConvergenceWarning)\n"
     ]
    },
    {
     "name": "stdout",
     "output_type": "stream",
     "text": [
      "[CV]  mlp__activation=tanh, mlp__alpha=0.004, mlp__learning_rate=constant, mlp__solver=sgd, mlp__validation_fraction=0.1, selectkbest__k=290, total=  25.6s\n",
      "[CV] mlp__activation=tanh, mlp__alpha=0.004, mlp__learning_rate=constant, mlp__solver=sgd, mlp__validation_fraction=0.1, selectkbest__k=310 \n",
      "[CV]  mlp__activation=tanh, mlp__alpha=0.004, mlp__learning_rate=constant, mlp__solver=sgd, mlp__validation_fraction=0.1, selectkbest__k=290, total=  25.4s\n",
      "[CV] mlp__activation=tanh, mlp__alpha=0.004, mlp__learning_rate=constant, mlp__solver=sgd, mlp__validation_fraction=0.1, selectkbest__k=310 \n"
     ]
    },
    {
     "name": "stderr",
     "output_type": "stream",
     "text": [
      "D:\\Anaconda3\\lib\\site-packages\\sklearn\\neural_network\\multilayer_perceptron.py:562: ConvergenceWarning: Stochastic Optimizer: Maximum iterations (200) reached and the optimization hasn't converged yet.\n",
      "  % self.max_iter, ConvergenceWarning)\n"
     ]
    },
    {
     "name": "stdout",
     "output_type": "stream",
     "text": [
      "[CV]  mlp__activation=tanh, mlp__alpha=0.004, mlp__learning_rate=constant, mlp__solver=sgd, mlp__validation_fraction=0.1, selectkbest__k=290, total=  26.0s\n",
      "[CV] mlp__activation=tanh, mlp__alpha=0.004, mlp__learning_rate=constant, mlp__solver=sgd, mlp__validation_fraction=0.2, selectkbest__k=250 \n"
     ]
    },
    {
     "name": "stderr",
     "output_type": "stream",
     "text": [
      "D:\\Anaconda3\\lib\\site-packages\\sklearn\\neural_network\\multilayer_perceptron.py:562: ConvergenceWarning: Stochastic Optimizer: Maximum iterations (200) reached and the optimization hasn't converged yet.\n",
      "  % self.max_iter, ConvergenceWarning)\n"
     ]
    },
    {
     "name": "stdout",
     "output_type": "stream",
     "text": [
      "[CV]  mlp__activation=tanh, mlp__alpha=0.004, mlp__learning_rate=constant, mlp__solver=sgd, mlp__validation_fraction=0.1, selectkbest__k=290, total=  25.6s\n",
      "[CV] mlp__activation=tanh, mlp__alpha=0.004, mlp__learning_rate=constant, mlp__solver=sgd, mlp__validation_fraction=0.2, selectkbest__k=250 \n"
     ]
    },
    {
     "name": "stderr",
     "output_type": "stream",
     "text": [
      "D:\\Anaconda3\\lib\\site-packages\\sklearn\\neural_network\\multilayer_perceptron.py:562: ConvergenceWarning: Stochastic Optimizer: Maximum iterations (200) reached and the optimization hasn't converged yet.\n",
      "  % self.max_iter, ConvergenceWarning)\n"
     ]
    },
    {
     "name": "stdout",
     "output_type": "stream",
     "text": [
      "[CV]  mlp__activation=tanh, mlp__alpha=0.004, mlp__learning_rate=constant, mlp__solver=sgd, mlp__validation_fraction=0.1, selectkbest__k=290, total=  26.1s\n",
      "[CV] mlp__activation=tanh, mlp__alpha=0.004, mlp__learning_rate=constant, mlp__solver=sgd, mlp__validation_fraction=0.2, selectkbest__k=250 \n"
     ]
    },
    {
     "name": "stderr",
     "output_type": "stream",
     "text": [
      "D:\\Anaconda3\\lib\\site-packages\\sklearn\\neural_network\\multilayer_perceptron.py:562: ConvergenceWarning: Stochastic Optimizer: Maximum iterations (200) reached and the optimization hasn't converged yet.\n",
      "  % self.max_iter, ConvergenceWarning)\n"
     ]
    },
    {
     "name": "stdout",
     "output_type": "stream",
     "text": [
      "[CV]  mlp__activation=tanh, mlp__alpha=0.004, mlp__learning_rate=constant, mlp__solver=sgd, mlp__validation_fraction=0.1, selectkbest__k=310, total=  26.6s\n",
      "[CV] mlp__activation=tanh, mlp__alpha=0.004, mlp__learning_rate=constant, mlp__solver=sgd, mlp__validation_fraction=0.2, selectkbest__k=250 \n"
     ]
    },
    {
     "name": "stderr",
     "output_type": "stream",
     "text": [
      "D:\\Anaconda3\\lib\\site-packages\\sklearn\\neural_network\\multilayer_perceptron.py:562: ConvergenceWarning: Stochastic Optimizer: Maximum iterations (200) reached and the optimization hasn't converged yet.\n",
      "  % self.max_iter, ConvergenceWarning)\n"
     ]
    },
    {
     "name": "stdout",
     "output_type": "stream",
     "text": [
      "[CV]  mlp__activation=tanh, mlp__alpha=0.004, mlp__learning_rate=constant, mlp__solver=sgd, mlp__validation_fraction=0.1, selectkbest__k=310, total=  25.4s\n",
      "[CV] mlp__activation=tanh, mlp__alpha=0.004, mlp__learning_rate=constant, mlp__solver=sgd, mlp__validation_fraction=0.2, selectkbest__k=250 \n"
     ]
    },
    {
     "name": "stderr",
     "output_type": "stream",
     "text": [
      "D:\\Anaconda3\\lib\\site-packages\\sklearn\\neural_network\\multilayer_perceptron.py:562: ConvergenceWarning: Stochastic Optimizer: Maximum iterations (200) reached and the optimization hasn't converged yet.\n",
      "  % self.max_iter, ConvergenceWarning)\n"
     ]
    },
    {
     "name": "stdout",
     "output_type": "stream",
     "text": [
      "[CV]  mlp__activation=tanh, mlp__alpha=0.004, mlp__learning_rate=constant, mlp__solver=sgd, mlp__validation_fraction=0.1, selectkbest__k=310, total=  25.9s\n",
      "[CV] mlp__activation=tanh, mlp__alpha=0.004, mlp__learning_rate=constant, mlp__solver=sgd, mlp__validation_fraction=0.2, selectkbest__k=270 \n"
     ]
    },
    {
     "name": "stderr",
     "output_type": "stream",
     "text": [
      "D:\\Anaconda3\\lib\\site-packages\\sklearn\\neural_network\\multilayer_perceptron.py:562: ConvergenceWarning: Stochastic Optimizer: Maximum iterations (200) reached and the optimization hasn't converged yet.\n",
      "  % self.max_iter, ConvergenceWarning)\n"
     ]
    },
    {
     "name": "stdout",
     "output_type": "stream",
     "text": [
      "[CV]  mlp__activation=tanh, mlp__alpha=0.004, mlp__learning_rate=constant, mlp__solver=sgd, mlp__validation_fraction=0.1, selectkbest__k=310, total=  25.5s\n",
      "[CV] mlp__activation=tanh, mlp__alpha=0.004, mlp__learning_rate=constant, mlp__solver=sgd, mlp__validation_fraction=0.2, selectkbest__k=270 \n"
     ]
    },
    {
     "name": "stderr",
     "output_type": "stream",
     "text": [
      "D:\\Anaconda3\\lib\\site-packages\\sklearn\\neural_network\\multilayer_perceptron.py:562: ConvergenceWarning: Stochastic Optimizer: Maximum iterations (200) reached and the optimization hasn't converged yet.\n",
      "  % self.max_iter, ConvergenceWarning)\n"
     ]
    },
    {
     "name": "stdout",
     "output_type": "stream",
     "text": [
      "[CV]  mlp__activation=tanh, mlp__alpha=0.004, mlp__learning_rate=constant, mlp__solver=sgd, mlp__validation_fraction=0.1, selectkbest__k=310, total=  26.0s\n",
      "[CV] mlp__activation=tanh, mlp__alpha=0.004, mlp__learning_rate=constant, mlp__solver=sgd, mlp__validation_fraction=0.2, selectkbest__k=270 \n"
     ]
    },
    {
     "name": "stderr",
     "output_type": "stream",
     "text": [
      "D:\\Anaconda3\\lib\\site-packages\\sklearn\\neural_network\\multilayer_perceptron.py:562: ConvergenceWarning: Stochastic Optimizer: Maximum iterations (200) reached and the optimization hasn't converged yet.\n",
      "  % self.max_iter, ConvergenceWarning)\n"
     ]
    },
    {
     "name": "stdout",
     "output_type": "stream",
     "text": [
      "[CV]  mlp__activation=tanh, mlp__alpha=0.004, mlp__learning_rate=constant, mlp__solver=sgd, mlp__validation_fraction=0.2, selectkbest__k=250, total=  25.0s\n",
      "[CV] mlp__activation=tanh, mlp__alpha=0.004, mlp__learning_rate=constant, mlp__solver=sgd, mlp__validation_fraction=0.2, selectkbest__k=270 \n"
     ]
    },
    {
     "name": "stderr",
     "output_type": "stream",
     "text": [
      "D:\\Anaconda3\\lib\\site-packages\\sklearn\\neural_network\\multilayer_perceptron.py:562: ConvergenceWarning: Stochastic Optimizer: Maximum iterations (200) reached and the optimization hasn't converged yet.\n",
      "  % self.max_iter, ConvergenceWarning)\n"
     ]
    },
    {
     "name": "stdout",
     "output_type": "stream",
     "text": [
      "[CV]  mlp__activation=tanh, mlp__alpha=0.004, mlp__learning_rate=constant, mlp__solver=sgd, mlp__validation_fraction=0.2, selectkbest__k=250, total=  25.0s\n",
      "[CV] mlp__activation=tanh, mlp__alpha=0.004, mlp__learning_rate=constant, mlp__solver=sgd, mlp__validation_fraction=0.2, selectkbest__k=270 \n"
     ]
    },
    {
     "name": "stderr",
     "output_type": "stream",
     "text": [
      "D:\\Anaconda3\\lib\\site-packages\\sklearn\\neural_network\\multilayer_perceptron.py:562: ConvergenceWarning: Stochastic Optimizer: Maximum iterations (200) reached and the optimization hasn't converged yet.\n",
      "  % self.max_iter, ConvergenceWarning)\n"
     ]
    },
    {
     "name": "stdout",
     "output_type": "stream",
     "text": [
      "[CV]  mlp__activation=tanh, mlp__alpha=0.004, mlp__learning_rate=constant, mlp__solver=sgd, mlp__validation_fraction=0.2, selectkbest__k=250, total=  24.8s\n",
      "[CV] mlp__activation=tanh, mlp__alpha=0.004, mlp__learning_rate=constant, mlp__solver=sgd, mlp__validation_fraction=0.2, selectkbest__k=290 \n"
     ]
    },
    {
     "name": "stderr",
     "output_type": "stream",
     "text": [
      "D:\\Anaconda3\\lib\\site-packages\\sklearn\\neural_network\\multilayer_perceptron.py:562: ConvergenceWarning: Stochastic Optimizer: Maximum iterations (200) reached and the optimization hasn't converged yet.\n",
      "  % self.max_iter, ConvergenceWarning)\n"
     ]
    },
    {
     "name": "stdout",
     "output_type": "stream",
     "text": [
      "[CV]  mlp__activation=tanh, mlp__alpha=0.004, mlp__learning_rate=constant, mlp__solver=sgd, mlp__validation_fraction=0.2, selectkbest__k=250, total=  24.7s\n",
      "[CV] mlp__activation=tanh, mlp__alpha=0.004, mlp__learning_rate=constant, mlp__solver=sgd, mlp__validation_fraction=0.2, selectkbest__k=290 \n"
     ]
    },
    {
     "name": "stderr",
     "output_type": "stream",
     "text": [
      "D:\\Anaconda3\\lib\\site-packages\\sklearn\\neural_network\\multilayer_perceptron.py:562: ConvergenceWarning: Stochastic Optimizer: Maximum iterations (200) reached and the optimization hasn't converged yet.\n",
      "  % self.max_iter, ConvergenceWarning)\n"
     ]
    },
    {
     "name": "stdout",
     "output_type": "stream",
     "text": [
      "[CV]  mlp__activation=tanh, mlp__alpha=0.004, mlp__learning_rate=constant, mlp__solver=sgd, mlp__validation_fraction=0.2, selectkbest__k=250, total=  24.0s\n",
      "[CV] mlp__activation=tanh, mlp__alpha=0.004, mlp__learning_rate=constant, mlp__solver=sgd, mlp__validation_fraction=0.2, selectkbest__k=290 \n"
     ]
    },
    {
     "name": "stderr",
     "output_type": "stream",
     "text": [
      "D:\\Anaconda3\\lib\\site-packages\\sklearn\\neural_network\\multilayer_perceptron.py:562: ConvergenceWarning: Stochastic Optimizer: Maximum iterations (200) reached and the optimization hasn't converged yet.\n",
      "  % self.max_iter, ConvergenceWarning)\n"
     ]
    },
    {
     "name": "stdout",
     "output_type": "stream",
     "text": [
      "[CV]  mlp__activation=tanh, mlp__alpha=0.004, mlp__learning_rate=constant, mlp__solver=sgd, mlp__validation_fraction=0.2, selectkbest__k=270, total=  24.7s\n",
      "[CV] mlp__activation=tanh, mlp__alpha=0.004, mlp__learning_rate=constant, mlp__solver=sgd, mlp__validation_fraction=0.2, selectkbest__k=290 \n"
     ]
    },
    {
     "name": "stderr",
     "output_type": "stream",
     "text": [
      "D:\\Anaconda3\\lib\\site-packages\\sklearn\\neural_network\\multilayer_perceptron.py:562: ConvergenceWarning: Stochastic Optimizer: Maximum iterations (200) reached and the optimization hasn't converged yet.\n",
      "  % self.max_iter, ConvergenceWarning)\n"
     ]
    },
    {
     "name": "stdout",
     "output_type": "stream",
     "text": [
      "[CV]  mlp__activation=tanh, mlp__alpha=0.004, mlp__learning_rate=constant, mlp__solver=sgd, mlp__validation_fraction=0.2, selectkbest__k=270, total=  24.6s\n",
      "[CV] mlp__activation=tanh, mlp__alpha=0.004, mlp__learning_rate=constant, mlp__solver=sgd, mlp__validation_fraction=0.2, selectkbest__k=290 \n"
     ]
    },
    {
     "name": "stderr",
     "output_type": "stream",
     "text": [
      "D:\\Anaconda3\\lib\\site-packages\\sklearn\\neural_network\\multilayer_perceptron.py:562: ConvergenceWarning: Stochastic Optimizer: Maximum iterations (200) reached and the optimization hasn't converged yet.\n",
      "  % self.max_iter, ConvergenceWarning)\n"
     ]
    },
    {
     "name": "stdout",
     "output_type": "stream",
     "text": [
      "[CV]  mlp__activation=tanh, mlp__alpha=0.004, mlp__learning_rate=constant, mlp__solver=sgd, mlp__validation_fraction=0.2, selectkbest__k=270, total=  24.4s\n",
      "[CV] mlp__activation=tanh, mlp__alpha=0.004, mlp__learning_rate=constant, mlp__solver=sgd, mlp__validation_fraction=0.2, selectkbest__k=310 \n"
     ]
    },
    {
     "name": "stderr",
     "output_type": "stream",
     "text": [
      "D:\\Anaconda3\\lib\\site-packages\\sklearn\\neural_network\\multilayer_perceptron.py:562: ConvergenceWarning: Stochastic Optimizer: Maximum iterations (200) reached and the optimization hasn't converged yet.\n",
      "  % self.max_iter, ConvergenceWarning)\n"
     ]
    },
    {
     "name": "stdout",
     "output_type": "stream",
     "text": [
      "[CV]  mlp__activation=tanh, mlp__alpha=0.004, mlp__learning_rate=constant, mlp__solver=sgd, mlp__validation_fraction=0.2, selectkbest__k=270, total=  24.6s\n",
      "[CV] mlp__activation=tanh, mlp__alpha=0.004, mlp__learning_rate=constant, mlp__solver=sgd, mlp__validation_fraction=0.2, selectkbest__k=310 \n"
     ]
    },
    {
     "name": "stderr",
     "output_type": "stream",
     "text": [
      "D:\\Anaconda3\\lib\\site-packages\\sklearn\\neural_network\\multilayer_perceptron.py:562: ConvergenceWarning: Stochastic Optimizer: Maximum iterations (200) reached and the optimization hasn't converged yet.\n",
      "  % self.max_iter, ConvergenceWarning)\n"
     ]
    },
    {
     "name": "stdout",
     "output_type": "stream",
     "text": [
      "[CV]  mlp__activation=tanh, mlp__alpha=0.004, mlp__learning_rate=constant, mlp__solver=sgd, mlp__validation_fraction=0.2, selectkbest__k=270, total=  25.0s\n",
      "[CV] mlp__activation=tanh, mlp__alpha=0.004, mlp__learning_rate=constant, mlp__solver=sgd, mlp__validation_fraction=0.2, selectkbest__k=310 \n"
     ]
    },
    {
     "name": "stderr",
     "output_type": "stream",
     "text": [
      "D:\\Anaconda3\\lib\\site-packages\\sklearn\\neural_network\\multilayer_perceptron.py:562: ConvergenceWarning: Stochastic Optimizer: Maximum iterations (200) reached and the optimization hasn't converged yet.\n",
      "  % self.max_iter, ConvergenceWarning)\n"
     ]
    },
    {
     "name": "stdout",
     "output_type": "stream",
     "text": [
      "[CV]  mlp__activation=tanh, mlp__alpha=0.004, mlp__learning_rate=constant, mlp__solver=sgd, mlp__validation_fraction=0.2, selectkbest__k=290, total=  25.5s\n",
      "[CV] mlp__activation=tanh, mlp__alpha=0.004, mlp__learning_rate=constant, mlp__solver=sgd, mlp__validation_fraction=0.2, selectkbest__k=310 \n"
     ]
    },
    {
     "name": "stderr",
     "output_type": "stream",
     "text": [
      "D:\\Anaconda3\\lib\\site-packages\\sklearn\\neural_network\\multilayer_perceptron.py:562: ConvergenceWarning: Stochastic Optimizer: Maximum iterations (200) reached and the optimization hasn't converged yet.\n",
      "  % self.max_iter, ConvergenceWarning)\n"
     ]
    },
    {
     "name": "stdout",
     "output_type": "stream",
     "text": [
      "[CV]  mlp__activation=tanh, mlp__alpha=0.004, mlp__learning_rate=constant, mlp__solver=sgd, mlp__validation_fraction=0.2, selectkbest__k=290, total=  25.6s\n",
      "[CV] mlp__activation=tanh, mlp__alpha=0.004, mlp__learning_rate=constant, mlp__solver=sgd, mlp__validation_fraction=0.2, selectkbest__k=310 \n"
     ]
    },
    {
     "name": "stderr",
     "output_type": "stream",
     "text": [
      "D:\\Anaconda3\\lib\\site-packages\\sklearn\\neural_network\\multilayer_perceptron.py:562: ConvergenceWarning: Stochastic Optimizer: Maximum iterations (200) reached and the optimization hasn't converged yet.\n",
      "  % self.max_iter, ConvergenceWarning)\n"
     ]
    },
    {
     "name": "stdout",
     "output_type": "stream",
     "text": [
      "[CV]  mlp__activation=tanh, mlp__alpha=0.004, mlp__learning_rate=constant, mlp__solver=sgd, mlp__validation_fraction=0.2, selectkbest__k=290, total=  24.5s\n",
      "[CV] mlp__activation=tanh, mlp__alpha=0.004, mlp__learning_rate=adaptive, mlp__solver=sgd, mlp__validation_fraction=0.1, selectkbest__k=250 \n"
     ]
    },
    {
     "name": "stderr",
     "output_type": "stream",
     "text": [
      "D:\\Anaconda3\\lib\\site-packages\\sklearn\\neural_network\\multilayer_perceptron.py:562: ConvergenceWarning: Stochastic Optimizer: Maximum iterations (200) reached and the optimization hasn't converged yet.\n",
      "  % self.max_iter, ConvergenceWarning)\n"
     ]
    },
    {
     "name": "stdout",
     "output_type": "stream",
     "text": [
      "[CV]  mlp__activation=tanh, mlp__alpha=0.004, mlp__learning_rate=constant, mlp__solver=sgd, mlp__validation_fraction=0.2, selectkbest__k=290, total=  25.4s\n",
      "[CV] mlp__activation=tanh, mlp__alpha=0.004, mlp__learning_rate=adaptive, mlp__solver=sgd, mlp__validation_fraction=0.1, selectkbest__k=250 \n"
     ]
    },
    {
     "name": "stderr",
     "output_type": "stream",
     "text": [
      "D:\\Anaconda3\\lib\\site-packages\\sklearn\\neural_network\\multilayer_perceptron.py:562: ConvergenceWarning: Stochastic Optimizer: Maximum iterations (200) reached and the optimization hasn't converged yet.\n",
      "  % self.max_iter, ConvergenceWarning)\n"
     ]
    },
    {
     "name": "stdout",
     "output_type": "stream",
     "text": [
      "[CV]  mlp__activation=tanh, mlp__alpha=0.004, mlp__learning_rate=constant, mlp__solver=sgd, mlp__validation_fraction=0.2, selectkbest__k=290, total=  25.8s\n",
      "[CV] mlp__activation=tanh, mlp__alpha=0.004, mlp__learning_rate=adaptive, mlp__solver=sgd, mlp__validation_fraction=0.1, selectkbest__k=250 \n"
     ]
    },
    {
     "name": "stderr",
     "output_type": "stream",
     "text": [
      "D:\\Anaconda3\\lib\\site-packages\\sklearn\\neural_network\\multilayer_perceptron.py:562: ConvergenceWarning: Stochastic Optimizer: Maximum iterations (200) reached and the optimization hasn't converged yet.\n",
      "  % self.max_iter, ConvergenceWarning)\n"
     ]
    },
    {
     "name": "stdout",
     "output_type": "stream",
     "text": [
      "[CV]  mlp__activation=tanh, mlp__alpha=0.004, mlp__learning_rate=constant, mlp__solver=sgd, mlp__validation_fraction=0.2, selectkbest__k=310, total=  26.2s\n",
      "[CV] mlp__activation=tanh, mlp__alpha=0.004, mlp__learning_rate=adaptive, mlp__solver=sgd, mlp__validation_fraction=0.1, selectkbest__k=250 \n"
     ]
    },
    {
     "name": "stderr",
     "output_type": "stream",
     "text": [
      "D:\\Anaconda3\\lib\\site-packages\\sklearn\\neural_network\\multilayer_perceptron.py:562: ConvergenceWarning: Stochastic Optimizer: Maximum iterations (200) reached and the optimization hasn't converged yet.\n",
      "  % self.max_iter, ConvergenceWarning)\n"
     ]
    },
    {
     "name": "stdout",
     "output_type": "stream",
     "text": [
      "[CV]  mlp__activation=tanh, mlp__alpha=0.004, mlp__learning_rate=constant, mlp__solver=sgd, mlp__validation_fraction=0.2, selectkbest__k=310, total=  26.6s\n",
      "[CV] mlp__activation=tanh, mlp__alpha=0.004, mlp__learning_rate=adaptive, mlp__solver=sgd, mlp__validation_fraction=0.1, selectkbest__k=250 \n"
     ]
    },
    {
     "name": "stderr",
     "output_type": "stream",
     "text": [
      "D:\\Anaconda3\\lib\\site-packages\\sklearn\\neural_network\\multilayer_perceptron.py:562: ConvergenceWarning: Stochastic Optimizer: Maximum iterations (200) reached and the optimization hasn't converged yet.\n",
      "  % self.max_iter, ConvergenceWarning)\n"
     ]
    },
    {
     "name": "stdout",
     "output_type": "stream",
     "text": [
      "[CV]  mlp__activation=tanh, mlp__alpha=0.004, mlp__learning_rate=constant, mlp__solver=sgd, mlp__validation_fraction=0.2, selectkbest__k=310, total=  26.4s\n",
      "[CV] mlp__activation=tanh, mlp__alpha=0.004, mlp__learning_rate=adaptive, mlp__solver=sgd, mlp__validation_fraction=0.1, selectkbest__k=270 \n"
     ]
    },
    {
     "name": "stderr",
     "output_type": "stream",
     "text": [
      "D:\\Anaconda3\\lib\\site-packages\\sklearn\\neural_network\\multilayer_perceptron.py:562: ConvergenceWarning: Stochastic Optimizer: Maximum iterations (200) reached and the optimization hasn't converged yet.\n",
      "  % self.max_iter, ConvergenceWarning)\n",
      "D:\\Anaconda3\\lib\\site-packages\\sklearn\\neural_network\\multilayer_perceptron.py:562: ConvergenceWarning: Stochastic Optimizer: Maximum iterations (200) reached and the optimization hasn't converged yet.\n",
      "  % self.max_iter, ConvergenceWarning)\n"
     ]
    },
    {
     "name": "stdout",
     "output_type": "stream",
     "text": [
      "[CV]  mlp__activation=tanh, mlp__alpha=0.004, mlp__learning_rate=constant, mlp__solver=sgd, mlp__validation_fraction=0.2, selectkbest__k=310, total=  26.1s\n",
      "[CV] mlp__activation=tanh, mlp__alpha=0.004, mlp__learning_rate=adaptive, mlp__solver=sgd, mlp__validation_fraction=0.1, selectkbest__k=270 \n",
      "[CV]  mlp__activation=tanh, mlp__alpha=0.004, mlp__learning_rate=adaptive, mlp__solver=sgd, mlp__validation_fraction=0.1, selectkbest__k=250, total=  24.0s\n",
      "[CV] mlp__activation=tanh, mlp__alpha=0.004, mlp__learning_rate=adaptive, mlp__solver=sgd, mlp__validation_fraction=0.1, selectkbest__k=270 \n"
     ]
    },
    {
     "name": "stderr",
     "output_type": "stream",
     "text": [
      "D:\\Anaconda3\\lib\\site-packages\\sklearn\\neural_network\\multilayer_perceptron.py:562: ConvergenceWarning: Stochastic Optimizer: Maximum iterations (200) reached and the optimization hasn't converged yet.\n",
      "  % self.max_iter, ConvergenceWarning)\n"
     ]
    },
    {
     "name": "stdout",
     "output_type": "stream",
     "text": [
      "[CV]  mlp__activation=tanh, mlp__alpha=0.004, mlp__learning_rate=constant, mlp__solver=sgd, mlp__validation_fraction=0.2, selectkbest__k=310, total=  26.6s\n",
      "[CV] mlp__activation=tanh, mlp__alpha=0.004, mlp__learning_rate=adaptive, mlp__solver=sgd, mlp__validation_fraction=0.1, selectkbest__k=270 \n"
     ]
    },
    {
     "name": "stderr",
     "output_type": "stream",
     "text": [
      "D:\\Anaconda3\\lib\\site-packages\\sklearn\\neural_network\\multilayer_perceptron.py:562: ConvergenceWarning: Stochastic Optimizer: Maximum iterations (200) reached and the optimization hasn't converged yet.\n",
      "  % self.max_iter, ConvergenceWarning)\n"
     ]
    },
    {
     "name": "stdout",
     "output_type": "stream",
     "text": [
      "[CV]  mlp__activation=tanh, mlp__alpha=0.004, mlp__learning_rate=adaptive, mlp__solver=sgd, mlp__validation_fraction=0.1, selectkbest__k=250, total=  24.3s\n",
      "[CV] mlp__activation=tanh, mlp__alpha=0.004, mlp__learning_rate=adaptive, mlp__solver=sgd, mlp__validation_fraction=0.1, selectkbest__k=270 \n"
     ]
    },
    {
     "name": "stderr",
     "output_type": "stream",
     "text": [
      "D:\\Anaconda3\\lib\\site-packages\\sklearn\\neural_network\\multilayer_perceptron.py:562: ConvergenceWarning: Stochastic Optimizer: Maximum iterations (200) reached and the optimization hasn't converged yet.\n",
      "  % self.max_iter, ConvergenceWarning)\n"
     ]
    },
    {
     "name": "stdout",
     "output_type": "stream",
     "text": [
      "[CV]  mlp__activation=tanh, mlp__alpha=0.004, mlp__learning_rate=adaptive, mlp__solver=sgd, mlp__validation_fraction=0.1, selectkbest__k=250, total=  24.2s\n",
      "[CV] mlp__activation=tanh, mlp__alpha=0.004, mlp__learning_rate=adaptive, mlp__solver=sgd, mlp__validation_fraction=0.1, selectkbest__k=290 \n"
     ]
    },
    {
     "name": "stderr",
     "output_type": "stream",
     "text": [
      "D:\\Anaconda3\\lib\\site-packages\\sklearn\\neural_network\\multilayer_perceptron.py:562: ConvergenceWarning: Stochastic Optimizer: Maximum iterations (200) reached and the optimization hasn't converged yet.\n",
      "  % self.max_iter, ConvergenceWarning)\n"
     ]
    },
    {
     "name": "stdout",
     "output_type": "stream",
     "text": [
      "[CV]  mlp__activation=tanh, mlp__alpha=0.004, mlp__learning_rate=adaptive, mlp__solver=sgd, mlp__validation_fraction=0.1, selectkbest__k=250, total=  24.0s\n",
      "[CV] mlp__activation=tanh, mlp__alpha=0.004, mlp__learning_rate=adaptive, mlp__solver=sgd, mlp__validation_fraction=0.1, selectkbest__k=290 \n"
     ]
    },
    {
     "name": "stderr",
     "output_type": "stream",
     "text": [
      "D:\\Anaconda3\\lib\\site-packages\\sklearn\\neural_network\\multilayer_perceptron.py:562: ConvergenceWarning: Stochastic Optimizer: Maximum iterations (200) reached and the optimization hasn't converged yet.\n",
      "  % self.max_iter, ConvergenceWarning)\n"
     ]
    },
    {
     "name": "stdout",
     "output_type": "stream",
     "text": [
      "[CV]  mlp__activation=tanh, mlp__alpha=0.004, mlp__learning_rate=adaptive, mlp__solver=sgd, mlp__validation_fraction=0.1, selectkbest__k=250, total=  24.6s\n",
      "[CV] mlp__activation=tanh, mlp__alpha=0.004, mlp__learning_rate=adaptive, mlp__solver=sgd, mlp__validation_fraction=0.1, selectkbest__k=290 \n"
     ]
    },
    {
     "name": "stderr",
     "output_type": "stream",
     "text": [
      "D:\\Anaconda3\\lib\\site-packages\\sklearn\\neural_network\\multilayer_perceptron.py:562: ConvergenceWarning: Stochastic Optimizer: Maximum iterations (200) reached and the optimization hasn't converged yet.\n",
      "  % self.max_iter, ConvergenceWarning)\n"
     ]
    },
    {
     "name": "stdout",
     "output_type": "stream",
     "text": [
      "[CV]  mlp__activation=tanh, mlp__alpha=0.004, mlp__learning_rate=adaptive, mlp__solver=sgd, mlp__validation_fraction=0.1, selectkbest__k=270, total=  24.9s\n",
      "[CV] mlp__activation=tanh, mlp__alpha=0.004, mlp__learning_rate=adaptive, mlp__solver=sgd, mlp__validation_fraction=0.1, selectkbest__k=290 \n"
     ]
    },
    {
     "name": "stderr",
     "output_type": "stream",
     "text": [
      "D:\\Anaconda3\\lib\\site-packages\\sklearn\\neural_network\\multilayer_perceptron.py:562: ConvergenceWarning: Stochastic Optimizer: Maximum iterations (200) reached and the optimization hasn't converged yet.\n",
      "  % self.max_iter, ConvergenceWarning)\n"
     ]
    },
    {
     "name": "stdout",
     "output_type": "stream",
     "text": [
      "[CV]  mlp__activation=tanh, mlp__alpha=0.004, mlp__learning_rate=adaptive, mlp__solver=sgd, mlp__validation_fraction=0.1, selectkbest__k=270, total=  23.7s\n",
      "[CV] mlp__activation=tanh, mlp__alpha=0.004, mlp__learning_rate=adaptive, mlp__solver=sgd, mlp__validation_fraction=0.1, selectkbest__k=290 \n"
     ]
    },
    {
     "name": "stderr",
     "output_type": "stream",
     "text": [
      "D:\\Anaconda3\\lib\\site-packages\\sklearn\\neural_network\\multilayer_perceptron.py:562: ConvergenceWarning: Stochastic Optimizer: Maximum iterations (200) reached and the optimization hasn't converged yet.\n",
      "  % self.max_iter, ConvergenceWarning)\n"
     ]
    },
    {
     "name": "stdout",
     "output_type": "stream",
     "text": [
      "[CV]  mlp__activation=tanh, mlp__alpha=0.004, mlp__learning_rate=adaptive, mlp__solver=sgd, mlp__validation_fraction=0.1, selectkbest__k=270, total=  25.0s\n",
      "[CV] mlp__activation=tanh, mlp__alpha=0.004, mlp__learning_rate=adaptive, mlp__solver=sgd, mlp__validation_fraction=0.1, selectkbest__k=310 \n"
     ]
    },
    {
     "name": "stderr",
     "output_type": "stream",
     "text": [
      "D:\\Anaconda3\\lib\\site-packages\\sklearn\\neural_network\\multilayer_perceptron.py:562: ConvergenceWarning: Stochastic Optimizer: Maximum iterations (200) reached and the optimization hasn't converged yet.\n",
      "  % self.max_iter, ConvergenceWarning)\n"
     ]
    },
    {
     "name": "stdout",
     "output_type": "stream",
     "text": [
      "[CV]  mlp__activation=tanh, mlp__alpha=0.004, mlp__learning_rate=adaptive, mlp__solver=sgd, mlp__validation_fraction=0.1, selectkbest__k=270, total=  24.8s\n",
      "[CV] mlp__activation=tanh, mlp__alpha=0.004, mlp__learning_rate=adaptive, mlp__solver=sgd, mlp__validation_fraction=0.1, selectkbest__k=310 \n"
     ]
    },
    {
     "name": "stderr",
     "output_type": "stream",
     "text": [
      "D:\\Anaconda3\\lib\\site-packages\\sklearn\\neural_network\\multilayer_perceptron.py:562: ConvergenceWarning: Stochastic Optimizer: Maximum iterations (200) reached and the optimization hasn't converged yet.\n",
      "  % self.max_iter, ConvergenceWarning)\n"
     ]
    },
    {
     "name": "stdout",
     "output_type": "stream",
     "text": [
      "[CV]  mlp__activation=tanh, mlp__alpha=0.004, mlp__learning_rate=adaptive, mlp__solver=sgd, mlp__validation_fraction=0.1, selectkbest__k=270, total=  25.0s\n",
      "[CV] mlp__activation=tanh, mlp__alpha=0.004, mlp__learning_rate=adaptive, mlp__solver=sgd, mlp__validation_fraction=0.1, selectkbest__k=310 \n"
     ]
    },
    {
     "name": "stderr",
     "output_type": "stream",
     "text": [
      "D:\\Anaconda3\\lib\\site-packages\\sklearn\\neural_network\\multilayer_perceptron.py:562: ConvergenceWarning: Stochastic Optimizer: Maximum iterations (200) reached and the optimization hasn't converged yet.\n",
      "  % self.max_iter, ConvergenceWarning)\n"
     ]
    },
    {
     "name": "stdout",
     "output_type": "stream",
     "text": [
      "[CV]  mlp__activation=tanh, mlp__alpha=0.004, mlp__learning_rate=adaptive, mlp__solver=sgd, mlp__validation_fraction=0.1, selectkbest__k=290, total=  25.4s\n",
      "[CV] mlp__activation=tanh, mlp__alpha=0.004, mlp__learning_rate=adaptive, mlp__solver=sgd, mlp__validation_fraction=0.1, selectkbest__k=310 \n"
     ]
    },
    {
     "name": "stderr",
     "output_type": "stream",
     "text": [
      "D:\\Anaconda3\\lib\\site-packages\\sklearn\\neural_network\\multilayer_perceptron.py:562: ConvergenceWarning: Stochastic Optimizer: Maximum iterations (200) reached and the optimization hasn't converged yet.\n",
      "  % self.max_iter, ConvergenceWarning)\n"
     ]
    },
    {
     "name": "stdout",
     "output_type": "stream",
     "text": [
      "[CV]  mlp__activation=tanh, mlp__alpha=0.004, mlp__learning_rate=adaptive, mlp__solver=sgd, mlp__validation_fraction=0.1, selectkbest__k=290, total=  25.5s\n",
      "[CV] mlp__activation=tanh, mlp__alpha=0.004, mlp__learning_rate=adaptive, mlp__solver=sgd, mlp__validation_fraction=0.1, selectkbest__k=310 \n"
     ]
    },
    {
     "name": "stderr",
     "output_type": "stream",
     "text": [
      "D:\\Anaconda3\\lib\\site-packages\\sklearn\\neural_network\\multilayer_perceptron.py:562: ConvergenceWarning: Stochastic Optimizer: Maximum iterations (200) reached and the optimization hasn't converged yet.\n",
      "  % self.max_iter, ConvergenceWarning)\n"
     ]
    },
    {
     "name": "stdout",
     "output_type": "stream",
     "text": [
      "[CV]  mlp__activation=tanh, mlp__alpha=0.004, mlp__learning_rate=adaptive, mlp__solver=sgd, mlp__validation_fraction=0.1, selectkbest__k=290, total=  25.8s\n",
      "[CV] mlp__activation=tanh, mlp__alpha=0.004, mlp__learning_rate=adaptive, mlp__solver=sgd, mlp__validation_fraction=0.2, selectkbest__k=250 \n"
     ]
    },
    {
     "name": "stderr",
     "output_type": "stream",
     "text": [
      "D:\\Anaconda3\\lib\\site-packages\\sklearn\\neural_network\\multilayer_perceptron.py:562: ConvergenceWarning: Stochastic Optimizer: Maximum iterations (200) reached and the optimization hasn't converged yet.\n",
      "  % self.max_iter, ConvergenceWarning)\n"
     ]
    },
    {
     "name": "stdout",
     "output_type": "stream",
     "text": [
      "[CV]  mlp__activation=tanh, mlp__alpha=0.004, mlp__learning_rate=adaptive, mlp__solver=sgd, mlp__validation_fraction=0.1, selectkbest__k=290, total=  25.5s\n",
      "[CV] mlp__activation=tanh, mlp__alpha=0.004, mlp__learning_rate=adaptive, mlp__solver=sgd, mlp__validation_fraction=0.2, selectkbest__k=250 \n"
     ]
    },
    {
     "name": "stderr",
     "output_type": "stream",
     "text": [
      "D:\\Anaconda3\\lib\\site-packages\\sklearn\\neural_network\\multilayer_perceptron.py:562: ConvergenceWarning: Stochastic Optimizer: Maximum iterations (200) reached and the optimization hasn't converged yet.\n",
      "  % self.max_iter, ConvergenceWarning)\n"
     ]
    },
    {
     "name": "stdout",
     "output_type": "stream",
     "text": [
      "[CV]  mlp__activation=tanh, mlp__alpha=0.004, mlp__learning_rate=adaptive, mlp__solver=sgd, mlp__validation_fraction=0.1, selectkbest__k=290, total=  24.7s\n",
      "[CV] mlp__activation=tanh, mlp__alpha=0.004, mlp__learning_rate=adaptive, mlp__solver=sgd, mlp__validation_fraction=0.2, selectkbest__k=250 \n"
     ]
    },
    {
     "name": "stderr",
     "output_type": "stream",
     "text": [
      "D:\\Anaconda3\\lib\\site-packages\\sklearn\\neural_network\\multilayer_perceptron.py:562: ConvergenceWarning: Stochastic Optimizer: Maximum iterations (200) reached and the optimization hasn't converged yet.\n",
      "  % self.max_iter, ConvergenceWarning)\n"
     ]
    },
    {
     "name": "stdout",
     "output_type": "stream",
     "text": [
      "[CV]  mlp__activation=tanh, mlp__alpha=0.004, mlp__learning_rate=adaptive, mlp__solver=sgd, mlp__validation_fraction=0.1, selectkbest__k=310, total=  26.4s\n",
      "[CV] mlp__activation=tanh, mlp__alpha=0.004, mlp__learning_rate=adaptive, mlp__solver=sgd, mlp__validation_fraction=0.2, selectkbest__k=250 \n"
     ]
    },
    {
     "name": "stderr",
     "output_type": "stream",
     "text": [
      "D:\\Anaconda3\\lib\\site-packages\\sklearn\\neural_network\\multilayer_perceptron.py:562: ConvergenceWarning: Stochastic Optimizer: Maximum iterations (200) reached and the optimization hasn't converged yet.\n",
      "  % self.max_iter, ConvergenceWarning)\n"
     ]
    },
    {
     "name": "stdout",
     "output_type": "stream",
     "text": [
      "[CV]  mlp__activation=tanh, mlp__alpha=0.004, mlp__learning_rate=adaptive, mlp__solver=sgd, mlp__validation_fraction=0.1, selectkbest__k=310, total=  26.7s\n",
      "[CV] mlp__activation=tanh, mlp__alpha=0.004, mlp__learning_rate=adaptive, mlp__solver=sgd, mlp__validation_fraction=0.2, selectkbest__k=250 \n"
     ]
    },
    {
     "name": "stderr",
     "output_type": "stream",
     "text": [
      "D:\\Anaconda3\\lib\\site-packages\\sklearn\\neural_network\\multilayer_perceptron.py:562: ConvergenceWarning: Stochastic Optimizer: Maximum iterations (200) reached and the optimization hasn't converged yet.\n",
      "  % self.max_iter, ConvergenceWarning)\n"
     ]
    },
    {
     "name": "stdout",
     "output_type": "stream",
     "text": [
      "[CV]  mlp__activation=tanh, mlp__alpha=0.004, mlp__learning_rate=adaptive, mlp__solver=sgd, mlp__validation_fraction=0.1, selectkbest__k=310, total=  27.7s\n",
      "[CV] mlp__activation=tanh, mlp__alpha=0.004, mlp__learning_rate=adaptive, mlp__solver=sgd, mlp__validation_fraction=0.2, selectkbest__k=270 \n"
     ]
    },
    {
     "name": "stderr",
     "output_type": "stream",
     "text": [
      "D:\\Anaconda3\\lib\\site-packages\\sklearn\\neural_network\\multilayer_perceptron.py:562: ConvergenceWarning: Stochastic Optimizer: Maximum iterations (200) reached and the optimization hasn't converged yet.\n",
      "  % self.max_iter, ConvergenceWarning)\n"
     ]
    },
    {
     "name": "stdout",
     "output_type": "stream",
     "text": [
      "[CV]  mlp__activation=tanh, mlp__alpha=0.004, mlp__learning_rate=adaptive, mlp__solver=sgd, mlp__validation_fraction=0.1, selectkbest__k=310, total=  27.4s\n",
      "[CV] mlp__activation=tanh, mlp__alpha=0.004, mlp__learning_rate=adaptive, mlp__solver=sgd, mlp__validation_fraction=0.2, selectkbest__k=270 \n"
     ]
    },
    {
     "name": "stderr",
     "output_type": "stream",
     "text": [
      "D:\\Anaconda3\\lib\\site-packages\\sklearn\\neural_network\\multilayer_perceptron.py:562: ConvergenceWarning: Stochastic Optimizer: Maximum iterations (200) reached and the optimization hasn't converged yet.\n",
      "  % self.max_iter, ConvergenceWarning)\n"
     ]
    },
    {
     "name": "stdout",
     "output_type": "stream",
     "text": [
      "[CV]  mlp__activation=tanh, mlp__alpha=0.004, mlp__learning_rate=adaptive, mlp__solver=sgd, mlp__validation_fraction=0.1, selectkbest__k=310, total=  27.3s\n",
      "[CV] mlp__activation=tanh, mlp__alpha=0.004, mlp__learning_rate=adaptive, mlp__solver=sgd, mlp__validation_fraction=0.2, selectkbest__k=270 \n"
     ]
    },
    {
     "name": "stderr",
     "output_type": "stream",
     "text": [
      "D:\\Anaconda3\\lib\\site-packages\\sklearn\\neural_network\\multilayer_perceptron.py:562: ConvergenceWarning: Stochastic Optimizer: Maximum iterations (200) reached and the optimization hasn't converged yet.\n",
      "  % self.max_iter, ConvergenceWarning)\n",
      "D:\\Anaconda3\\lib\\site-packages\\sklearn\\neural_network\\multilayer_perceptron.py:562: ConvergenceWarning: Stochastic Optimizer: Maximum iterations (200) reached and the optimization hasn't converged yet.\n",
      "  % self.max_iter, ConvergenceWarning)\n"
     ]
    },
    {
     "name": "stdout",
     "output_type": "stream",
     "text": [
      "[CV]  mlp__activation=tanh, mlp__alpha=0.004, mlp__learning_rate=adaptive, mlp__solver=sgd, mlp__validation_fraction=0.2, selectkbest__k=250, total=  26.3s\n",
      "[CV] mlp__activation=tanh, mlp__alpha=0.004, mlp__learning_rate=adaptive, mlp__solver=sgd, mlp__validation_fraction=0.2, selectkbest__k=270 \n",
      "[CV]  mlp__activation=tanh, mlp__alpha=0.004, mlp__learning_rate=adaptive, mlp__solver=sgd, mlp__validation_fraction=0.2, selectkbest__k=250, total=  27.4s\n",
      "[CV] mlp__activation=tanh, mlp__alpha=0.004, mlp__learning_rate=adaptive, mlp__solver=sgd, mlp__validation_fraction=0.2, selectkbest__k=270 \n"
     ]
    },
    {
     "name": "stderr",
     "output_type": "stream",
     "text": [
      "D:\\Anaconda3\\lib\\site-packages\\sklearn\\neural_network\\multilayer_perceptron.py:562: ConvergenceWarning: Stochastic Optimizer: Maximum iterations (200) reached and the optimization hasn't converged yet.\n",
      "  % self.max_iter, ConvergenceWarning)\n"
     ]
    },
    {
     "name": "stdout",
     "output_type": "stream",
     "text": [
      "[CV]  mlp__activation=tanh, mlp__alpha=0.004, mlp__learning_rate=adaptive, mlp__solver=sgd, mlp__validation_fraction=0.2, selectkbest__k=250, total=  26.4s\n",
      "[CV] mlp__activation=tanh, mlp__alpha=0.004, mlp__learning_rate=adaptive, mlp__solver=sgd, mlp__validation_fraction=0.2, selectkbest__k=290 \n"
     ]
    },
    {
     "name": "stderr",
     "output_type": "stream",
     "text": [
      "D:\\Anaconda3\\lib\\site-packages\\sklearn\\neural_network\\multilayer_perceptron.py:562: ConvergenceWarning: Stochastic Optimizer: Maximum iterations (200) reached and the optimization hasn't converged yet.\n",
      "  % self.max_iter, ConvergenceWarning)\n"
     ]
    },
    {
     "name": "stdout",
     "output_type": "stream",
     "text": [
      "[CV]  mlp__activation=tanh, mlp__alpha=0.004, mlp__learning_rate=adaptive, mlp__solver=sgd, mlp__validation_fraction=0.2, selectkbest__k=250, total=  26.2s\n",
      "[CV] mlp__activation=tanh, mlp__alpha=0.004, mlp__learning_rate=adaptive, mlp__solver=sgd, mlp__validation_fraction=0.2, selectkbest__k=290 \n"
     ]
    },
    {
     "name": "stderr",
     "output_type": "stream",
     "text": [
      "D:\\Anaconda3\\lib\\site-packages\\sklearn\\neural_network\\multilayer_perceptron.py:562: ConvergenceWarning: Stochastic Optimizer: Maximum iterations (200) reached and the optimization hasn't converged yet.\n",
      "  % self.max_iter, ConvergenceWarning)\n"
     ]
    },
    {
     "name": "stdout",
     "output_type": "stream",
     "text": [
      "[CV]  mlp__activation=tanh, mlp__alpha=0.004, mlp__learning_rate=adaptive, mlp__solver=sgd, mlp__validation_fraction=0.2, selectkbest__k=250, total=  26.7s\n",
      "[CV] mlp__activation=tanh, mlp__alpha=0.004, mlp__learning_rate=adaptive, mlp__solver=sgd, mlp__validation_fraction=0.2, selectkbest__k=290 \n"
     ]
    },
    {
     "name": "stderr",
     "output_type": "stream",
     "text": [
      "D:\\Anaconda3\\lib\\site-packages\\sklearn\\neural_network\\multilayer_perceptron.py:562: ConvergenceWarning: Stochastic Optimizer: Maximum iterations (200) reached and the optimization hasn't converged yet.\n",
      "  % self.max_iter, ConvergenceWarning)\n",
      "D:\\Anaconda3\\lib\\site-packages\\sklearn\\neural_network\\multilayer_perceptron.py:562: ConvergenceWarning: Stochastic Optimizer: Maximum iterations (200) reached and the optimization hasn't converged yet.\n",
      "  % self.max_iter, ConvergenceWarning)\n"
     ]
    },
    {
     "name": "stdout",
     "output_type": "stream",
     "text": [
      "[CV]  mlp__activation=tanh, mlp__alpha=0.004, mlp__learning_rate=adaptive, mlp__solver=sgd, mlp__validation_fraction=0.2, selectkbest__k=270, total=  27.2s\n",
      "[CV] mlp__activation=tanh, mlp__alpha=0.004, mlp__learning_rate=adaptive, mlp__solver=sgd, mlp__validation_fraction=0.2, selectkbest__k=290 \n",
      "[CV]  mlp__activation=tanh, mlp__alpha=0.004, mlp__learning_rate=adaptive, mlp__solver=sgd, mlp__validation_fraction=0.2, selectkbest__k=270, total=  25.5s\n",
      "[CV] mlp__activation=tanh, mlp__alpha=0.004, mlp__learning_rate=adaptive, mlp__solver=sgd, mlp__validation_fraction=0.2, selectkbest__k=290 \n"
     ]
    },
    {
     "name": "stderr",
     "output_type": "stream",
     "text": [
      "D:\\Anaconda3\\lib\\site-packages\\sklearn\\neural_network\\multilayer_perceptron.py:562: ConvergenceWarning: Stochastic Optimizer: Maximum iterations (200) reached and the optimization hasn't converged yet.\n",
      "  % self.max_iter, ConvergenceWarning)\n"
     ]
    },
    {
     "name": "stdout",
     "output_type": "stream",
     "text": [
      "[CV]  mlp__activation=tanh, mlp__alpha=0.004, mlp__learning_rate=adaptive, mlp__solver=sgd, mlp__validation_fraction=0.2, selectkbest__k=270, total=  27.5s\n",
      "[CV] mlp__activation=tanh, mlp__alpha=0.004, mlp__learning_rate=adaptive, mlp__solver=sgd, mlp__validation_fraction=0.2, selectkbest__k=310 \n"
     ]
    },
    {
     "name": "stderr",
     "output_type": "stream",
     "text": [
      "D:\\Anaconda3\\lib\\site-packages\\sklearn\\neural_network\\multilayer_perceptron.py:562: ConvergenceWarning: Stochastic Optimizer: Maximum iterations (200) reached and the optimization hasn't converged yet.\n",
      "  % self.max_iter, ConvergenceWarning)\n"
     ]
    },
    {
     "name": "stdout",
     "output_type": "stream",
     "text": [
      "[CV]  mlp__activation=tanh, mlp__alpha=0.004, mlp__learning_rate=adaptive, mlp__solver=sgd, mlp__validation_fraction=0.2, selectkbest__k=270, total=  26.7s\n",
      "[CV] mlp__activation=tanh, mlp__alpha=0.004, mlp__learning_rate=adaptive, mlp__solver=sgd, mlp__validation_fraction=0.2, selectkbest__k=310 \n"
     ]
    },
    {
     "name": "stderr",
     "output_type": "stream",
     "text": [
      "D:\\Anaconda3\\lib\\site-packages\\sklearn\\neural_network\\multilayer_perceptron.py:562: ConvergenceWarning: Stochastic Optimizer: Maximum iterations (200) reached and the optimization hasn't converged yet.\n",
      "  % self.max_iter, ConvergenceWarning)\n"
     ]
    },
    {
     "name": "stdout",
     "output_type": "stream",
     "text": [
      "[CV]  mlp__activation=tanh, mlp__alpha=0.004, mlp__learning_rate=adaptive, mlp__solver=sgd, mlp__validation_fraction=0.2, selectkbest__k=290, total=  26.9s\n",
      "[CV] mlp__activation=tanh, mlp__alpha=0.004, mlp__learning_rate=adaptive, mlp__solver=sgd, mlp__validation_fraction=0.2, selectkbest__k=310 \n"
     ]
    },
    {
     "name": "stderr",
     "output_type": "stream",
     "text": [
      "D:\\Anaconda3\\lib\\site-packages\\sklearn\\neural_network\\multilayer_perceptron.py:562: ConvergenceWarning: Stochastic Optimizer: Maximum iterations (200) reached and the optimization hasn't converged yet.\n",
      "  % self.max_iter, ConvergenceWarning)\n"
     ]
    },
    {
     "name": "stdout",
     "output_type": "stream",
     "text": [
      "[CV]  mlp__activation=tanh, mlp__alpha=0.004, mlp__learning_rate=adaptive, mlp__solver=sgd, mlp__validation_fraction=0.2, selectkbest__k=270, total=  28.2s\n",
      "[CV] mlp__activation=tanh, mlp__alpha=0.004, mlp__learning_rate=adaptive, mlp__solver=sgd, mlp__validation_fraction=0.2, selectkbest__k=310 \n"
     ]
    },
    {
     "name": "stderr",
     "output_type": "stream",
     "text": [
      "D:\\Anaconda3\\lib\\site-packages\\sklearn\\neural_network\\multilayer_perceptron.py:562: ConvergenceWarning: Stochastic Optimizer: Maximum iterations (200) reached and the optimization hasn't converged yet.\n",
      "  % self.max_iter, ConvergenceWarning)\n"
     ]
    },
    {
     "name": "stdout",
     "output_type": "stream",
     "text": [
      "[CV]  mlp__activation=tanh, mlp__alpha=0.004, mlp__learning_rate=adaptive, mlp__solver=sgd, mlp__validation_fraction=0.2, selectkbest__k=290, total=  27.6s\n",
      "[CV] mlp__activation=tanh, mlp__alpha=0.004, mlp__learning_rate=adaptive, mlp__solver=sgd, mlp__validation_fraction=0.2, selectkbest__k=310 \n"
     ]
    },
    {
     "name": "stderr",
     "output_type": "stream",
     "text": [
      "D:\\Anaconda3\\lib\\site-packages\\sklearn\\neural_network\\multilayer_perceptron.py:562: ConvergenceWarning: Stochastic Optimizer: Maximum iterations (200) reached and the optimization hasn't converged yet.\n",
      "  % self.max_iter, ConvergenceWarning)\n"
     ]
    },
    {
     "name": "stdout",
     "output_type": "stream",
     "text": [
      "[CV]  mlp__activation=tanh, mlp__alpha=0.004, mlp__learning_rate=adaptive, mlp__solver=sgd, mlp__validation_fraction=0.2, selectkbest__k=290, total=  27.7s\n",
      "[CV] mlp__activation=tanh, mlp__alpha=0.007, mlp__learning_rate=constant, mlp__solver=sgd, mlp__validation_fraction=0.1, selectkbest__k=250 \n"
     ]
    },
    {
     "name": "stderr",
     "output_type": "stream",
     "text": [
      "D:\\Anaconda3\\lib\\site-packages\\sklearn\\neural_network\\multilayer_perceptron.py:562: ConvergenceWarning: Stochastic Optimizer: Maximum iterations (200) reached and the optimization hasn't converged yet.\n",
      "  % self.max_iter, ConvergenceWarning)\n",
      "[Parallel(n_jobs=-1)]: Done 154 tasks      | elapsed:  8.7min\n"
     ]
    },
    {
     "name": "stdout",
     "output_type": "stream",
     "text": [
      "[CV]  mlp__activation=tanh, mlp__alpha=0.004, mlp__learning_rate=adaptive, mlp__solver=sgd, mlp__validation_fraction=0.2, selectkbest__k=290, total=  26.7s\n",
      "[CV] mlp__activation=tanh, mlp__alpha=0.007, mlp__learning_rate=constant, mlp__solver=sgd, mlp__validation_fraction=0.1, selectkbest__k=250 \n"
     ]
    },
    {
     "name": "stderr",
     "output_type": "stream",
     "text": [
      "D:\\Anaconda3\\lib\\site-packages\\sklearn\\neural_network\\multilayer_perceptron.py:562: ConvergenceWarning: Stochastic Optimizer: Maximum iterations (200) reached and the optimization hasn't converged yet.\n",
      "  % self.max_iter, ConvergenceWarning)\n"
     ]
    },
    {
     "name": "stdout",
     "output_type": "stream",
     "text": [
      "[CV]  mlp__activation=tanh, mlp__alpha=0.004, mlp__learning_rate=adaptive, mlp__solver=sgd, mlp__validation_fraction=0.2, selectkbest__k=290, total=  28.3s\n",
      "[CV] mlp__activation=tanh, mlp__alpha=0.007, mlp__learning_rate=constant, mlp__solver=sgd, mlp__validation_fraction=0.1, selectkbest__k=250 \n"
     ]
    },
    {
     "name": "stderr",
     "output_type": "stream",
     "text": [
      "D:\\Anaconda3\\lib\\site-packages\\sklearn\\neural_network\\multilayer_perceptron.py:562: ConvergenceWarning: Stochastic Optimizer: Maximum iterations (200) reached and the optimization hasn't converged yet.\n",
      "  % self.max_iter, ConvergenceWarning)\n"
     ]
    },
    {
     "name": "stdout",
     "output_type": "stream",
     "text": [
      "[CV]  mlp__activation=tanh, mlp__alpha=0.004, mlp__learning_rate=adaptive, mlp__solver=sgd, mlp__validation_fraction=0.2, selectkbest__k=310, total=  28.7s\n",
      "[CV] mlp__activation=tanh, mlp__alpha=0.007, mlp__learning_rate=constant, mlp__solver=sgd, mlp__validation_fraction=0.1, selectkbest__k=250 \n"
     ]
    },
    {
     "name": "stderr",
     "output_type": "stream",
     "text": [
      "D:\\Anaconda3\\lib\\site-packages\\sklearn\\neural_network\\multilayer_perceptron.py:562: ConvergenceWarning: Stochastic Optimizer: Maximum iterations (200) reached and the optimization hasn't converged yet.\n",
      "  % self.max_iter, ConvergenceWarning)\n"
     ]
    },
    {
     "name": "stdout",
     "output_type": "stream",
     "text": [
      "[CV]  mlp__activation=tanh, mlp__alpha=0.004, mlp__learning_rate=adaptive, mlp__solver=sgd, mlp__validation_fraction=0.2, selectkbest__k=310, total=  27.3s\n",
      "[CV] mlp__activation=tanh, mlp__alpha=0.007, mlp__learning_rate=constant, mlp__solver=sgd, mlp__validation_fraction=0.1, selectkbest__k=250 \n"
     ]
    },
    {
     "name": "stderr",
     "output_type": "stream",
     "text": [
      "D:\\Anaconda3\\lib\\site-packages\\sklearn\\neural_network\\multilayer_perceptron.py:562: ConvergenceWarning: Stochastic Optimizer: Maximum iterations (200) reached and the optimization hasn't converged yet.\n",
      "  % self.max_iter, ConvergenceWarning)\n"
     ]
    },
    {
     "name": "stdout",
     "output_type": "stream",
     "text": [
      "[CV]  mlp__activation=tanh, mlp__alpha=0.004, mlp__learning_rate=adaptive, mlp__solver=sgd, mlp__validation_fraction=0.2, selectkbest__k=310, total=  27.5s\n",
      "[CV] mlp__activation=tanh, mlp__alpha=0.007, mlp__learning_rate=constant, mlp__solver=sgd, mlp__validation_fraction=0.1, selectkbest__k=270 \n"
     ]
    },
    {
     "name": "stderr",
     "output_type": "stream",
     "text": [
      "D:\\Anaconda3\\lib\\site-packages\\sklearn\\neural_network\\multilayer_perceptron.py:562: ConvergenceWarning: Stochastic Optimizer: Maximum iterations (200) reached and the optimization hasn't converged yet.\n",
      "  % self.max_iter, ConvergenceWarning)\n"
     ]
    },
    {
     "name": "stdout",
     "output_type": "stream",
     "text": [
      "[CV]  mlp__activation=tanh, mlp__alpha=0.004, mlp__learning_rate=adaptive, mlp__solver=sgd, mlp__validation_fraction=0.2, selectkbest__k=310, total=  28.2s\n",
      "[CV] mlp__activation=tanh, mlp__alpha=0.007, mlp__learning_rate=constant, mlp__solver=sgd, mlp__validation_fraction=0.1, selectkbest__k=270 \n"
     ]
    },
    {
     "name": "stderr",
     "output_type": "stream",
     "text": [
      "D:\\Anaconda3\\lib\\site-packages\\sklearn\\neural_network\\multilayer_perceptron.py:562: ConvergenceWarning: Stochastic Optimizer: Maximum iterations (200) reached and the optimization hasn't converged yet.\n",
      "  % self.max_iter, ConvergenceWarning)\n"
     ]
    },
    {
     "name": "stdout",
     "output_type": "stream",
     "text": [
      "[CV]  mlp__activation=tanh, mlp__alpha=0.004, mlp__learning_rate=adaptive, mlp__solver=sgd, mlp__validation_fraction=0.2, selectkbest__k=310, total=  27.3s\n",
      "[CV] mlp__activation=tanh, mlp__alpha=0.007, mlp__learning_rate=constant, mlp__solver=sgd, mlp__validation_fraction=0.1, selectkbest__k=270 \n"
     ]
    },
    {
     "name": "stderr",
     "output_type": "stream",
     "text": [
      "D:\\Anaconda3\\lib\\site-packages\\sklearn\\neural_network\\multilayer_perceptron.py:562: ConvergenceWarning: Stochastic Optimizer: Maximum iterations (200) reached and the optimization hasn't converged yet.\n",
      "  % self.max_iter, ConvergenceWarning)\n"
     ]
    },
    {
     "name": "stdout",
     "output_type": "stream",
     "text": [
      "[CV]  mlp__activation=tanh, mlp__alpha=0.007, mlp__learning_rate=constant, mlp__solver=sgd, mlp__validation_fraction=0.1, selectkbest__k=250, total=  26.6s\n",
      "[CV] mlp__activation=tanh, mlp__alpha=0.007, mlp__learning_rate=constant, mlp__solver=sgd, mlp__validation_fraction=0.1, selectkbest__k=270 \n"
     ]
    },
    {
     "name": "stderr",
     "output_type": "stream",
     "text": [
      "D:\\Anaconda3\\lib\\site-packages\\sklearn\\neural_network\\multilayer_perceptron.py:562: ConvergenceWarning: Stochastic Optimizer: Maximum iterations (200) reached and the optimization hasn't converged yet.\n",
      "  % self.max_iter, ConvergenceWarning)\n"
     ]
    },
    {
     "name": "stdout",
     "output_type": "stream",
     "text": [
      "[CV]  mlp__activation=tanh, mlp__alpha=0.007, mlp__learning_rate=constant, mlp__solver=sgd, mlp__validation_fraction=0.1, selectkbest__k=250, total=  25.6s\n",
      "[CV] mlp__activation=tanh, mlp__alpha=0.007, mlp__learning_rate=constant, mlp__solver=sgd, mlp__validation_fraction=0.1, selectkbest__k=270 \n"
     ]
    },
    {
     "name": "stderr",
     "output_type": "stream",
     "text": [
      "D:\\Anaconda3\\lib\\site-packages\\sklearn\\neural_network\\multilayer_perceptron.py:562: ConvergenceWarning: Stochastic Optimizer: Maximum iterations (200) reached and the optimization hasn't converged yet.\n",
      "  % self.max_iter, ConvergenceWarning)\n"
     ]
    },
    {
     "name": "stdout",
     "output_type": "stream",
     "text": [
      "[CV]  mlp__activation=tanh, mlp__alpha=0.007, mlp__learning_rate=constant, mlp__solver=sgd, mlp__validation_fraction=0.1, selectkbest__k=250, total=  25.6s\n",
      "[CV] mlp__activation=tanh, mlp__alpha=0.007, mlp__learning_rate=constant, mlp__solver=sgd, mlp__validation_fraction=0.1, selectkbest__k=290 \n"
     ]
    },
    {
     "name": "stderr",
     "output_type": "stream",
     "text": [
      "D:\\Anaconda3\\lib\\site-packages\\sklearn\\neural_network\\multilayer_perceptron.py:562: ConvergenceWarning: Stochastic Optimizer: Maximum iterations (200) reached and the optimization hasn't converged yet.\n",
      "  % self.max_iter, ConvergenceWarning)\n"
     ]
    },
    {
     "name": "stdout",
     "output_type": "stream",
     "text": [
      "[CV]  mlp__activation=tanh, mlp__alpha=0.007, mlp__learning_rate=constant, mlp__solver=sgd, mlp__validation_fraction=0.1, selectkbest__k=250, total=  25.1s\n",
      "[CV] mlp__activation=tanh, mlp__alpha=0.007, mlp__learning_rate=constant, mlp__solver=sgd, mlp__validation_fraction=0.1, selectkbest__k=290 \n"
     ]
    },
    {
     "name": "stderr",
     "output_type": "stream",
     "text": [
      "D:\\Anaconda3\\lib\\site-packages\\sklearn\\neural_network\\multilayer_perceptron.py:562: ConvergenceWarning: Stochastic Optimizer: Maximum iterations (200) reached and the optimization hasn't converged yet.\n",
      "  % self.max_iter, ConvergenceWarning)\n"
     ]
    },
    {
     "name": "stdout",
     "output_type": "stream",
     "text": [
      "[CV]  mlp__activation=tanh, mlp__alpha=0.007, mlp__learning_rate=constant, mlp__solver=sgd, mlp__validation_fraction=0.1, selectkbest__k=250, total=  25.3s\n",
      "[CV] mlp__activation=tanh, mlp__alpha=0.007, mlp__learning_rate=constant, mlp__solver=sgd, mlp__validation_fraction=0.1, selectkbest__k=290 \n"
     ]
    },
    {
     "name": "stderr",
     "output_type": "stream",
     "text": [
      "D:\\Anaconda3\\lib\\site-packages\\sklearn\\neural_network\\multilayer_perceptron.py:562: ConvergenceWarning: Stochastic Optimizer: Maximum iterations (200) reached and the optimization hasn't converged yet.\n",
      "  % self.max_iter, ConvergenceWarning)\n"
     ]
    },
    {
     "name": "stdout",
     "output_type": "stream",
     "text": [
      "[CV]  mlp__activation=tanh, mlp__alpha=0.007, mlp__learning_rate=constant, mlp__solver=sgd, mlp__validation_fraction=0.1, selectkbest__k=270, total=  25.0s\n",
      "[CV] mlp__activation=tanh, mlp__alpha=0.007, mlp__learning_rate=constant, mlp__solver=sgd, mlp__validation_fraction=0.1, selectkbest__k=290 \n"
     ]
    },
    {
     "name": "stderr",
     "output_type": "stream",
     "text": [
      "D:\\Anaconda3\\lib\\site-packages\\sklearn\\neural_network\\multilayer_perceptron.py:562: ConvergenceWarning: Stochastic Optimizer: Maximum iterations (200) reached and the optimization hasn't converged yet.\n",
      "  % self.max_iter, ConvergenceWarning)\n"
     ]
    },
    {
     "name": "stdout",
     "output_type": "stream",
     "text": [
      "[CV]  mlp__activation=tanh, mlp__alpha=0.007, mlp__learning_rate=constant, mlp__solver=sgd, mlp__validation_fraction=0.1, selectkbest__k=270, total=  25.7s\n",
      "[CV] mlp__activation=tanh, mlp__alpha=0.007, mlp__learning_rate=constant, mlp__solver=sgd, mlp__validation_fraction=0.1, selectkbest__k=290 \n"
     ]
    },
    {
     "name": "stderr",
     "output_type": "stream",
     "text": [
      "D:\\Anaconda3\\lib\\site-packages\\sklearn\\neural_network\\multilayer_perceptron.py:562: ConvergenceWarning: Stochastic Optimizer: Maximum iterations (200) reached and the optimization hasn't converged yet.\n",
      "  % self.max_iter, ConvergenceWarning)\n"
     ]
    },
    {
     "name": "stdout",
     "output_type": "stream",
     "text": [
      "[CV]  mlp__activation=tanh, mlp__alpha=0.007, mlp__learning_rate=constant, mlp__solver=sgd, mlp__validation_fraction=0.1, selectkbest__k=270, total=  25.5s\n",
      "[CV] mlp__activation=tanh, mlp__alpha=0.007, mlp__learning_rate=constant, mlp__solver=sgd, mlp__validation_fraction=0.1, selectkbest__k=310 \n"
     ]
    },
    {
     "name": "stderr",
     "output_type": "stream",
     "text": [
      "D:\\Anaconda3\\lib\\site-packages\\sklearn\\neural_network\\multilayer_perceptron.py:562: ConvergenceWarning: Stochastic Optimizer: Maximum iterations (200) reached and the optimization hasn't converged yet.\n",
      "  % self.max_iter, ConvergenceWarning)\n"
     ]
    },
    {
     "name": "stdout",
     "output_type": "stream",
     "text": [
      "[CV]  mlp__activation=tanh, mlp__alpha=0.007, mlp__learning_rate=constant, mlp__solver=sgd, mlp__validation_fraction=0.1, selectkbest__k=270, total=  25.4s\n",
      "[CV] mlp__activation=tanh, mlp__alpha=0.007, mlp__learning_rate=constant, mlp__solver=sgd, mlp__validation_fraction=0.1, selectkbest__k=310 \n"
     ]
    },
    {
     "name": "stderr",
     "output_type": "stream",
     "text": [
      "D:\\Anaconda3\\lib\\site-packages\\sklearn\\neural_network\\multilayer_perceptron.py:562: ConvergenceWarning: Stochastic Optimizer: Maximum iterations (200) reached and the optimization hasn't converged yet.\n",
      "  % self.max_iter, ConvergenceWarning)\n"
     ]
    },
    {
     "name": "stdout",
     "output_type": "stream",
     "text": [
      "[CV]  mlp__activation=tanh, mlp__alpha=0.007, mlp__learning_rate=constant, mlp__solver=sgd, mlp__validation_fraction=0.1, selectkbest__k=270, total=  25.2s\n",
      "[CV] mlp__activation=tanh, mlp__alpha=0.007, mlp__learning_rate=constant, mlp__solver=sgd, mlp__validation_fraction=0.1, selectkbest__k=310 \n"
     ]
    },
    {
     "name": "stderr",
     "output_type": "stream",
     "text": [
      "D:\\Anaconda3\\lib\\site-packages\\sklearn\\neural_network\\multilayer_perceptron.py:562: ConvergenceWarning: Stochastic Optimizer: Maximum iterations (200) reached and the optimization hasn't converged yet.\n",
      "  % self.max_iter, ConvergenceWarning)\n"
     ]
    },
    {
     "name": "stdout",
     "output_type": "stream",
     "text": [
      "[CV]  mlp__activation=tanh, mlp__alpha=0.007, mlp__learning_rate=constant, mlp__solver=sgd, mlp__validation_fraction=0.1, selectkbest__k=290, total=  25.9s\n",
      "[CV] mlp__activation=tanh, mlp__alpha=0.007, mlp__learning_rate=constant, mlp__solver=sgd, mlp__validation_fraction=0.1, selectkbest__k=310 \n"
     ]
    },
    {
     "name": "stderr",
     "output_type": "stream",
     "text": [
      "D:\\Anaconda3\\lib\\site-packages\\sklearn\\neural_network\\multilayer_perceptron.py:562: ConvergenceWarning: Stochastic Optimizer: Maximum iterations (200) reached and the optimization hasn't converged yet.\n",
      "  % self.max_iter, ConvergenceWarning)\n"
     ]
    },
    {
     "name": "stdout",
     "output_type": "stream",
     "text": [
      "[CV]  mlp__activation=tanh, mlp__alpha=0.007, mlp__learning_rate=constant, mlp__solver=sgd, mlp__validation_fraction=0.1, selectkbest__k=290, total=  26.1s\n",
      "[CV] mlp__activation=tanh, mlp__alpha=0.007, mlp__learning_rate=constant, mlp__solver=sgd, mlp__validation_fraction=0.1, selectkbest__k=310 \n"
     ]
    },
    {
     "name": "stderr",
     "output_type": "stream",
     "text": [
      "D:\\Anaconda3\\lib\\site-packages\\sklearn\\neural_network\\multilayer_perceptron.py:562: ConvergenceWarning: Stochastic Optimizer: Maximum iterations (200) reached and the optimization hasn't converged yet.\n",
      "  % self.max_iter, ConvergenceWarning)\n"
     ]
    },
    {
     "name": "stdout",
     "output_type": "stream",
     "text": [
      "[CV]  mlp__activation=tanh, mlp__alpha=0.007, mlp__learning_rate=constant, mlp__solver=sgd, mlp__validation_fraction=0.1, selectkbest__k=290, total=  24.7s\n",
      "[CV] mlp__activation=tanh, mlp__alpha=0.007, mlp__learning_rate=constant, mlp__solver=sgd, mlp__validation_fraction=0.2, selectkbest__k=250 \n"
     ]
    },
    {
     "name": "stderr",
     "output_type": "stream",
     "text": [
      "D:\\Anaconda3\\lib\\site-packages\\sklearn\\neural_network\\multilayer_perceptron.py:562: ConvergenceWarning: Stochastic Optimizer: Maximum iterations (200) reached and the optimization hasn't converged yet.\n",
      "  % self.max_iter, ConvergenceWarning)\n"
     ]
    },
    {
     "name": "stdout",
     "output_type": "stream",
     "text": [
      "[CV]  mlp__activation=tanh, mlp__alpha=0.007, mlp__learning_rate=constant, mlp__solver=sgd, mlp__validation_fraction=0.1, selectkbest__k=290, total=  26.3s\n",
      "[CV] mlp__activation=tanh, mlp__alpha=0.007, mlp__learning_rate=constant, mlp__solver=sgd, mlp__validation_fraction=0.2, selectkbest__k=250 \n"
     ]
    },
    {
     "name": "stderr",
     "output_type": "stream",
     "text": [
      "D:\\Anaconda3\\lib\\site-packages\\sklearn\\neural_network\\multilayer_perceptron.py:562: ConvergenceWarning: Stochastic Optimizer: Maximum iterations (200) reached and the optimization hasn't converged yet.\n",
      "  % self.max_iter, ConvergenceWarning)\n"
     ]
    },
    {
     "name": "stdout",
     "output_type": "stream",
     "text": [
      "[CV]  mlp__activation=tanh, mlp__alpha=0.007, mlp__learning_rate=constant, mlp__solver=sgd, mlp__validation_fraction=0.1, selectkbest__k=290, total=  26.6s\n",
      "[CV] mlp__activation=tanh, mlp__alpha=0.007, mlp__learning_rate=constant, mlp__solver=sgd, mlp__validation_fraction=0.2, selectkbest__k=250 \n"
     ]
    },
    {
     "name": "stderr",
     "output_type": "stream",
     "text": [
      "D:\\Anaconda3\\lib\\site-packages\\sklearn\\neural_network\\multilayer_perceptron.py:562: ConvergenceWarning: Stochastic Optimizer: Maximum iterations (200) reached and the optimization hasn't converged yet.\n",
      "  % self.max_iter, ConvergenceWarning)\n"
     ]
    },
    {
     "name": "stdout",
     "output_type": "stream",
     "text": [
      "[CV]  mlp__activation=tanh, mlp__alpha=0.007, mlp__learning_rate=constant, mlp__solver=sgd, mlp__validation_fraction=0.1, selectkbest__k=310, total=  27.1s\n",
      "[CV] mlp__activation=tanh, mlp__alpha=0.007, mlp__learning_rate=constant, mlp__solver=sgd, mlp__validation_fraction=0.2, selectkbest__k=250 \n"
     ]
    },
    {
     "name": "stderr",
     "output_type": "stream",
     "text": [
      "D:\\Anaconda3\\lib\\site-packages\\sklearn\\neural_network\\multilayer_perceptron.py:562: ConvergenceWarning: Stochastic Optimizer: Maximum iterations (200) reached and the optimization hasn't converged yet.\n",
      "  % self.max_iter, ConvergenceWarning)\n"
     ]
    },
    {
     "name": "stdout",
     "output_type": "stream",
     "text": [
      "[CV]  mlp__activation=tanh, mlp__alpha=0.007, mlp__learning_rate=constant, mlp__solver=sgd, mlp__validation_fraction=0.1, selectkbest__k=310, total=  27.1s\n",
      "[CV] mlp__activation=tanh, mlp__alpha=0.007, mlp__learning_rate=constant, mlp__solver=sgd, mlp__validation_fraction=0.2, selectkbest__k=250 \n"
     ]
    },
    {
     "name": "stderr",
     "output_type": "stream",
     "text": [
      "D:\\Anaconda3\\lib\\site-packages\\sklearn\\neural_network\\multilayer_perceptron.py:562: ConvergenceWarning: Stochastic Optimizer: Maximum iterations (200) reached and the optimization hasn't converged yet.\n",
      "  % self.max_iter, ConvergenceWarning)\n"
     ]
    },
    {
     "name": "stdout",
     "output_type": "stream",
     "text": [
      "[CV]  mlp__activation=tanh, mlp__alpha=0.007, mlp__learning_rate=constant, mlp__solver=sgd, mlp__validation_fraction=0.1, selectkbest__k=310, total=  27.2s\n",
      "[CV] mlp__activation=tanh, mlp__alpha=0.007, mlp__learning_rate=constant, mlp__solver=sgd, mlp__validation_fraction=0.2, selectkbest__k=270 \n"
     ]
    },
    {
     "name": "stderr",
     "output_type": "stream",
     "text": [
      "D:\\Anaconda3\\lib\\site-packages\\sklearn\\neural_network\\multilayer_perceptron.py:562: ConvergenceWarning: Stochastic Optimizer: Maximum iterations (200) reached and the optimization hasn't converged yet.\n",
      "  % self.max_iter, ConvergenceWarning)\n"
     ]
    },
    {
     "name": "stdout",
     "output_type": "stream",
     "text": [
      "[CV]  mlp__activation=tanh, mlp__alpha=0.007, mlp__learning_rate=constant, mlp__solver=sgd, mlp__validation_fraction=0.1, selectkbest__k=310, total=  27.0s\n",
      "[CV] mlp__activation=tanh, mlp__alpha=0.007, mlp__learning_rate=constant, mlp__solver=sgd, mlp__validation_fraction=0.2, selectkbest__k=270 \n"
     ]
    },
    {
     "name": "stderr",
     "output_type": "stream",
     "text": [
      "D:\\Anaconda3\\lib\\site-packages\\sklearn\\neural_network\\multilayer_perceptron.py:562: ConvergenceWarning: Stochastic Optimizer: Maximum iterations (200) reached and the optimization hasn't converged yet.\n",
      "  % self.max_iter, ConvergenceWarning)\n"
     ]
    },
    {
     "name": "stdout",
     "output_type": "stream",
     "text": [
      "[CV]  mlp__activation=tanh, mlp__alpha=0.007, mlp__learning_rate=constant, mlp__solver=sgd, mlp__validation_fraction=0.2, selectkbest__k=250, total=  25.0s\n",
      "[CV] mlp__activation=tanh, mlp__alpha=0.007, mlp__learning_rate=constant, mlp__solver=sgd, mlp__validation_fraction=0.2, selectkbest__k=270 \n"
     ]
    },
    {
     "name": "stderr",
     "output_type": "stream",
     "text": [
      "D:\\Anaconda3\\lib\\site-packages\\sklearn\\neural_network\\multilayer_perceptron.py:562: ConvergenceWarning: Stochastic Optimizer: Maximum iterations (200) reached and the optimization hasn't converged yet.\n",
      "  % self.max_iter, ConvergenceWarning)\n"
     ]
    },
    {
     "name": "stdout",
     "output_type": "stream",
     "text": [
      "[CV]  mlp__activation=tanh, mlp__alpha=0.007, mlp__learning_rate=constant, mlp__solver=sgd, mlp__validation_fraction=0.1, selectkbest__k=310, total=  27.5s\n",
      "[CV] mlp__activation=tanh, mlp__alpha=0.007, mlp__learning_rate=constant, mlp__solver=sgd, mlp__validation_fraction=0.2, selectkbest__k=270 \n"
     ]
    },
    {
     "name": "stderr",
     "output_type": "stream",
     "text": [
      "D:\\Anaconda3\\lib\\site-packages\\sklearn\\neural_network\\multilayer_perceptron.py:562: ConvergenceWarning: Stochastic Optimizer: Maximum iterations (200) reached and the optimization hasn't converged yet.\n",
      "  % self.max_iter, ConvergenceWarning)\n"
     ]
    },
    {
     "name": "stdout",
     "output_type": "stream",
     "text": [
      "[CV]  mlp__activation=tanh, mlp__alpha=0.007, mlp__learning_rate=constant, mlp__solver=sgd, mlp__validation_fraction=0.2, selectkbest__k=250, total=  26.6s\n",
      "[CV] mlp__activation=tanh, mlp__alpha=0.007, mlp__learning_rate=constant, mlp__solver=sgd, mlp__validation_fraction=0.2, selectkbest__k=270 \n"
     ]
    },
    {
     "name": "stderr",
     "output_type": "stream",
     "text": [
      "D:\\Anaconda3\\lib\\site-packages\\sklearn\\neural_network\\multilayer_perceptron.py:562: ConvergenceWarning: Stochastic Optimizer: Maximum iterations (200) reached and the optimization hasn't converged yet.\n",
      "  % self.max_iter, ConvergenceWarning)\n"
     ]
    },
    {
     "name": "stdout",
     "output_type": "stream",
     "text": [
      "[CV]  mlp__activation=tanh, mlp__alpha=0.007, mlp__learning_rate=constant, mlp__solver=sgd, mlp__validation_fraction=0.2, selectkbest__k=250, total=  26.3s\n",
      "[CV] mlp__activation=tanh, mlp__alpha=0.007, mlp__learning_rate=constant, mlp__solver=sgd, mlp__validation_fraction=0.2, selectkbest__k=290 \n"
     ]
    },
    {
     "name": "stderr",
     "output_type": "stream",
     "text": [
      "D:\\Anaconda3\\lib\\site-packages\\sklearn\\neural_network\\multilayer_perceptron.py:562: ConvergenceWarning: Stochastic Optimizer: Maximum iterations (200) reached and the optimization hasn't converged yet.\n",
      "  % self.max_iter, ConvergenceWarning)\n"
     ]
    },
    {
     "name": "stdout",
     "output_type": "stream",
     "text": [
      "[CV]  mlp__activation=tanh, mlp__alpha=0.007, mlp__learning_rate=constant, mlp__solver=sgd, mlp__validation_fraction=0.2, selectkbest__k=250, total=  25.9s\n",
      "[CV] mlp__activation=tanh, mlp__alpha=0.007, mlp__learning_rate=constant, mlp__solver=sgd, mlp__validation_fraction=0.2, selectkbest__k=290 \n"
     ]
    },
    {
     "name": "stderr",
     "output_type": "stream",
     "text": [
      "D:\\Anaconda3\\lib\\site-packages\\sklearn\\neural_network\\multilayer_perceptron.py:562: ConvergenceWarning: Stochastic Optimizer: Maximum iterations (200) reached and the optimization hasn't converged yet.\n",
      "  % self.max_iter, ConvergenceWarning)\n"
     ]
    },
    {
     "name": "stdout",
     "output_type": "stream",
     "text": [
      "[CV]  mlp__activation=tanh, mlp__alpha=0.007, mlp__learning_rate=constant, mlp__solver=sgd, mlp__validation_fraction=0.2, selectkbest__k=250, total=  26.4s\n",
      "[CV] mlp__activation=tanh, mlp__alpha=0.007, mlp__learning_rate=constant, mlp__solver=sgd, mlp__validation_fraction=0.2, selectkbest__k=290 \n"
     ]
    },
    {
     "name": "stderr",
     "output_type": "stream",
     "text": [
      "D:\\Anaconda3\\lib\\site-packages\\sklearn\\neural_network\\multilayer_perceptron.py:562: ConvergenceWarning: Stochastic Optimizer: Maximum iterations (200) reached and the optimization hasn't converged yet.\n",
      "  % self.max_iter, ConvergenceWarning)\n"
     ]
    },
    {
     "name": "stdout",
     "output_type": "stream",
     "text": [
      "[CV]  mlp__activation=tanh, mlp__alpha=0.007, mlp__learning_rate=constant, mlp__solver=sgd, mlp__validation_fraction=0.2, selectkbest__k=270, total=  25.3s\n",
      "[CV] mlp__activation=tanh, mlp__alpha=0.007, mlp__learning_rate=constant, mlp__solver=sgd, mlp__validation_fraction=0.2, selectkbest__k=290 \n"
     ]
    },
    {
     "name": "stderr",
     "output_type": "stream",
     "text": [
      "D:\\Anaconda3\\lib\\site-packages\\sklearn\\neural_network\\multilayer_perceptron.py:562: ConvergenceWarning: Stochastic Optimizer: Maximum iterations (200) reached and the optimization hasn't converged yet.\n",
      "  % self.max_iter, ConvergenceWarning)\n"
     ]
    },
    {
     "name": "stdout",
     "output_type": "stream",
     "text": [
      "[CV]  mlp__activation=tanh, mlp__alpha=0.007, mlp__learning_rate=constant, mlp__solver=sgd, mlp__validation_fraction=0.2, selectkbest__k=270, total=  25.7s\n",
      "[CV] mlp__activation=tanh, mlp__alpha=0.007, mlp__learning_rate=constant, mlp__solver=sgd, mlp__validation_fraction=0.2, selectkbest__k=290 \n"
     ]
    },
    {
     "name": "stderr",
     "output_type": "stream",
     "text": [
      "D:\\Anaconda3\\lib\\site-packages\\sklearn\\neural_network\\multilayer_perceptron.py:562: ConvergenceWarning: Stochastic Optimizer: Maximum iterations (200) reached and the optimization hasn't converged yet.\n",
      "  % self.max_iter, ConvergenceWarning)\n"
     ]
    },
    {
     "name": "stdout",
     "output_type": "stream",
     "text": [
      "[CV]  mlp__activation=tanh, mlp__alpha=0.007, mlp__learning_rate=constant, mlp__solver=sgd, mlp__validation_fraction=0.2, selectkbest__k=270, total=  24.7s\n",
      "[CV] mlp__activation=tanh, mlp__alpha=0.007, mlp__learning_rate=constant, mlp__solver=sgd, mlp__validation_fraction=0.2, selectkbest__k=310 \n"
     ]
    },
    {
     "name": "stderr",
     "output_type": "stream",
     "text": [
      "D:\\Anaconda3\\lib\\site-packages\\sklearn\\neural_network\\multilayer_perceptron.py:562: ConvergenceWarning: Stochastic Optimizer: Maximum iterations (200) reached and the optimization hasn't converged yet.\n",
      "  % self.max_iter, ConvergenceWarning)\n"
     ]
    },
    {
     "name": "stdout",
     "output_type": "stream",
     "text": [
      "[CV]  mlp__activation=tanh, mlp__alpha=0.007, mlp__learning_rate=constant, mlp__solver=sgd, mlp__validation_fraction=0.2, selectkbest__k=270, total=  25.4s\n",
      "[CV] mlp__activation=tanh, mlp__alpha=0.007, mlp__learning_rate=constant, mlp__solver=sgd, mlp__validation_fraction=0.2, selectkbest__k=310 \n"
     ]
    },
    {
     "name": "stderr",
     "output_type": "stream",
     "text": [
      "D:\\Anaconda3\\lib\\site-packages\\sklearn\\neural_network\\multilayer_perceptron.py:562: ConvergenceWarning: Stochastic Optimizer: Maximum iterations (200) reached and the optimization hasn't converged yet.\n",
      "  % self.max_iter, ConvergenceWarning)\n"
     ]
    },
    {
     "name": "stdout",
     "output_type": "stream",
     "text": [
      "[CV]  mlp__activation=tanh, mlp__alpha=0.007, mlp__learning_rate=constant, mlp__solver=sgd, mlp__validation_fraction=0.2, selectkbest__k=270, total=  26.1s\n",
      "[CV] mlp__activation=tanh, mlp__alpha=0.007, mlp__learning_rate=constant, mlp__solver=sgd, mlp__validation_fraction=0.2, selectkbest__k=310 \n"
     ]
    },
    {
     "name": "stderr",
     "output_type": "stream",
     "text": [
      "D:\\Anaconda3\\lib\\site-packages\\sklearn\\neural_network\\multilayer_perceptron.py:562: ConvergenceWarning: Stochastic Optimizer: Maximum iterations (200) reached and the optimization hasn't converged yet.\n",
      "  % self.max_iter, ConvergenceWarning)\n"
     ]
    },
    {
     "name": "stdout",
     "output_type": "stream",
     "text": [
      "[CV]  mlp__activation=tanh, mlp__alpha=0.007, mlp__learning_rate=constant, mlp__solver=sgd, mlp__validation_fraction=0.2, selectkbest__k=290, total=  26.7s\n",
      "[CV] mlp__activation=tanh, mlp__alpha=0.007, mlp__learning_rate=constant, mlp__solver=sgd, mlp__validation_fraction=0.2, selectkbest__k=310 \n"
     ]
    },
    {
     "name": "stderr",
     "output_type": "stream",
     "text": [
      "D:\\Anaconda3\\lib\\site-packages\\sklearn\\neural_network\\multilayer_perceptron.py:562: ConvergenceWarning: Stochastic Optimizer: Maximum iterations (200) reached and the optimization hasn't converged yet.\n",
      "  % self.max_iter, ConvergenceWarning)\n"
     ]
    },
    {
     "name": "stdout",
     "output_type": "stream",
     "text": [
      "[CV]  mlp__activation=tanh, mlp__alpha=0.007, mlp__learning_rate=constant, mlp__solver=sgd, mlp__validation_fraction=0.2, selectkbest__k=290, total=  27.0s\n",
      "[CV] mlp__activation=tanh, mlp__alpha=0.007, mlp__learning_rate=constant, mlp__solver=sgd, mlp__validation_fraction=0.2, selectkbest__k=310 \n"
     ]
    },
    {
     "name": "stderr",
     "output_type": "stream",
     "text": [
      "D:\\Anaconda3\\lib\\site-packages\\sklearn\\neural_network\\multilayer_perceptron.py:562: ConvergenceWarning: Stochastic Optimizer: Maximum iterations (200) reached and the optimization hasn't converged yet.\n",
      "  % self.max_iter, ConvergenceWarning)\n"
     ]
    },
    {
     "name": "stdout",
     "output_type": "stream",
     "text": [
      "[CV]  mlp__activation=tanh, mlp__alpha=0.007, mlp__learning_rate=constant, mlp__solver=sgd, mlp__validation_fraction=0.2, selectkbest__k=290, total=  27.3s\n",
      "[CV] mlp__activation=tanh, mlp__alpha=0.007, mlp__learning_rate=adaptive, mlp__solver=sgd, mlp__validation_fraction=0.1, selectkbest__k=250 \n"
     ]
    },
    {
     "name": "stderr",
     "output_type": "stream",
     "text": [
      "D:\\Anaconda3\\lib\\site-packages\\sklearn\\neural_network\\multilayer_perceptron.py:562: ConvergenceWarning: Stochastic Optimizer: Maximum iterations (200) reached and the optimization hasn't converged yet.\n",
      "  % self.max_iter, ConvergenceWarning)\n"
     ]
    },
    {
     "name": "stdout",
     "output_type": "stream",
     "text": [
      "[CV]  mlp__activation=tanh, mlp__alpha=0.007, mlp__learning_rate=constant, mlp__solver=sgd, mlp__validation_fraction=0.2, selectkbest__k=290, total=  26.2s\n",
      "[CV] mlp__activation=tanh, mlp__alpha=0.007, mlp__learning_rate=adaptive, mlp__solver=sgd, mlp__validation_fraction=0.1, selectkbest__k=250 \n"
     ]
    },
    {
     "name": "stderr",
     "output_type": "stream",
     "text": [
      "D:\\Anaconda3\\lib\\site-packages\\sklearn\\neural_network\\multilayer_perceptron.py:562: ConvergenceWarning: Stochastic Optimizer: Maximum iterations (200) reached and the optimization hasn't converged yet.\n",
      "  % self.max_iter, ConvergenceWarning)\n"
     ]
    },
    {
     "name": "stdout",
     "output_type": "stream",
     "text": [
      "[CV]  mlp__activation=tanh, mlp__alpha=0.007, mlp__learning_rate=constant, mlp__solver=sgd, mlp__validation_fraction=0.2, selectkbest__k=310, total=  26.6s\n",
      "[CV] mlp__activation=tanh, mlp__alpha=0.007, mlp__learning_rate=adaptive, mlp__solver=sgd, mlp__validation_fraction=0.1, selectkbest__k=250 \n"
     ]
    },
    {
     "name": "stderr",
     "output_type": "stream",
     "text": [
      "D:\\Anaconda3\\lib\\site-packages\\sklearn\\neural_network\\multilayer_perceptron.py:562: ConvergenceWarning: Stochastic Optimizer: Maximum iterations (200) reached and the optimization hasn't converged yet.\n",
      "  % self.max_iter, ConvergenceWarning)\n"
     ]
    },
    {
     "name": "stdout",
     "output_type": "stream",
     "text": [
      "[CV]  mlp__activation=tanh, mlp__alpha=0.007, mlp__learning_rate=constant, mlp__solver=sgd, mlp__validation_fraction=0.2, selectkbest__k=290, total=  27.4s\n",
      "[CV] mlp__activation=tanh, mlp__alpha=0.007, mlp__learning_rate=adaptive, mlp__solver=sgd, mlp__validation_fraction=0.1, selectkbest__k=250 \n"
     ]
    },
    {
     "name": "stderr",
     "output_type": "stream",
     "text": [
      "D:\\Anaconda3\\lib\\site-packages\\sklearn\\neural_network\\multilayer_perceptron.py:562: ConvergenceWarning: Stochastic Optimizer: Maximum iterations (200) reached and the optimization hasn't converged yet.\n",
      "  % self.max_iter, ConvergenceWarning)\n"
     ]
    },
    {
     "name": "stdout",
     "output_type": "stream",
     "text": [
      "[CV]  mlp__activation=tanh, mlp__alpha=0.007, mlp__learning_rate=constant, mlp__solver=sgd, mlp__validation_fraction=0.2, selectkbest__k=310, total=  27.5s\n",
      "[CV] mlp__activation=tanh, mlp__alpha=0.007, mlp__learning_rate=adaptive, mlp__solver=sgd, mlp__validation_fraction=0.1, selectkbest__k=250 \n"
     ]
    },
    {
     "name": "stderr",
     "output_type": "stream",
     "text": [
      "D:\\Anaconda3\\lib\\site-packages\\sklearn\\neural_network\\multilayer_perceptron.py:562: ConvergenceWarning: Stochastic Optimizer: Maximum iterations (200) reached and the optimization hasn't converged yet.\n",
      "  % self.max_iter, ConvergenceWarning)\n"
     ]
    },
    {
     "name": "stdout",
     "output_type": "stream",
     "text": [
      "[CV]  mlp__activation=tanh, mlp__alpha=0.007, mlp__learning_rate=constant, mlp__solver=sgd, mlp__validation_fraction=0.2, selectkbest__k=310, total=  27.9s\n",
      "[CV] mlp__activation=tanh, mlp__alpha=0.007, mlp__learning_rate=adaptive, mlp__solver=sgd, mlp__validation_fraction=0.1, selectkbest__k=270 \n"
     ]
    },
    {
     "name": "stderr",
     "output_type": "stream",
     "text": [
      "D:\\Anaconda3\\lib\\site-packages\\sklearn\\neural_network\\multilayer_perceptron.py:562: ConvergenceWarning: Stochastic Optimizer: Maximum iterations (200) reached and the optimization hasn't converged yet.\n",
      "  % self.max_iter, ConvergenceWarning)\n"
     ]
    },
    {
     "name": "stdout",
     "output_type": "stream",
     "text": [
      "[CV]  mlp__activation=tanh, mlp__alpha=0.007, mlp__learning_rate=constant, mlp__solver=sgd, mlp__validation_fraction=0.2, selectkbest__k=310, total=  27.5s\n",
      "[CV] mlp__activation=tanh, mlp__alpha=0.007, mlp__learning_rate=adaptive, mlp__solver=sgd, mlp__validation_fraction=0.1, selectkbest__k=270 \n"
     ]
    },
    {
     "name": "stderr",
     "output_type": "stream",
     "text": [
      "D:\\Anaconda3\\lib\\site-packages\\sklearn\\neural_network\\multilayer_perceptron.py:562: ConvergenceWarning: Stochastic Optimizer: Maximum iterations (200) reached and the optimization hasn't converged yet.\n",
      "  % self.max_iter, ConvergenceWarning)\n"
     ]
    },
    {
     "name": "stdout",
     "output_type": "stream",
     "text": [
      "[CV]  mlp__activation=tanh, mlp__alpha=0.007, mlp__learning_rate=constant, mlp__solver=sgd, mlp__validation_fraction=0.2, selectkbest__k=310, total=  28.1s\n",
      "[CV] mlp__activation=tanh, mlp__alpha=0.007, mlp__learning_rate=adaptive, mlp__solver=sgd, mlp__validation_fraction=0.1, selectkbest__k=270 \n"
     ]
    },
    {
     "name": "stderr",
     "output_type": "stream",
     "text": [
      "D:\\Anaconda3\\lib\\site-packages\\sklearn\\neural_network\\multilayer_perceptron.py:562: ConvergenceWarning: Stochastic Optimizer: Maximum iterations (200) reached and the optimization hasn't converged yet.\n",
      "  % self.max_iter, ConvergenceWarning)\n"
     ]
    },
    {
     "name": "stdout",
     "output_type": "stream",
     "text": [
      "[CV]  mlp__activation=tanh, mlp__alpha=0.007, mlp__learning_rate=adaptive, mlp__solver=sgd, mlp__validation_fraction=0.1, selectkbest__k=250, total=  26.9s\n",
      "[CV] mlp__activation=tanh, mlp__alpha=0.007, mlp__learning_rate=adaptive, mlp__solver=sgd, mlp__validation_fraction=0.1, selectkbest__k=270 \n"
     ]
    },
    {
     "name": "stderr",
     "output_type": "stream",
     "text": [
      "D:\\Anaconda3\\lib\\site-packages\\sklearn\\neural_network\\multilayer_perceptron.py:562: ConvergenceWarning: Stochastic Optimizer: Maximum iterations (200) reached and the optimization hasn't converged yet.\n",
      "  % self.max_iter, ConvergenceWarning)\n"
     ]
    },
    {
     "name": "stdout",
     "output_type": "stream",
     "text": [
      "[CV]  mlp__activation=tanh, mlp__alpha=0.007, mlp__learning_rate=adaptive, mlp__solver=sgd, mlp__validation_fraction=0.1, selectkbest__k=250, total=  25.9s\n",
      "[CV] mlp__activation=tanh, mlp__alpha=0.007, mlp__learning_rate=adaptive, mlp__solver=sgd, mlp__validation_fraction=0.1, selectkbest__k=270 \n"
     ]
    },
    {
     "name": "stderr",
     "output_type": "stream",
     "text": [
      "D:\\Anaconda3\\lib\\site-packages\\sklearn\\neural_network\\multilayer_perceptron.py:562: ConvergenceWarning: Stochastic Optimizer: Maximum iterations (200) reached and the optimization hasn't converged yet.\n",
      "  % self.max_iter, ConvergenceWarning)\n"
     ]
    },
    {
     "name": "stdout",
     "output_type": "stream",
     "text": [
      "[CV]  mlp__activation=tanh, mlp__alpha=0.007, mlp__learning_rate=adaptive, mlp__solver=sgd, mlp__validation_fraction=0.1, selectkbest__k=250, total=  25.7s\n",
      "[CV] mlp__activation=tanh, mlp__alpha=0.007, mlp__learning_rate=adaptive, mlp__solver=sgd, mlp__validation_fraction=0.1, selectkbest__k=290 \n"
     ]
    },
    {
     "name": "stderr",
     "output_type": "stream",
     "text": [
      "D:\\Anaconda3\\lib\\site-packages\\sklearn\\neural_network\\multilayer_perceptron.py:562: ConvergenceWarning: Stochastic Optimizer: Maximum iterations (200) reached and the optimization hasn't converged yet.\n",
      "  % self.max_iter, ConvergenceWarning)\n"
     ]
    },
    {
     "name": "stdout",
     "output_type": "stream",
     "text": [
      "[CV]  mlp__activation=tanh, mlp__alpha=0.007, mlp__learning_rate=adaptive, mlp__solver=sgd, mlp__validation_fraction=0.1, selectkbest__k=250, total=  26.3s\n",
      "[CV] mlp__activation=tanh, mlp__alpha=0.007, mlp__learning_rate=adaptive, mlp__solver=sgd, mlp__validation_fraction=0.1, selectkbest__k=290 \n"
     ]
    },
    {
     "name": "stderr",
     "output_type": "stream",
     "text": [
      "D:\\Anaconda3\\lib\\site-packages\\sklearn\\neural_network\\multilayer_perceptron.py:562: ConvergenceWarning: Stochastic Optimizer: Maximum iterations (200) reached and the optimization hasn't converged yet.\n",
      "  % self.max_iter, ConvergenceWarning)\n"
     ]
    },
    {
     "name": "stdout",
     "output_type": "stream",
     "text": [
      "[CV]  mlp__activation=tanh, mlp__alpha=0.007, mlp__learning_rate=adaptive, mlp__solver=sgd, mlp__validation_fraction=0.1, selectkbest__k=250, total=  26.8s\n",
      "[CV] mlp__activation=tanh, mlp__alpha=0.007, mlp__learning_rate=adaptive, mlp__solver=sgd, mlp__validation_fraction=0.1, selectkbest__k=290 \n"
     ]
    },
    {
     "name": "stderr",
     "output_type": "stream",
     "text": [
      "D:\\Anaconda3\\lib\\site-packages\\sklearn\\neural_network\\multilayer_perceptron.py:562: ConvergenceWarning: Stochastic Optimizer: Maximum iterations (200) reached and the optimization hasn't converged yet.\n",
      "  % self.max_iter, ConvergenceWarning)\n"
     ]
    },
    {
     "name": "stdout",
     "output_type": "stream",
     "text": [
      "[CV]  mlp__activation=tanh, mlp__alpha=0.007, mlp__learning_rate=adaptive, mlp__solver=sgd, mlp__validation_fraction=0.1, selectkbest__k=270, total=  26.6s\n",
      "[CV] mlp__activation=tanh, mlp__alpha=0.007, mlp__learning_rate=adaptive, mlp__solver=sgd, mlp__validation_fraction=0.1, selectkbest__k=290 \n"
     ]
    },
    {
     "name": "stderr",
     "output_type": "stream",
     "text": [
      "D:\\Anaconda3\\lib\\site-packages\\sklearn\\neural_network\\multilayer_perceptron.py:562: ConvergenceWarning: Stochastic Optimizer: Maximum iterations (200) reached and the optimization hasn't converged yet.\n",
      "  % self.max_iter, ConvergenceWarning)\n"
     ]
    },
    {
     "name": "stdout",
     "output_type": "stream",
     "text": [
      "[CV]  mlp__activation=tanh, mlp__alpha=0.007, mlp__learning_rate=adaptive, mlp__solver=sgd, mlp__validation_fraction=0.1, selectkbest__k=270, total=  26.9s\n",
      "[CV] mlp__activation=tanh, mlp__alpha=0.007, mlp__learning_rate=adaptive, mlp__solver=sgd, mlp__validation_fraction=0.1, selectkbest__k=290 \n"
     ]
    },
    {
     "name": "stderr",
     "output_type": "stream",
     "text": [
      "D:\\Anaconda3\\lib\\site-packages\\sklearn\\neural_network\\multilayer_perceptron.py:562: ConvergenceWarning: Stochastic Optimizer: Maximum iterations (200) reached and the optimization hasn't converged yet.\n",
      "  % self.max_iter, ConvergenceWarning)\n"
     ]
    },
    {
     "name": "stdout",
     "output_type": "stream",
     "text": [
      "[CV]  mlp__activation=tanh, mlp__alpha=0.007, mlp__learning_rate=adaptive, mlp__solver=sgd, mlp__validation_fraction=0.1, selectkbest__k=270, total=  26.2s\n",
      "[CV] mlp__activation=tanh, mlp__alpha=0.007, mlp__learning_rate=adaptive, mlp__solver=sgd, mlp__validation_fraction=0.1, selectkbest__k=310 \n"
     ]
    },
    {
     "name": "stderr",
     "output_type": "stream",
     "text": [
      "D:\\Anaconda3\\lib\\site-packages\\sklearn\\neural_network\\multilayer_perceptron.py:562: ConvergenceWarning: Stochastic Optimizer: Maximum iterations (200) reached and the optimization hasn't converged yet.\n",
      "  % self.max_iter, ConvergenceWarning)\n"
     ]
    },
    {
     "name": "stdout",
     "output_type": "stream",
     "text": [
      "[CV]  mlp__activation=tanh, mlp__alpha=0.007, mlp__learning_rate=adaptive, mlp__solver=sgd, mlp__validation_fraction=0.1, selectkbest__k=270, total=  26.3s\n",
      "[CV] mlp__activation=tanh, mlp__alpha=0.007, mlp__learning_rate=adaptive, mlp__solver=sgd, mlp__validation_fraction=0.1, selectkbest__k=310 \n"
     ]
    },
    {
     "name": "stderr",
     "output_type": "stream",
     "text": [
      "D:\\Anaconda3\\lib\\site-packages\\sklearn\\neural_network\\multilayer_perceptron.py:562: ConvergenceWarning: Stochastic Optimizer: Maximum iterations (200) reached and the optimization hasn't converged yet.\n",
      "  % self.max_iter, ConvergenceWarning)\n"
     ]
    },
    {
     "name": "stdout",
     "output_type": "stream",
     "text": [
      "[CV]  mlp__activation=tanh, mlp__alpha=0.007, mlp__learning_rate=adaptive, mlp__solver=sgd, mlp__validation_fraction=0.1, selectkbest__k=270, total=  26.2s\n",
      "[CV] mlp__activation=tanh, mlp__alpha=0.007, mlp__learning_rate=adaptive, mlp__solver=sgd, mlp__validation_fraction=0.1, selectkbest__k=310 \n"
     ]
    },
    {
     "name": "stderr",
     "output_type": "stream",
     "text": [
      "D:\\Anaconda3\\lib\\site-packages\\sklearn\\neural_network\\multilayer_perceptron.py:562: ConvergenceWarning: Stochastic Optimizer: Maximum iterations (200) reached and the optimization hasn't converged yet.\n",
      "  % self.max_iter, ConvergenceWarning)\n"
     ]
    },
    {
     "name": "stdout",
     "output_type": "stream",
     "text": [
      "[CV]  mlp__activation=tanh, mlp__alpha=0.007, mlp__learning_rate=adaptive, mlp__solver=sgd, mlp__validation_fraction=0.1, selectkbest__k=290, total=  25.9s\n",
      "[CV] mlp__activation=tanh, mlp__alpha=0.007, mlp__learning_rate=adaptive, mlp__solver=sgd, mlp__validation_fraction=0.1, selectkbest__k=310 \n"
     ]
    },
    {
     "name": "stderr",
     "output_type": "stream",
     "text": [
      "D:\\Anaconda3\\lib\\site-packages\\sklearn\\neural_network\\multilayer_perceptron.py:562: ConvergenceWarning: Stochastic Optimizer: Maximum iterations (200) reached and the optimization hasn't converged yet.\n",
      "  % self.max_iter, ConvergenceWarning)\n"
     ]
    },
    {
     "name": "stdout",
     "output_type": "stream",
     "text": [
      "[CV]  mlp__activation=tanh, mlp__alpha=0.007, mlp__learning_rate=adaptive, mlp__solver=sgd, mlp__validation_fraction=0.1, selectkbest__k=290, total=  26.7s\n",
      "[CV] mlp__activation=tanh, mlp__alpha=0.007, mlp__learning_rate=adaptive, mlp__solver=sgd, mlp__validation_fraction=0.1, selectkbest__k=310 \n"
     ]
    },
    {
     "name": "stderr",
     "output_type": "stream",
     "text": [
      "D:\\Anaconda3\\lib\\site-packages\\sklearn\\neural_network\\multilayer_perceptron.py:562: ConvergenceWarning: Stochastic Optimizer: Maximum iterations (200) reached and the optimization hasn't converged yet.\n",
      "  % self.max_iter, ConvergenceWarning)\n"
     ]
    },
    {
     "name": "stdout",
     "output_type": "stream",
     "text": [
      "[CV]  mlp__activation=tanh, mlp__alpha=0.007, mlp__learning_rate=adaptive, mlp__solver=sgd, mlp__validation_fraction=0.1, selectkbest__k=290, total=  26.8s\n",
      "[CV] mlp__activation=tanh, mlp__alpha=0.007, mlp__learning_rate=adaptive, mlp__solver=sgd, mlp__validation_fraction=0.2, selectkbest__k=250 \n"
     ]
    },
    {
     "name": "stderr",
     "output_type": "stream",
     "text": [
      "D:\\Anaconda3\\lib\\site-packages\\sklearn\\neural_network\\multilayer_perceptron.py:562: ConvergenceWarning: Stochastic Optimizer: Maximum iterations (200) reached and the optimization hasn't converged yet.\n",
      "  % self.max_iter, ConvergenceWarning)\n"
     ]
    },
    {
     "name": "stdout",
     "output_type": "stream",
     "text": [
      "[CV]  mlp__activation=tanh, mlp__alpha=0.007, mlp__learning_rate=adaptive, mlp__solver=sgd, mlp__validation_fraction=0.1, selectkbest__k=290, total=  26.8s\n",
      "[CV] mlp__activation=tanh, mlp__alpha=0.007, mlp__learning_rate=adaptive, mlp__solver=sgd, mlp__validation_fraction=0.2, selectkbest__k=250 \n"
     ]
    },
    {
     "name": "stderr",
     "output_type": "stream",
     "text": [
      "D:\\Anaconda3\\lib\\site-packages\\sklearn\\neural_network\\multilayer_perceptron.py:562: ConvergenceWarning: Stochastic Optimizer: Maximum iterations (200) reached and the optimization hasn't converged yet.\n",
      "  % self.max_iter, ConvergenceWarning)\n"
     ]
    },
    {
     "name": "stdout",
     "output_type": "stream",
     "text": [
      "[CV]  mlp__activation=tanh, mlp__alpha=0.007, mlp__learning_rate=adaptive, mlp__solver=sgd, mlp__validation_fraction=0.1, selectkbest__k=290, total=  28.1s\n",
      "[CV] mlp__activation=tanh, mlp__alpha=0.007, mlp__learning_rate=adaptive, mlp__solver=sgd, mlp__validation_fraction=0.2, selectkbest__k=250 \n"
     ]
    },
    {
     "name": "stderr",
     "output_type": "stream",
     "text": [
      "D:\\Anaconda3\\lib\\site-packages\\sklearn\\neural_network\\multilayer_perceptron.py:562: ConvergenceWarning: Stochastic Optimizer: Maximum iterations (200) reached and the optimization hasn't converged yet.\n",
      "  % self.max_iter, ConvergenceWarning)\n"
     ]
    },
    {
     "name": "stdout",
     "output_type": "stream",
     "text": [
      "[CV]  mlp__activation=tanh, mlp__alpha=0.007, mlp__learning_rate=adaptive, mlp__solver=sgd, mlp__validation_fraction=0.1, selectkbest__k=310, total=  28.7s\n",
      "[CV] mlp__activation=tanh, mlp__alpha=0.007, mlp__learning_rate=adaptive, mlp__solver=sgd, mlp__validation_fraction=0.2, selectkbest__k=250 \n"
     ]
    },
    {
     "name": "stderr",
     "output_type": "stream",
     "text": [
      "D:\\Anaconda3\\lib\\site-packages\\sklearn\\neural_network\\multilayer_perceptron.py:562: ConvergenceWarning: Stochastic Optimizer: Maximum iterations (200) reached and the optimization hasn't converged yet.\n",
      "  % self.max_iter, ConvergenceWarning)\n"
     ]
    },
    {
     "name": "stdout",
     "output_type": "stream",
     "text": [
      "[CV]  mlp__activation=tanh, mlp__alpha=0.007, mlp__learning_rate=adaptive, mlp__solver=sgd, mlp__validation_fraction=0.1, selectkbest__k=310, total=  28.7s\n",
      "[CV] mlp__activation=tanh, mlp__alpha=0.007, mlp__learning_rate=adaptive, mlp__solver=sgd, mlp__validation_fraction=0.2, selectkbest__k=250 \n"
     ]
    },
    {
     "name": "stderr",
     "output_type": "stream",
     "text": [
      "D:\\Anaconda3\\lib\\site-packages\\sklearn\\neural_network\\multilayer_perceptron.py:562: ConvergenceWarning: Stochastic Optimizer: Maximum iterations (200) reached and the optimization hasn't converged yet.\n",
      "  % self.max_iter, ConvergenceWarning)\n"
     ]
    },
    {
     "name": "stdout",
     "output_type": "stream",
     "text": [
      "[CV]  mlp__activation=tanh, mlp__alpha=0.007, mlp__learning_rate=adaptive, mlp__solver=sgd, mlp__validation_fraction=0.1, selectkbest__k=310, total=  27.8s\n",
      "[CV] mlp__activation=tanh, mlp__alpha=0.007, mlp__learning_rate=adaptive, mlp__solver=sgd, mlp__validation_fraction=0.2, selectkbest__k=270 \n"
     ]
    },
    {
     "name": "stderr",
     "output_type": "stream",
     "text": [
      "D:\\Anaconda3\\lib\\site-packages\\sklearn\\neural_network\\multilayer_perceptron.py:562: ConvergenceWarning: Stochastic Optimizer: Maximum iterations (200) reached and the optimization hasn't converged yet.\n",
      "  % self.max_iter, ConvergenceWarning)\n"
     ]
    },
    {
     "name": "stdout",
     "output_type": "stream",
     "text": [
      "[CV]  mlp__activation=tanh, mlp__alpha=0.007, mlp__learning_rate=adaptive, mlp__solver=sgd, mlp__validation_fraction=0.1, selectkbest__k=310, total=  26.6s\n",
      "[CV] mlp__activation=tanh, mlp__alpha=0.007, mlp__learning_rate=adaptive, mlp__solver=sgd, mlp__validation_fraction=0.2, selectkbest__k=270 \n"
     ]
    },
    {
     "name": "stderr",
     "output_type": "stream",
     "text": [
      "D:\\Anaconda3\\lib\\site-packages\\sklearn\\neural_network\\multilayer_perceptron.py:562: ConvergenceWarning: Stochastic Optimizer: Maximum iterations (200) reached and the optimization hasn't converged yet.\n",
      "  % self.max_iter, ConvergenceWarning)\n"
     ]
    },
    {
     "name": "stdout",
     "output_type": "stream",
     "text": [
      "[CV]  mlp__activation=tanh, mlp__alpha=0.007, mlp__learning_rate=adaptive, mlp__solver=sgd, mlp__validation_fraction=0.1, selectkbest__k=310, total=  27.7s\n",
      "[CV] mlp__activation=tanh, mlp__alpha=0.007, mlp__learning_rate=adaptive, mlp__solver=sgd, mlp__validation_fraction=0.2, selectkbest__k=270 \n"
     ]
    },
    {
     "name": "stderr",
     "output_type": "stream",
     "text": [
      "D:\\Anaconda3\\lib\\site-packages\\sklearn\\neural_network\\multilayer_perceptron.py:562: ConvergenceWarning: Stochastic Optimizer: Maximum iterations (200) reached and the optimization hasn't converged yet.\n",
      "  % self.max_iter, ConvergenceWarning)\n"
     ]
    },
    {
     "name": "stdout",
     "output_type": "stream",
     "text": [
      "[CV]  mlp__activation=tanh, mlp__alpha=0.007, mlp__learning_rate=adaptive, mlp__solver=sgd, mlp__validation_fraction=0.2, selectkbest__k=250, total=  26.4s\n",
      "[CV] mlp__activation=tanh, mlp__alpha=0.007, mlp__learning_rate=adaptive, mlp__solver=sgd, mlp__validation_fraction=0.2, selectkbest__k=270 \n"
     ]
    },
    {
     "name": "stderr",
     "output_type": "stream",
     "text": [
      "D:\\Anaconda3\\lib\\site-packages\\sklearn\\neural_network\\multilayer_perceptron.py:562: ConvergenceWarning: Stochastic Optimizer: Maximum iterations (200) reached and the optimization hasn't converged yet.\n",
      "  % self.max_iter, ConvergenceWarning)\n"
     ]
    },
    {
     "name": "stdout",
     "output_type": "stream",
     "text": [
      "[CV]  mlp__activation=tanh, mlp__alpha=0.007, mlp__learning_rate=adaptive, mlp__solver=sgd, mlp__validation_fraction=0.2, selectkbest__k=250, total=  26.3s\n",
      "[CV] mlp__activation=tanh, mlp__alpha=0.007, mlp__learning_rate=adaptive, mlp__solver=sgd, mlp__validation_fraction=0.2, selectkbest__k=270 \n"
     ]
    },
    {
     "name": "stderr",
     "output_type": "stream",
     "text": [
      "D:\\Anaconda3\\lib\\site-packages\\sklearn\\neural_network\\multilayer_perceptron.py:562: ConvergenceWarning: Stochastic Optimizer: Maximum iterations (200) reached and the optimization hasn't converged yet.\n",
      "  % self.max_iter, ConvergenceWarning)\n"
     ]
    },
    {
     "name": "stdout",
     "output_type": "stream",
     "text": [
      "[CV]  mlp__activation=tanh, mlp__alpha=0.007, mlp__learning_rate=adaptive, mlp__solver=sgd, mlp__validation_fraction=0.2, selectkbest__k=250, total=  25.4s\n",
      "[CV] mlp__activation=tanh, mlp__alpha=0.007, mlp__learning_rate=adaptive, mlp__solver=sgd, mlp__validation_fraction=0.2, selectkbest__k=290 \n"
     ]
    },
    {
     "name": "stderr",
     "output_type": "stream",
     "text": [
      "D:\\Anaconda3\\lib\\site-packages\\sklearn\\neural_network\\multilayer_perceptron.py:562: ConvergenceWarning: Stochastic Optimizer: Maximum iterations (200) reached and the optimization hasn't converged yet.\n",
      "  % self.max_iter, ConvergenceWarning)\n"
     ]
    },
    {
     "name": "stdout",
     "output_type": "stream",
     "text": [
      "[CV]  mlp__activation=tanh, mlp__alpha=0.007, mlp__learning_rate=adaptive, mlp__solver=sgd, mlp__validation_fraction=0.2, selectkbest__k=250, total=  24.6s\n",
      "[CV] mlp__activation=tanh, mlp__alpha=0.007, mlp__learning_rate=adaptive, mlp__solver=sgd, mlp__validation_fraction=0.2, selectkbest__k=290 \n"
     ]
    },
    {
     "name": "stderr",
     "output_type": "stream",
     "text": [
      "D:\\Anaconda3\\lib\\site-packages\\sklearn\\neural_network\\multilayer_perceptron.py:562: ConvergenceWarning: Stochastic Optimizer: Maximum iterations (200) reached and the optimization hasn't converged yet.\n",
      "  % self.max_iter, ConvergenceWarning)\n"
     ]
    },
    {
     "name": "stdout",
     "output_type": "stream",
     "text": [
      "[CV]  mlp__activation=tanh, mlp__alpha=0.007, mlp__learning_rate=adaptive, mlp__solver=sgd, mlp__validation_fraction=0.2, selectkbest__k=250, total=  24.9s\n",
      "[CV] mlp__activation=tanh, mlp__alpha=0.007, mlp__learning_rate=adaptive, mlp__solver=sgd, mlp__validation_fraction=0.2, selectkbest__k=290 \n"
     ]
    },
    {
     "name": "stderr",
     "output_type": "stream",
     "text": [
      "D:\\Anaconda3\\lib\\site-packages\\sklearn\\neural_network\\multilayer_perceptron.py:562: ConvergenceWarning: Stochastic Optimizer: Maximum iterations (200) reached and the optimization hasn't converged yet.\n",
      "  % self.max_iter, ConvergenceWarning)\n"
     ]
    },
    {
     "name": "stdout",
     "output_type": "stream",
     "text": [
      "[CV]  mlp__activation=tanh, mlp__alpha=0.007, mlp__learning_rate=adaptive, mlp__solver=sgd, mlp__validation_fraction=0.2, selectkbest__k=270, total=  24.4s\n",
      "[CV] mlp__activation=tanh, mlp__alpha=0.007, mlp__learning_rate=adaptive, mlp__solver=sgd, mlp__validation_fraction=0.2, selectkbest__k=290 \n"
     ]
    },
    {
     "name": "stderr",
     "output_type": "stream",
     "text": [
      "D:\\Anaconda3\\lib\\site-packages\\sklearn\\neural_network\\multilayer_perceptron.py:562: ConvergenceWarning: Stochastic Optimizer: Maximum iterations (200) reached and the optimization hasn't converged yet.\n",
      "  % self.max_iter, ConvergenceWarning)\n"
     ]
    },
    {
     "name": "stdout",
     "output_type": "stream",
     "text": [
      "[CV]  mlp__activation=tanh, mlp__alpha=0.007, mlp__learning_rate=adaptive, mlp__solver=sgd, mlp__validation_fraction=0.2, selectkbest__k=270, total=  24.0s\n",
      "[CV] mlp__activation=tanh, mlp__alpha=0.007, mlp__learning_rate=adaptive, mlp__solver=sgd, mlp__validation_fraction=0.2, selectkbest__k=290 \n"
     ]
    },
    {
     "name": "stderr",
     "output_type": "stream",
     "text": [
      "D:\\Anaconda3\\lib\\site-packages\\sklearn\\neural_network\\multilayer_perceptron.py:562: ConvergenceWarning: Stochastic Optimizer: Maximum iterations (200) reached and the optimization hasn't converged yet.\n",
      "  % self.max_iter, ConvergenceWarning)\n"
     ]
    },
    {
     "name": "stdout",
     "output_type": "stream",
     "text": [
      "[CV]  mlp__activation=tanh, mlp__alpha=0.007, mlp__learning_rate=adaptive, mlp__solver=sgd, mlp__validation_fraction=0.2, selectkbest__k=270, total=  24.4s\n",
      "[CV] mlp__activation=tanh, mlp__alpha=0.007, mlp__learning_rate=adaptive, mlp__solver=sgd, mlp__validation_fraction=0.2, selectkbest__k=310 \n"
     ]
    },
    {
     "name": "stderr",
     "output_type": "stream",
     "text": [
      "D:\\Anaconda3\\lib\\site-packages\\sklearn\\neural_network\\multilayer_perceptron.py:562: ConvergenceWarning: Stochastic Optimizer: Maximum iterations (200) reached and the optimization hasn't converged yet.\n",
      "  % self.max_iter, ConvergenceWarning)\n"
     ]
    },
    {
     "name": "stdout",
     "output_type": "stream",
     "text": [
      "[CV]  mlp__activation=tanh, mlp__alpha=0.007, mlp__learning_rate=adaptive, mlp__solver=sgd, mlp__validation_fraction=0.2, selectkbest__k=270, total=  24.2s\n",
      "[CV] mlp__activation=tanh, mlp__alpha=0.007, mlp__learning_rate=adaptive, mlp__solver=sgd, mlp__validation_fraction=0.2, selectkbest__k=310 \n"
     ]
    },
    {
     "name": "stderr",
     "output_type": "stream",
     "text": [
      "D:\\Anaconda3\\lib\\site-packages\\sklearn\\neural_network\\multilayer_perceptron.py:562: ConvergenceWarning: Stochastic Optimizer: Maximum iterations (200) reached and the optimization hasn't converged yet.\n",
      "  % self.max_iter, ConvergenceWarning)\n"
     ]
    },
    {
     "name": "stdout",
     "output_type": "stream",
     "text": [
      "[CV]  mlp__activation=tanh, mlp__alpha=0.007, mlp__learning_rate=adaptive, mlp__solver=sgd, mlp__validation_fraction=0.2, selectkbest__k=270, total=  25.0s\n",
      "[CV] mlp__activation=tanh, mlp__alpha=0.007, mlp__learning_rate=adaptive, mlp__solver=sgd, mlp__validation_fraction=0.2, selectkbest__k=310 \n"
     ]
    },
    {
     "name": "stderr",
     "output_type": "stream",
     "text": [
      "D:\\Anaconda3\\lib\\site-packages\\sklearn\\neural_network\\multilayer_perceptron.py:562: ConvergenceWarning: Stochastic Optimizer: Maximum iterations (200) reached and the optimization hasn't converged yet.\n",
      "  % self.max_iter, ConvergenceWarning)\n"
     ]
    },
    {
     "name": "stdout",
     "output_type": "stream",
     "text": [
      "[CV]  mlp__activation=tanh, mlp__alpha=0.007, mlp__learning_rate=adaptive, mlp__solver=sgd, mlp__validation_fraction=0.2, selectkbest__k=290, total=  25.5s\n",
      "[CV] mlp__activation=tanh, mlp__alpha=0.007, mlp__learning_rate=adaptive, mlp__solver=sgd, mlp__validation_fraction=0.2, selectkbest__k=310 \n"
     ]
    },
    {
     "name": "stderr",
     "output_type": "stream",
     "text": [
      "D:\\Anaconda3\\lib\\site-packages\\sklearn\\neural_network\\multilayer_perceptron.py:562: ConvergenceWarning: Stochastic Optimizer: Maximum iterations (200) reached and the optimization hasn't converged yet.\n",
      "  % self.max_iter, ConvergenceWarning)\n"
     ]
    },
    {
     "name": "stdout",
     "output_type": "stream",
     "text": [
      "[CV]  mlp__activation=tanh, mlp__alpha=0.007, mlp__learning_rate=adaptive, mlp__solver=sgd, mlp__validation_fraction=0.2, selectkbest__k=290, total=  25.4s\n",
      "[CV] mlp__activation=tanh, mlp__alpha=0.007, mlp__learning_rate=adaptive, mlp__solver=sgd, mlp__validation_fraction=0.2, selectkbest__k=310 \n"
     ]
    },
    {
     "name": "stderr",
     "output_type": "stream",
     "text": [
      "D:\\Anaconda3\\lib\\site-packages\\sklearn\\neural_network\\multilayer_perceptron.py:562: ConvergenceWarning: Stochastic Optimizer: Maximum iterations (200) reached and the optimization hasn't converged yet.\n",
      "  % self.max_iter, ConvergenceWarning)\n"
     ]
    },
    {
     "name": "stdout",
     "output_type": "stream",
     "text": [
      "[CV]  mlp__activation=tanh, mlp__alpha=0.007, mlp__learning_rate=adaptive, mlp__solver=sgd, mlp__validation_fraction=0.2, selectkbest__k=290, total=  25.6s\n",
      "[CV] mlp__activation=tanh, mlp__alpha=0.010000000000000002, mlp__learning_rate=constant, mlp__solver=sgd, mlp__validation_fraction=0.1, selectkbest__k=250 \n"
     ]
    },
    {
     "name": "stderr",
     "output_type": "stream",
     "text": [
      "D:\\Anaconda3\\lib\\site-packages\\sklearn\\neural_network\\multilayer_perceptron.py:562: ConvergenceWarning: Stochastic Optimizer: Maximum iterations (200) reached and the optimization hasn't converged yet.\n",
      "  % self.max_iter, ConvergenceWarning)\n"
     ]
    },
    {
     "name": "stdout",
     "output_type": "stream",
     "text": [
      "[CV]  mlp__activation=tanh, mlp__alpha=0.007, mlp__learning_rate=adaptive, mlp__solver=sgd, mlp__validation_fraction=0.2, selectkbest__k=290, total=  24.9s\n",
      "[CV] mlp__activation=tanh, mlp__alpha=0.010000000000000002, mlp__learning_rate=constant, mlp__solver=sgd, mlp__validation_fraction=0.1, selectkbest__k=250 \n"
     ]
    },
    {
     "name": "stderr",
     "output_type": "stream",
     "text": [
      "D:\\Anaconda3\\lib\\site-packages\\sklearn\\neural_network\\multilayer_perceptron.py:562: ConvergenceWarning: Stochastic Optimizer: Maximum iterations (200) reached and the optimization hasn't converged yet.\n",
      "  % self.max_iter, ConvergenceWarning)\n"
     ]
    },
    {
     "name": "stdout",
     "output_type": "stream",
     "text": [
      "[CV]  mlp__activation=tanh, mlp__alpha=0.007, mlp__learning_rate=adaptive, mlp__solver=sgd, mlp__validation_fraction=0.2, selectkbest__k=290, total=  25.2s\n",
      "[CV] mlp__activation=tanh, mlp__alpha=0.010000000000000002, mlp__learning_rate=constant, mlp__solver=sgd, mlp__validation_fraction=0.1, selectkbest__k=250 \n"
     ]
    },
    {
     "name": "stderr",
     "output_type": "stream",
     "text": [
      "D:\\Anaconda3\\lib\\site-packages\\sklearn\\neural_network\\multilayer_perceptron.py:562: ConvergenceWarning: Stochastic Optimizer: Maximum iterations (200) reached and the optimization hasn't converged yet.\n",
      "  % self.max_iter, ConvergenceWarning)\n"
     ]
    },
    {
     "name": "stdout",
     "output_type": "stream",
     "text": [
      "[CV]  mlp__activation=tanh, mlp__alpha=0.007, mlp__learning_rate=adaptive, mlp__solver=sgd, mlp__validation_fraction=0.2, selectkbest__k=310, total=  26.2s\n",
      "[CV] mlp__activation=tanh, mlp__alpha=0.010000000000000002, mlp__learning_rate=constant, mlp__solver=sgd, mlp__validation_fraction=0.1, selectkbest__k=250 \n"
     ]
    },
    {
     "name": "stderr",
     "output_type": "stream",
     "text": [
      "D:\\Anaconda3\\lib\\site-packages\\sklearn\\neural_network\\multilayer_perceptron.py:562: ConvergenceWarning: Stochastic Optimizer: Maximum iterations (200) reached and the optimization hasn't converged yet.\n",
      "  % self.max_iter, ConvergenceWarning)\n"
     ]
    },
    {
     "name": "stdout",
     "output_type": "stream",
     "text": [
      "[CV]  mlp__activation=tanh, mlp__alpha=0.007, mlp__learning_rate=adaptive, mlp__solver=sgd, mlp__validation_fraction=0.2, selectkbest__k=310, total=  26.1s\n",
      "[CV] mlp__activation=tanh, mlp__alpha=0.010000000000000002, mlp__learning_rate=constant, mlp__solver=sgd, mlp__validation_fraction=0.1, selectkbest__k=250 \n"
     ]
    },
    {
     "name": "stderr",
     "output_type": "stream",
     "text": [
      "D:\\Anaconda3\\lib\\site-packages\\sklearn\\neural_network\\multilayer_perceptron.py:562: ConvergenceWarning: Stochastic Optimizer: Maximum iterations (200) reached and the optimization hasn't converged yet.\n",
      "  % self.max_iter, ConvergenceWarning)\n"
     ]
    },
    {
     "name": "stdout",
     "output_type": "stream",
     "text": [
      "[CV]  mlp__activation=tanh, mlp__alpha=0.007, mlp__learning_rate=adaptive, mlp__solver=sgd, mlp__validation_fraction=0.2, selectkbest__k=310, total=  26.2s\n",
      "[CV] mlp__activation=tanh, mlp__alpha=0.010000000000000002, mlp__learning_rate=constant, mlp__solver=sgd, mlp__validation_fraction=0.1, selectkbest__k=270 \n"
     ]
    },
    {
     "name": "stderr",
     "output_type": "stream",
     "text": [
      "D:\\Anaconda3\\lib\\site-packages\\sklearn\\neural_network\\multilayer_perceptron.py:562: ConvergenceWarning: Stochastic Optimizer: Maximum iterations (200) reached and the optimization hasn't converged yet.\n",
      "  % self.max_iter, ConvergenceWarning)\n"
     ]
    },
    {
     "name": "stdout",
     "output_type": "stream",
     "text": [
      "[CV]  mlp__activation=tanh, mlp__alpha=0.007, mlp__learning_rate=adaptive, mlp__solver=sgd, mlp__validation_fraction=0.2, selectkbest__k=310, total=  25.9s\n",
      "[CV] mlp__activation=tanh, mlp__alpha=0.010000000000000002, mlp__learning_rate=constant, mlp__solver=sgd, mlp__validation_fraction=0.1, selectkbest__k=270 \n"
     ]
    },
    {
     "name": "stderr",
     "output_type": "stream",
     "text": [
      "D:\\Anaconda3\\lib\\site-packages\\sklearn\\neural_network\\multilayer_perceptron.py:562: ConvergenceWarning: Stochastic Optimizer: Maximum iterations (200) reached and the optimization hasn't converged yet.\n",
      "  % self.max_iter, ConvergenceWarning)\n"
     ]
    },
    {
     "name": "stdout",
     "output_type": "stream",
     "text": [
      "[CV]  mlp__activation=tanh, mlp__alpha=0.007, mlp__learning_rate=adaptive, mlp__solver=sgd, mlp__validation_fraction=0.2, selectkbest__k=310, total=  26.3s\n",
      "[CV] mlp__activation=tanh, mlp__alpha=0.010000000000000002, mlp__learning_rate=constant, mlp__solver=sgd, mlp__validation_fraction=0.1, selectkbest__k=270 \n"
     ]
    },
    {
     "name": "stderr",
     "output_type": "stream",
     "text": [
      "D:\\Anaconda3\\lib\\site-packages\\sklearn\\neural_network\\multilayer_perceptron.py:562: ConvergenceWarning: Stochastic Optimizer: Maximum iterations (200) reached and the optimization hasn't converged yet.\n",
      "  % self.max_iter, ConvergenceWarning)\n"
     ]
    },
    {
     "name": "stdout",
     "output_type": "stream",
     "text": [
      "[CV]  mlp__activation=tanh, mlp__alpha=0.010000000000000002, mlp__learning_rate=constant, mlp__solver=sgd, mlp__validation_fraction=0.1, selectkbest__k=250, total=  25.3s\n",
      "[CV] mlp__activation=tanh, mlp__alpha=0.010000000000000002, mlp__learning_rate=constant, mlp__solver=sgd, mlp__validation_fraction=0.1, selectkbest__k=270 \n"
     ]
    },
    {
     "name": "stderr",
     "output_type": "stream",
     "text": [
      "D:\\Anaconda3\\lib\\site-packages\\sklearn\\neural_network\\multilayer_perceptron.py:562: ConvergenceWarning: Stochastic Optimizer: Maximum iterations (200) reached and the optimization hasn't converged yet.\n",
      "  % self.max_iter, ConvergenceWarning)\n"
     ]
    },
    {
     "name": "stdout",
     "output_type": "stream",
     "text": [
      "[CV]  mlp__activation=tanh, mlp__alpha=0.010000000000000002, mlp__learning_rate=constant, mlp__solver=sgd, mlp__validation_fraction=0.1, selectkbest__k=250, total=  24.2s\n",
      "[CV] mlp__activation=tanh, mlp__alpha=0.010000000000000002, mlp__learning_rate=constant, mlp__solver=sgd, mlp__validation_fraction=0.1, selectkbest__k=270 \n"
     ]
    },
    {
     "name": "stderr",
     "output_type": "stream",
     "text": [
      "D:\\Anaconda3\\lib\\site-packages\\sklearn\\neural_network\\multilayer_perceptron.py:562: ConvergenceWarning: Stochastic Optimizer: Maximum iterations (200) reached and the optimization hasn't converged yet.\n",
      "  % self.max_iter, ConvergenceWarning)\n"
     ]
    },
    {
     "name": "stdout",
     "output_type": "stream",
     "text": [
      "[CV]  mlp__activation=tanh, mlp__alpha=0.010000000000000002, mlp__learning_rate=constant, mlp__solver=sgd, mlp__validation_fraction=0.1, selectkbest__k=250, total=  23.8s\n",
      "[CV] mlp__activation=tanh, mlp__alpha=0.010000000000000002, mlp__learning_rate=constant, mlp__solver=sgd, mlp__validation_fraction=0.1, selectkbest__k=290 \n"
     ]
    },
    {
     "name": "stderr",
     "output_type": "stream",
     "text": [
      "D:\\Anaconda3\\lib\\site-packages\\sklearn\\neural_network\\multilayer_perceptron.py:562: ConvergenceWarning: Stochastic Optimizer: Maximum iterations (200) reached and the optimization hasn't converged yet.\n",
      "  % self.max_iter, ConvergenceWarning)\n"
     ]
    },
    {
     "name": "stdout",
     "output_type": "stream",
     "text": [
      "[CV]  mlp__activation=tanh, mlp__alpha=0.010000000000000002, mlp__learning_rate=constant, mlp__solver=sgd, mlp__validation_fraction=0.1, selectkbest__k=250, total=  24.1s\n",
      "[CV] mlp__activation=tanh, mlp__alpha=0.010000000000000002, mlp__learning_rate=constant, mlp__solver=sgd, mlp__validation_fraction=0.1, selectkbest__k=290 \n"
     ]
    },
    {
     "name": "stderr",
     "output_type": "stream",
     "text": [
      "D:\\Anaconda3\\lib\\site-packages\\sklearn\\neural_network\\multilayer_perceptron.py:562: ConvergenceWarning: Stochastic Optimizer: Maximum iterations (200) reached and the optimization hasn't converged yet.\n",
      "  % self.max_iter, ConvergenceWarning)\n"
     ]
    },
    {
     "name": "stdout",
     "output_type": "stream",
     "text": [
      "[CV]  mlp__activation=tanh, mlp__alpha=0.010000000000000002, mlp__learning_rate=constant, mlp__solver=sgd, mlp__validation_fraction=0.1, selectkbest__k=250, total=  24.6s\n",
      "[CV] mlp__activation=tanh, mlp__alpha=0.010000000000000002, mlp__learning_rate=constant, mlp__solver=sgd, mlp__validation_fraction=0.1, selectkbest__k=290 \n"
     ]
    },
    {
     "name": "stderr",
     "output_type": "stream",
     "text": [
      "D:\\Anaconda3\\lib\\site-packages\\sklearn\\neural_network\\multilayer_perceptron.py:562: ConvergenceWarning: Stochastic Optimizer: Maximum iterations (200) reached and the optimization hasn't converged yet.\n",
      "  % self.max_iter, ConvergenceWarning)\n"
     ]
    },
    {
     "name": "stdout",
     "output_type": "stream",
     "text": [
      "[CV]  mlp__activation=tanh, mlp__alpha=0.010000000000000002, mlp__learning_rate=constant, mlp__solver=sgd, mlp__validation_fraction=0.1, selectkbest__k=270, total=  24.8s\n",
      "[CV] mlp__activation=tanh, mlp__alpha=0.010000000000000002, mlp__learning_rate=constant, mlp__solver=sgd, mlp__validation_fraction=0.1, selectkbest__k=290 \n"
     ]
    },
    {
     "name": "stderr",
     "output_type": "stream",
     "text": [
      "D:\\Anaconda3\\lib\\site-packages\\sklearn\\neural_network\\multilayer_perceptron.py:562: ConvergenceWarning: Stochastic Optimizer: Maximum iterations (200) reached and the optimization hasn't converged yet.\n",
      "  % self.max_iter, ConvergenceWarning)\n"
     ]
    },
    {
     "name": "stdout",
     "output_type": "stream",
     "text": [
      "[CV]  mlp__activation=tanh, mlp__alpha=0.010000000000000002, mlp__learning_rate=constant, mlp__solver=sgd, mlp__validation_fraction=0.1, selectkbest__k=270, total=  24.7s\n",
      "[CV] mlp__activation=tanh, mlp__alpha=0.010000000000000002, mlp__learning_rate=constant, mlp__solver=sgd, mlp__validation_fraction=0.1, selectkbest__k=290 \n"
     ]
    },
    {
     "name": "stderr",
     "output_type": "stream",
     "text": [
      "D:\\Anaconda3\\lib\\site-packages\\sklearn\\neural_network\\multilayer_perceptron.py:562: ConvergenceWarning: Stochastic Optimizer: Maximum iterations (200) reached and the optimization hasn't converged yet.\n",
      "  % self.max_iter, ConvergenceWarning)\n"
     ]
    },
    {
     "name": "stdout",
     "output_type": "stream",
     "text": [
      "[CV]  mlp__activation=tanh, mlp__alpha=0.010000000000000002, mlp__learning_rate=constant, mlp__solver=sgd, mlp__validation_fraction=0.1, selectkbest__k=270, total=  24.8s\n",
      "[CV] mlp__activation=tanh, mlp__alpha=0.010000000000000002, mlp__learning_rate=constant, mlp__solver=sgd, mlp__validation_fraction=0.1, selectkbest__k=310 \n"
     ]
    },
    {
     "name": "stderr",
     "output_type": "stream",
     "text": [
      "D:\\Anaconda3\\lib\\site-packages\\sklearn\\neural_network\\multilayer_perceptron.py:562: ConvergenceWarning: Stochastic Optimizer: Maximum iterations (200) reached and the optimization hasn't converged yet.\n",
      "  % self.max_iter, ConvergenceWarning)\n"
     ]
    },
    {
     "name": "stdout",
     "output_type": "stream",
     "text": [
      "[CV]  mlp__activation=tanh, mlp__alpha=0.010000000000000002, mlp__learning_rate=constant, mlp__solver=sgd, mlp__validation_fraction=0.1, selectkbest__k=270, total=  24.7s\n",
      "[CV] mlp__activation=tanh, mlp__alpha=0.010000000000000002, mlp__learning_rate=constant, mlp__solver=sgd, mlp__validation_fraction=0.1, selectkbest__k=310 \n"
     ]
    },
    {
     "name": "stderr",
     "output_type": "stream",
     "text": [
      "D:\\Anaconda3\\lib\\site-packages\\sklearn\\neural_network\\multilayer_perceptron.py:562: ConvergenceWarning: Stochastic Optimizer: Maximum iterations (200) reached and the optimization hasn't converged yet.\n",
      "  % self.max_iter, ConvergenceWarning)\n"
     ]
    },
    {
     "name": "stdout",
     "output_type": "stream",
     "text": [
      "[CV]  mlp__activation=tanh, mlp__alpha=0.010000000000000002, mlp__learning_rate=constant, mlp__solver=sgd, mlp__validation_fraction=0.1, selectkbest__k=270, total=  24.8s\n",
      "[CV] mlp__activation=tanh, mlp__alpha=0.010000000000000002, mlp__learning_rate=constant, mlp__solver=sgd, mlp__validation_fraction=0.1, selectkbest__k=310 \n"
     ]
    },
    {
     "name": "stderr",
     "output_type": "stream",
     "text": [
      "D:\\Anaconda3\\lib\\site-packages\\sklearn\\neural_network\\multilayer_perceptron.py:562: ConvergenceWarning: Stochastic Optimizer: Maximum iterations (200) reached and the optimization hasn't converged yet.\n",
      "  % self.max_iter, ConvergenceWarning)\n"
     ]
    },
    {
     "name": "stdout",
     "output_type": "stream",
     "text": [
      "[CV]  mlp__activation=tanh, mlp__alpha=0.010000000000000002, mlp__learning_rate=constant, mlp__solver=sgd, mlp__validation_fraction=0.1, selectkbest__k=290, total=  24.7s\n",
      "[CV] mlp__activation=tanh, mlp__alpha=0.010000000000000002, mlp__learning_rate=constant, mlp__solver=sgd, mlp__validation_fraction=0.1, selectkbest__k=310 \n"
     ]
    },
    {
     "name": "stderr",
     "output_type": "stream",
     "text": [
      "D:\\Anaconda3\\lib\\site-packages\\sklearn\\neural_network\\multilayer_perceptron.py:562: ConvergenceWarning: Stochastic Optimizer: Maximum iterations (200) reached and the optimization hasn't converged yet.\n",
      "  % self.max_iter, ConvergenceWarning)\n"
     ]
    },
    {
     "name": "stdout",
     "output_type": "stream",
     "text": [
      "[CV]  mlp__activation=tanh, mlp__alpha=0.010000000000000002, mlp__learning_rate=constant, mlp__solver=sgd, mlp__validation_fraction=0.1, selectkbest__k=290, total=  25.5s\n",
      "[CV] mlp__activation=tanh, mlp__alpha=0.010000000000000002, mlp__learning_rate=constant, mlp__solver=sgd, mlp__validation_fraction=0.1, selectkbest__k=310 \n"
     ]
    },
    {
     "name": "stderr",
     "output_type": "stream",
     "text": [
      "D:\\Anaconda3\\lib\\site-packages\\sklearn\\neural_network\\multilayer_perceptron.py:562: ConvergenceWarning: Stochastic Optimizer: Maximum iterations (200) reached and the optimization hasn't converged yet.\n",
      "  % self.max_iter, ConvergenceWarning)\n"
     ]
    },
    {
     "name": "stdout",
     "output_type": "stream",
     "text": [
      "[CV]  mlp__activation=tanh, mlp__alpha=0.010000000000000002, mlp__learning_rate=constant, mlp__solver=sgd, mlp__validation_fraction=0.1, selectkbest__k=290, total=  25.5s\n",
      "[CV] mlp__activation=tanh, mlp__alpha=0.010000000000000002, mlp__learning_rate=constant, mlp__solver=sgd, mlp__validation_fraction=0.2, selectkbest__k=250 \n"
     ]
    },
    {
     "name": "stderr",
     "output_type": "stream",
     "text": [
      "D:\\Anaconda3\\lib\\site-packages\\sklearn\\neural_network\\multilayer_perceptron.py:562: ConvergenceWarning: Stochastic Optimizer: Maximum iterations (200) reached and the optimization hasn't converged yet.\n",
      "  % self.max_iter, ConvergenceWarning)\n"
     ]
    },
    {
     "name": "stdout",
     "output_type": "stream",
     "text": [
      "[CV]  mlp__activation=tanh, mlp__alpha=0.010000000000000002, mlp__learning_rate=constant, mlp__solver=sgd, mlp__validation_fraction=0.1, selectkbest__k=290, total=  25.4s\n",
      "[CV] mlp__activation=tanh, mlp__alpha=0.010000000000000002, mlp__learning_rate=constant, mlp__solver=sgd, mlp__validation_fraction=0.2, selectkbest__k=250 \n"
     ]
    },
    {
     "name": "stderr",
     "output_type": "stream",
     "text": [
      "D:\\Anaconda3\\lib\\site-packages\\sklearn\\neural_network\\multilayer_perceptron.py:562: ConvergenceWarning: Stochastic Optimizer: Maximum iterations (200) reached and the optimization hasn't converged yet.\n",
      "  % self.max_iter, ConvergenceWarning)\n"
     ]
    },
    {
     "name": "stdout",
     "output_type": "stream",
     "text": [
      "[CV]  mlp__activation=tanh, mlp__alpha=0.010000000000000002, mlp__learning_rate=constant, mlp__solver=sgd, mlp__validation_fraction=0.1, selectkbest__k=290, total=  26.2s\n",
      "[CV] mlp__activation=tanh, mlp__alpha=0.010000000000000002, mlp__learning_rate=constant, mlp__solver=sgd, mlp__validation_fraction=0.2, selectkbest__k=250 \n"
     ]
    },
    {
     "name": "stderr",
     "output_type": "stream",
     "text": [
      "D:\\Anaconda3\\lib\\site-packages\\sklearn\\neural_network\\multilayer_perceptron.py:562: ConvergenceWarning: Stochastic Optimizer: Maximum iterations (200) reached and the optimization hasn't converged yet.\n",
      "  % self.max_iter, ConvergenceWarning)\n"
     ]
    },
    {
     "name": "stdout",
     "output_type": "stream",
     "text": [
      "[CV]  mlp__activation=tanh, mlp__alpha=0.010000000000000002, mlp__learning_rate=constant, mlp__solver=sgd, mlp__validation_fraction=0.1, selectkbest__k=310, total=  26.5s\n",
      "[CV] mlp__activation=tanh, mlp__alpha=0.010000000000000002, mlp__learning_rate=constant, mlp__solver=sgd, mlp__validation_fraction=0.2, selectkbest__k=250 \n"
     ]
    },
    {
     "name": "stderr",
     "output_type": "stream",
     "text": [
      "D:\\Anaconda3\\lib\\site-packages\\sklearn\\neural_network\\multilayer_perceptron.py:562: ConvergenceWarning: Stochastic Optimizer: Maximum iterations (200) reached and the optimization hasn't converged yet.\n",
      "  % self.max_iter, ConvergenceWarning)\n"
     ]
    },
    {
     "name": "stdout",
     "output_type": "stream",
     "text": [
      "[CV]  mlp__activation=tanh, mlp__alpha=0.010000000000000002, mlp__learning_rate=constant, mlp__solver=sgd, mlp__validation_fraction=0.1, selectkbest__k=310, total=  26.5s\n",
      "[CV] mlp__activation=tanh, mlp__alpha=0.010000000000000002, mlp__learning_rate=constant, mlp__solver=sgd, mlp__validation_fraction=0.2, selectkbest__k=250 \n"
     ]
    },
    {
     "name": "stderr",
     "output_type": "stream",
     "text": [
      "D:\\Anaconda3\\lib\\site-packages\\sklearn\\neural_network\\multilayer_perceptron.py:562: ConvergenceWarning: Stochastic Optimizer: Maximum iterations (200) reached and the optimization hasn't converged yet.\n",
      "  % self.max_iter, ConvergenceWarning)\n",
      "D:\\Anaconda3\\lib\\site-packages\\sklearn\\neural_network\\multilayer_perceptron.py:562: ConvergenceWarning: Stochastic Optimizer: Maximum iterations (200) reached and the optimization hasn't converged yet.\n",
      "  % self.max_iter, ConvergenceWarning)\n"
     ]
    },
    {
     "name": "stdout",
     "output_type": "stream",
     "text": [
      "[CV]  mlp__activation=tanh, mlp__alpha=0.010000000000000002, mlp__learning_rate=constant, mlp__solver=sgd, mlp__validation_fraction=0.1, selectkbest__k=310, total=  25.6s\n",
      "[CV] mlp__activation=tanh, mlp__alpha=0.010000000000000002, mlp__learning_rate=constant, mlp__solver=sgd, mlp__validation_fraction=0.2, selectkbest__k=270 \n",
      "[CV]  mlp__activation=tanh, mlp__alpha=0.010000000000000002, mlp__learning_rate=constant, mlp__solver=sgd, mlp__validation_fraction=0.1, selectkbest__k=310, total=  24.9s\n",
      "[CV] mlp__activation=tanh, mlp__alpha=0.010000000000000002, mlp__learning_rate=constant, mlp__solver=sgd, mlp__validation_fraction=0.2, selectkbest__k=270 \n"
     ]
    },
    {
     "name": "stderr",
     "output_type": "stream",
     "text": [
      "D:\\Anaconda3\\lib\\site-packages\\sklearn\\neural_network\\multilayer_perceptron.py:562: ConvergenceWarning: Stochastic Optimizer: Maximum iterations (200) reached and the optimization hasn't converged yet.\n",
      "  % self.max_iter, ConvergenceWarning)\n"
     ]
    },
    {
     "name": "stdout",
     "output_type": "stream",
     "text": [
      "[CV]  mlp__activation=tanh, mlp__alpha=0.010000000000000002, mlp__learning_rate=constant, mlp__solver=sgd, mlp__validation_fraction=0.1, selectkbest__k=310, total=  25.6s\n",
      "[CV] mlp__activation=tanh, mlp__alpha=0.010000000000000002, mlp__learning_rate=constant, mlp__solver=sgd, mlp__validation_fraction=0.2, selectkbest__k=270 \n"
     ]
    },
    {
     "name": "stderr",
     "output_type": "stream",
     "text": [
      "D:\\Anaconda3\\lib\\site-packages\\sklearn\\neural_network\\multilayer_perceptron.py:562: ConvergenceWarning: Stochastic Optimizer: Maximum iterations (200) reached and the optimization hasn't converged yet.\n",
      "  % self.max_iter, ConvergenceWarning)\n"
     ]
    },
    {
     "name": "stdout",
     "output_type": "stream",
     "text": [
      "[CV]  mlp__activation=tanh, mlp__alpha=0.010000000000000002, mlp__learning_rate=constant, mlp__solver=sgd, mlp__validation_fraction=0.2, selectkbest__k=250, total=  24.5s\n",
      "[CV] mlp__activation=tanh, mlp__alpha=0.010000000000000002, mlp__learning_rate=constant, mlp__solver=sgd, mlp__validation_fraction=0.2, selectkbest__k=270 \n"
     ]
    },
    {
     "name": "stderr",
     "output_type": "stream",
     "text": [
      "D:\\Anaconda3\\lib\\site-packages\\sklearn\\neural_network\\multilayer_perceptron.py:562: ConvergenceWarning: Stochastic Optimizer: Maximum iterations (200) reached and the optimization hasn't converged yet.\n",
      "  % self.max_iter, ConvergenceWarning)\n"
     ]
    },
    {
     "name": "stdout",
     "output_type": "stream",
     "text": [
      "[CV]  mlp__activation=tanh, mlp__alpha=0.010000000000000002, mlp__learning_rate=constant, mlp__solver=sgd, mlp__validation_fraction=0.2, selectkbest__k=250, total=  24.5s\n",
      "[CV] mlp__activation=tanh, mlp__alpha=0.010000000000000002, mlp__learning_rate=constant, mlp__solver=sgd, mlp__validation_fraction=0.2, selectkbest__k=270 \n"
     ]
    },
    {
     "name": "stderr",
     "output_type": "stream",
     "text": [
      "D:\\Anaconda3\\lib\\site-packages\\sklearn\\neural_network\\multilayer_perceptron.py:562: ConvergenceWarning: Stochastic Optimizer: Maximum iterations (200) reached and the optimization hasn't converged yet.\n",
      "  % self.max_iter, ConvergenceWarning)\n"
     ]
    },
    {
     "name": "stdout",
     "output_type": "stream",
     "text": [
      "[CV]  mlp__activation=tanh, mlp__alpha=0.010000000000000002, mlp__learning_rate=constant, mlp__solver=sgd, mlp__validation_fraction=0.2, selectkbest__k=250, total=  24.3s\n",
      "[CV] mlp__activation=tanh, mlp__alpha=0.010000000000000002, mlp__learning_rate=constant, mlp__solver=sgd, mlp__validation_fraction=0.2, selectkbest__k=290 \n"
     ]
    },
    {
     "name": "stderr",
     "output_type": "stream",
     "text": [
      "D:\\Anaconda3\\lib\\site-packages\\sklearn\\neural_network\\multilayer_perceptron.py:562: ConvergenceWarning: Stochastic Optimizer: Maximum iterations (200) reached and the optimization hasn't converged yet.\n",
      "  % self.max_iter, ConvergenceWarning)\n"
     ]
    },
    {
     "name": "stdout",
     "output_type": "stream",
     "text": [
      "[CV]  mlp__activation=tanh, mlp__alpha=0.010000000000000002, mlp__learning_rate=constant, mlp__solver=sgd, mlp__validation_fraction=0.2, selectkbest__k=250, total=  23.9s\n",
      "[CV] mlp__activation=tanh, mlp__alpha=0.010000000000000002, mlp__learning_rate=constant, mlp__solver=sgd, mlp__validation_fraction=0.2, selectkbest__k=290 \n"
     ]
    },
    {
     "name": "stderr",
     "output_type": "stream",
     "text": [
      "D:\\Anaconda3\\lib\\site-packages\\sklearn\\neural_network\\multilayer_perceptron.py:562: ConvergenceWarning: Stochastic Optimizer: Maximum iterations (200) reached and the optimization hasn't converged yet.\n",
      "  % self.max_iter, ConvergenceWarning)\n"
     ]
    },
    {
     "name": "stdout",
     "output_type": "stream",
     "text": [
      "[CV]  mlp__activation=tanh, mlp__alpha=0.010000000000000002, mlp__learning_rate=constant, mlp__solver=sgd, mlp__validation_fraction=0.2, selectkbest__k=250, total=  24.5s\n",
      "[CV] mlp__activation=tanh, mlp__alpha=0.010000000000000002, mlp__learning_rate=constant, mlp__solver=sgd, mlp__validation_fraction=0.2, selectkbest__k=290 \n"
     ]
    },
    {
     "name": "stderr",
     "output_type": "stream",
     "text": [
      "D:\\Anaconda3\\lib\\site-packages\\sklearn\\neural_network\\multilayer_perceptron.py:562: ConvergenceWarning: Stochastic Optimizer: Maximum iterations (200) reached and the optimization hasn't converged yet.\n",
      "  % self.max_iter, ConvergenceWarning)\n"
     ]
    },
    {
     "name": "stdout",
     "output_type": "stream",
     "text": [
      "[CV]  mlp__activation=tanh, mlp__alpha=0.010000000000000002, mlp__learning_rate=constant, mlp__solver=sgd, mlp__validation_fraction=0.2, selectkbest__k=270, total=  23.7s\n",
      "[CV] mlp__activation=tanh, mlp__alpha=0.010000000000000002, mlp__learning_rate=constant, mlp__solver=sgd, mlp__validation_fraction=0.2, selectkbest__k=290 \n"
     ]
    },
    {
     "name": "stderr",
     "output_type": "stream",
     "text": [
      "D:\\Anaconda3\\lib\\site-packages\\sklearn\\neural_network\\multilayer_perceptron.py:562: ConvergenceWarning: Stochastic Optimizer: Maximum iterations (200) reached and the optimization hasn't converged yet.\n",
      "  % self.max_iter, ConvergenceWarning)\n"
     ]
    },
    {
     "name": "stdout",
     "output_type": "stream",
     "text": [
      "[CV]  mlp__activation=tanh, mlp__alpha=0.010000000000000002, mlp__learning_rate=constant, mlp__solver=sgd, mlp__validation_fraction=0.2, selectkbest__k=270, total=  24.3s\n",
      "[CV] mlp__activation=tanh, mlp__alpha=0.010000000000000002, mlp__learning_rate=constant, mlp__solver=sgd, mlp__validation_fraction=0.2, selectkbest__k=290 \n"
     ]
    },
    {
     "name": "stderr",
     "output_type": "stream",
     "text": [
      "D:\\Anaconda3\\lib\\site-packages\\sklearn\\neural_network\\multilayer_perceptron.py:562: ConvergenceWarning: Stochastic Optimizer: Maximum iterations (200) reached and the optimization hasn't converged yet.\n",
      "  % self.max_iter, ConvergenceWarning)\n",
      "D:\\Anaconda3\\lib\\site-packages\\sklearn\\neural_network\\multilayer_perceptron.py:562: ConvergenceWarning: Stochastic Optimizer: Maximum iterations (200) reached and the optimization hasn't converged yet.\n",
      "  % self.max_iter, ConvergenceWarning)\n"
     ]
    },
    {
     "name": "stdout",
     "output_type": "stream",
     "text": [
      "[CV]  mlp__activation=tanh, mlp__alpha=0.010000000000000002, mlp__learning_rate=constant, mlp__solver=sgd, mlp__validation_fraction=0.2, selectkbest__k=270, total=  24.0s\n",
      "[CV] mlp__activation=tanh, mlp__alpha=0.010000000000000002, mlp__learning_rate=constant, mlp__solver=sgd, mlp__validation_fraction=0.2, selectkbest__k=310 \n",
      "[CV]  mlp__activation=tanh, mlp__alpha=0.010000000000000002, mlp__learning_rate=constant, mlp__solver=sgd, mlp__validation_fraction=0.2, selectkbest__k=270, total=  24.5s\n",
      "[CV] mlp__activation=tanh, mlp__alpha=0.010000000000000002, mlp__learning_rate=constant, mlp__solver=sgd, mlp__validation_fraction=0.2, selectkbest__k=310 \n"
     ]
    },
    {
     "name": "stderr",
     "output_type": "stream",
     "text": [
      "D:\\Anaconda3\\lib\\site-packages\\sklearn\\neural_network\\multilayer_perceptron.py:562: ConvergenceWarning: Stochastic Optimizer: Maximum iterations (200) reached and the optimization hasn't converged yet.\n",
      "  % self.max_iter, ConvergenceWarning)\n"
     ]
    },
    {
     "name": "stdout",
     "output_type": "stream",
     "text": [
      "[CV]  mlp__activation=tanh, mlp__alpha=0.010000000000000002, mlp__learning_rate=constant, mlp__solver=sgd, mlp__validation_fraction=0.2, selectkbest__k=270, total=  24.9s\n",
      "[CV] mlp__activation=tanh, mlp__alpha=0.010000000000000002, mlp__learning_rate=constant, mlp__solver=sgd, mlp__validation_fraction=0.2, selectkbest__k=310 \n"
     ]
    },
    {
     "name": "stderr",
     "output_type": "stream",
     "text": [
      "D:\\Anaconda3\\lib\\site-packages\\sklearn\\neural_network\\multilayer_perceptron.py:562: ConvergenceWarning: Stochastic Optimizer: Maximum iterations (200) reached and the optimization hasn't converged yet.\n",
      "  % self.max_iter, ConvergenceWarning)\n"
     ]
    },
    {
     "name": "stdout",
     "output_type": "stream",
     "text": [
      "[CV]  mlp__activation=tanh, mlp__alpha=0.010000000000000002, mlp__learning_rate=constant, mlp__solver=sgd, mlp__validation_fraction=0.2, selectkbest__k=290, total=  25.7s\n",
      "[CV] mlp__activation=tanh, mlp__alpha=0.010000000000000002, mlp__learning_rate=constant, mlp__solver=sgd, mlp__validation_fraction=0.2, selectkbest__k=310 \n"
     ]
    },
    {
     "name": "stderr",
     "output_type": "stream",
     "text": [
      "D:\\Anaconda3\\lib\\site-packages\\sklearn\\neural_network\\multilayer_perceptron.py:562: ConvergenceWarning: Stochastic Optimizer: Maximum iterations (200) reached and the optimization hasn't converged yet.\n",
      "  % self.max_iter, ConvergenceWarning)\n"
     ]
    },
    {
     "name": "stdout",
     "output_type": "stream",
     "text": [
      "[CV]  mlp__activation=tanh, mlp__alpha=0.010000000000000002, mlp__learning_rate=constant, mlp__solver=sgd, mlp__validation_fraction=0.2, selectkbest__k=290, total=  25.8s\n",
      "[CV] mlp__activation=tanh, mlp__alpha=0.010000000000000002, mlp__learning_rate=constant, mlp__solver=sgd, mlp__validation_fraction=0.2, selectkbest__k=310 \n"
     ]
    },
    {
     "name": "stderr",
     "output_type": "stream",
     "text": [
      "D:\\Anaconda3\\lib\\site-packages\\sklearn\\neural_network\\multilayer_perceptron.py:562: ConvergenceWarning: Stochastic Optimizer: Maximum iterations (200) reached and the optimization hasn't converged yet.\n",
      "  % self.max_iter, ConvergenceWarning)\n"
     ]
    },
    {
     "name": "stdout",
     "output_type": "stream",
     "text": [
      "[CV]  mlp__activation=tanh, mlp__alpha=0.010000000000000002, mlp__learning_rate=constant, mlp__solver=sgd, mlp__validation_fraction=0.2, selectkbest__k=290, total=  26.1s\n",
      "[CV] mlp__activation=tanh, mlp__alpha=0.010000000000000002, mlp__learning_rate=adaptive, mlp__solver=sgd, mlp__validation_fraction=0.1, selectkbest__k=250 \n"
     ]
    },
    {
     "name": "stderr",
     "output_type": "stream",
     "text": [
      "D:\\Anaconda3\\lib\\site-packages\\sklearn\\neural_network\\multilayer_perceptron.py:562: ConvergenceWarning: Stochastic Optimizer: Maximum iterations (200) reached and the optimization hasn't converged yet.\n",
      "  % self.max_iter, ConvergenceWarning)\n"
     ]
    },
    {
     "name": "stdout",
     "output_type": "stream",
     "text": [
      "[CV]  mlp__activation=tanh, mlp__alpha=0.010000000000000002, mlp__learning_rate=constant, mlp__solver=sgd, mlp__validation_fraction=0.2, selectkbest__k=290, total=  25.0s\n",
      "[CV] mlp__activation=tanh, mlp__alpha=0.010000000000000002, mlp__learning_rate=adaptive, mlp__solver=sgd, mlp__validation_fraction=0.1, selectkbest__k=250 \n"
     ]
    },
    {
     "name": "stderr",
     "output_type": "stream",
     "text": [
      "D:\\Anaconda3\\lib\\site-packages\\sklearn\\neural_network\\multilayer_perceptron.py:562: ConvergenceWarning: Stochastic Optimizer: Maximum iterations (200) reached and the optimization hasn't converged yet.\n",
      "  % self.max_iter, ConvergenceWarning)\n"
     ]
    },
    {
     "name": "stdout",
     "output_type": "stream",
     "text": [
      "[CV]  mlp__activation=tanh, mlp__alpha=0.010000000000000002, mlp__learning_rate=constant, mlp__solver=sgd, mlp__validation_fraction=0.2, selectkbest__k=290, total=  25.4s\n",
      "[CV] mlp__activation=tanh, mlp__alpha=0.010000000000000002, mlp__learning_rate=adaptive, mlp__solver=sgd, mlp__validation_fraction=0.1, selectkbest__k=250 \n"
     ]
    },
    {
     "name": "stderr",
     "output_type": "stream",
     "text": [
      "D:\\Anaconda3\\lib\\site-packages\\sklearn\\neural_network\\multilayer_perceptron.py:562: ConvergenceWarning: Stochastic Optimizer: Maximum iterations (200) reached and the optimization hasn't converged yet.\n",
      "  % self.max_iter, ConvergenceWarning)\n"
     ]
    },
    {
     "name": "stdout",
     "output_type": "stream",
     "text": [
      "[CV]  mlp__activation=tanh, mlp__alpha=0.010000000000000002, mlp__learning_rate=constant, mlp__solver=sgd, mlp__validation_fraction=0.2, selectkbest__k=310, total=  26.5s\n",
      "[CV] mlp__activation=tanh, mlp__alpha=0.010000000000000002, mlp__learning_rate=adaptive, mlp__solver=sgd, mlp__validation_fraction=0.1, selectkbest__k=250 \n"
     ]
    },
    {
     "name": "stderr",
     "output_type": "stream",
     "text": [
      "D:\\Anaconda3\\lib\\site-packages\\sklearn\\neural_network\\multilayer_perceptron.py:562: ConvergenceWarning: Stochastic Optimizer: Maximum iterations (200) reached and the optimization hasn't converged yet.\n",
      "  % self.max_iter, ConvergenceWarning)\n"
     ]
    },
    {
     "name": "stdout",
     "output_type": "stream",
     "text": [
      "[CV]  mlp__activation=tanh, mlp__alpha=0.010000000000000002, mlp__learning_rate=constant, mlp__solver=sgd, mlp__validation_fraction=0.2, selectkbest__k=310, total=  26.7s\n",
      "[CV] mlp__activation=tanh, mlp__alpha=0.010000000000000002, mlp__learning_rate=adaptive, mlp__solver=sgd, mlp__validation_fraction=0.1, selectkbest__k=250 \n"
     ]
    },
    {
     "name": "stderr",
     "output_type": "stream",
     "text": [
      "D:\\Anaconda3\\lib\\site-packages\\sklearn\\neural_network\\multilayer_perceptron.py:562: ConvergenceWarning: Stochastic Optimizer: Maximum iterations (200) reached and the optimization hasn't converged yet.\n",
      "  % self.max_iter, ConvergenceWarning)\n"
     ]
    },
    {
     "name": "stdout",
     "output_type": "stream",
     "text": [
      "[CV]  mlp__activation=tanh, mlp__alpha=0.010000000000000002, mlp__learning_rate=constant, mlp__solver=sgd, mlp__validation_fraction=0.2, selectkbest__k=310, total=  27.2s\n",
      "[CV] mlp__activation=tanh, mlp__alpha=0.010000000000000002, mlp__learning_rate=adaptive, mlp__solver=sgd, mlp__validation_fraction=0.1, selectkbest__k=270 \n"
     ]
    },
    {
     "name": "stderr",
     "output_type": "stream",
     "text": [
      "D:\\Anaconda3\\lib\\site-packages\\sklearn\\neural_network\\multilayer_perceptron.py:562: ConvergenceWarning: Stochastic Optimizer: Maximum iterations (200) reached and the optimization hasn't converged yet.\n",
      "  % self.max_iter, ConvergenceWarning)\n"
     ]
    },
    {
     "name": "stdout",
     "output_type": "stream",
     "text": [
      "[CV]  mlp__activation=tanh, mlp__alpha=0.010000000000000002, mlp__learning_rate=constant, mlp__solver=sgd, mlp__validation_fraction=0.2, selectkbest__k=310, total=  26.8s\n",
      "[CV] mlp__activation=tanh, mlp__alpha=0.010000000000000002, mlp__learning_rate=adaptive, mlp__solver=sgd, mlp__validation_fraction=0.1, selectkbest__k=270 \n"
     ]
    },
    {
     "name": "stderr",
     "output_type": "stream",
     "text": [
      "D:\\Anaconda3\\lib\\site-packages\\sklearn\\neural_network\\multilayer_perceptron.py:562: ConvergenceWarning: Stochastic Optimizer: Maximum iterations (200) reached and the optimization hasn't converged yet.\n",
      "  % self.max_iter, ConvergenceWarning)\n"
     ]
    },
    {
     "name": "stdout",
     "output_type": "stream",
     "text": [
      "[CV]  mlp__activation=tanh, mlp__alpha=0.010000000000000002, mlp__learning_rate=constant, mlp__solver=sgd, mlp__validation_fraction=0.2, selectkbest__k=310, total=  27.1s\n",
      "[CV] mlp__activation=tanh, mlp__alpha=0.010000000000000002, mlp__learning_rate=adaptive, mlp__solver=sgd, mlp__validation_fraction=0.1, selectkbest__k=270 \n"
     ]
    },
    {
     "name": "stderr",
     "output_type": "stream",
     "text": [
      "D:\\Anaconda3\\lib\\site-packages\\sklearn\\neural_network\\multilayer_perceptron.py:562: ConvergenceWarning: Stochastic Optimizer: Maximum iterations (200) reached and the optimization hasn't converged yet.\n",
      "  % self.max_iter, ConvergenceWarning)\n"
     ]
    },
    {
     "name": "stdout",
     "output_type": "stream",
     "text": [
      "[CV]  mlp__activation=tanh, mlp__alpha=0.010000000000000002, mlp__learning_rate=adaptive, mlp__solver=sgd, mlp__validation_fraction=0.1, selectkbest__k=250, total=  26.2s\n",
      "[CV] mlp__activation=tanh, mlp__alpha=0.010000000000000002, mlp__learning_rate=adaptive, mlp__solver=sgd, mlp__validation_fraction=0.1, selectkbest__k=270 \n"
     ]
    },
    {
     "name": "stderr",
     "output_type": "stream",
     "text": [
      "D:\\Anaconda3\\lib\\site-packages\\sklearn\\neural_network\\multilayer_perceptron.py:562: ConvergenceWarning: Stochastic Optimizer: Maximum iterations (200) reached and the optimization hasn't converged yet.\n",
      "  % self.max_iter, ConvergenceWarning)\n"
     ]
    },
    {
     "name": "stdout",
     "output_type": "stream",
     "text": [
      "[CV]  mlp__activation=tanh, mlp__alpha=0.010000000000000002, mlp__learning_rate=adaptive, mlp__solver=sgd, mlp__validation_fraction=0.1, selectkbest__k=250, total=  24.8s\n",
      "[CV] mlp__activation=tanh, mlp__alpha=0.010000000000000002, mlp__learning_rate=adaptive, mlp__solver=sgd, mlp__validation_fraction=0.1, selectkbest__k=270 \n"
     ]
    },
    {
     "name": "stderr",
     "output_type": "stream",
     "text": [
      "D:\\Anaconda3\\lib\\site-packages\\sklearn\\neural_network\\multilayer_perceptron.py:562: ConvergenceWarning: Stochastic Optimizer: Maximum iterations (200) reached and the optimization hasn't converged yet.\n",
      "  % self.max_iter, ConvergenceWarning)\n"
     ]
    },
    {
     "name": "stdout",
     "output_type": "stream",
     "text": [
      "[CV]  mlp__activation=tanh, mlp__alpha=0.010000000000000002, mlp__learning_rate=adaptive, mlp__solver=sgd, mlp__validation_fraction=0.1, selectkbest__k=250, total=  25.1s\n",
      "[CV] mlp__activation=tanh, mlp__alpha=0.010000000000000002, mlp__learning_rate=adaptive, mlp__solver=sgd, mlp__validation_fraction=0.1, selectkbest__k=290 \n"
     ]
    },
    {
     "name": "stderr",
     "output_type": "stream",
     "text": [
      "D:\\Anaconda3\\lib\\site-packages\\sklearn\\neural_network\\multilayer_perceptron.py:562: ConvergenceWarning: Stochastic Optimizer: Maximum iterations (200) reached and the optimization hasn't converged yet.\n",
      "  % self.max_iter, ConvergenceWarning)\n"
     ]
    },
    {
     "name": "stdout",
     "output_type": "stream",
     "text": [
      "[CV]  mlp__activation=tanh, mlp__alpha=0.010000000000000002, mlp__learning_rate=adaptive, mlp__solver=sgd, mlp__validation_fraction=0.1, selectkbest__k=250, total=  24.7s\n",
      "[CV] mlp__activation=tanh, mlp__alpha=0.010000000000000002, mlp__learning_rate=adaptive, mlp__solver=sgd, mlp__validation_fraction=0.1, selectkbest__k=290 \n"
     ]
    },
    {
     "name": "stderr",
     "output_type": "stream",
     "text": [
      "D:\\Anaconda3\\lib\\site-packages\\sklearn\\neural_network\\multilayer_perceptron.py:562: ConvergenceWarning: Stochastic Optimizer: Maximum iterations (200) reached and the optimization hasn't converged yet.\n",
      "  % self.max_iter, ConvergenceWarning)\n"
     ]
    },
    {
     "name": "stdout",
     "output_type": "stream",
     "text": [
      "[CV]  mlp__activation=tanh, mlp__alpha=0.010000000000000002, mlp__learning_rate=adaptive, mlp__solver=sgd, mlp__validation_fraction=0.1, selectkbest__k=250, total=  25.2s\n",
      "[CV] mlp__activation=tanh, mlp__alpha=0.010000000000000002, mlp__learning_rate=adaptive, mlp__solver=sgd, mlp__validation_fraction=0.1, selectkbest__k=290 \n"
     ]
    },
    {
     "name": "stderr",
     "output_type": "stream",
     "text": [
      "D:\\Anaconda3\\lib\\site-packages\\sklearn\\neural_network\\multilayer_perceptron.py:562: ConvergenceWarning: Stochastic Optimizer: Maximum iterations (200) reached and the optimization hasn't converged yet.\n",
      "  % self.max_iter, ConvergenceWarning)\n"
     ]
    },
    {
     "name": "stdout",
     "output_type": "stream",
     "text": [
      "[CV]  mlp__activation=tanh, mlp__alpha=0.010000000000000002, mlp__learning_rate=adaptive, mlp__solver=sgd, mlp__validation_fraction=0.1, selectkbest__k=270, total=  25.6s\n",
      "[CV] mlp__activation=tanh, mlp__alpha=0.010000000000000002, mlp__learning_rate=adaptive, mlp__solver=sgd, mlp__validation_fraction=0.1, selectkbest__k=290 \n"
     ]
    },
    {
     "name": "stderr",
     "output_type": "stream",
     "text": [
      "D:\\Anaconda3\\lib\\site-packages\\sklearn\\neural_network\\multilayer_perceptron.py:562: ConvergenceWarning: Stochastic Optimizer: Maximum iterations (200) reached and the optimization hasn't converged yet.\n",
      "  % self.max_iter, ConvergenceWarning)\n"
     ]
    },
    {
     "name": "stdout",
     "output_type": "stream",
     "text": [
      "[CV]  mlp__activation=tanh, mlp__alpha=0.010000000000000002, mlp__learning_rate=adaptive, mlp__solver=sgd, mlp__validation_fraction=0.1, selectkbest__k=270, total=  25.6s\n",
      "[CV] mlp__activation=tanh, mlp__alpha=0.010000000000000002, mlp__learning_rate=adaptive, mlp__solver=sgd, mlp__validation_fraction=0.1, selectkbest__k=290 \n"
     ]
    },
    {
     "name": "stderr",
     "output_type": "stream",
     "text": [
      "D:\\Anaconda3\\lib\\site-packages\\sklearn\\neural_network\\multilayer_perceptron.py:562: ConvergenceWarning: Stochastic Optimizer: Maximum iterations (200) reached and the optimization hasn't converged yet.\n",
      "  % self.max_iter, ConvergenceWarning)\n"
     ]
    },
    {
     "name": "stdout",
     "output_type": "stream",
     "text": [
      "[CV]  mlp__activation=tanh, mlp__alpha=0.010000000000000002, mlp__learning_rate=adaptive, mlp__solver=sgd, mlp__validation_fraction=0.1, selectkbest__k=270, total=  25.3s\n",
      "[CV] mlp__activation=tanh, mlp__alpha=0.010000000000000002, mlp__learning_rate=adaptive, mlp__solver=sgd, mlp__validation_fraction=0.1, selectkbest__k=310 \n"
     ]
    },
    {
     "name": "stderr",
     "output_type": "stream",
     "text": [
      "D:\\Anaconda3\\lib\\site-packages\\sklearn\\neural_network\\multilayer_perceptron.py:562: ConvergenceWarning: Stochastic Optimizer: Maximum iterations (200) reached and the optimization hasn't converged yet.\n",
      "  % self.max_iter, ConvergenceWarning)\n"
     ]
    },
    {
     "name": "stdout",
     "output_type": "stream",
     "text": [
      "[CV]  mlp__activation=tanh, mlp__alpha=0.010000000000000002, mlp__learning_rate=adaptive, mlp__solver=sgd, mlp__validation_fraction=0.1, selectkbest__k=270, total=  25.2s\n",
      "[CV] mlp__activation=tanh, mlp__alpha=0.010000000000000002, mlp__learning_rate=adaptive, mlp__solver=sgd, mlp__validation_fraction=0.1, selectkbest__k=310 \n"
     ]
    },
    {
     "name": "stderr",
     "output_type": "stream",
     "text": [
      "D:\\Anaconda3\\lib\\site-packages\\sklearn\\neural_network\\multilayer_perceptron.py:562: ConvergenceWarning: Stochastic Optimizer: Maximum iterations (200) reached and the optimization hasn't converged yet.\n",
      "  % self.max_iter, ConvergenceWarning)\n"
     ]
    },
    {
     "name": "stdout",
     "output_type": "stream",
     "text": [
      "[CV]  mlp__activation=tanh, mlp__alpha=0.010000000000000002, mlp__learning_rate=adaptive, mlp__solver=sgd, mlp__validation_fraction=0.1, selectkbest__k=270, total=  24.6s\n",
      "[CV] mlp__activation=tanh, mlp__alpha=0.010000000000000002, mlp__learning_rate=adaptive, mlp__solver=sgd, mlp__validation_fraction=0.1, selectkbest__k=310 \n"
     ]
    },
    {
     "name": "stderr",
     "output_type": "stream",
     "text": [
      "D:\\Anaconda3\\lib\\site-packages\\sklearn\\neural_network\\multilayer_perceptron.py:562: ConvergenceWarning: Stochastic Optimizer: Maximum iterations (200) reached and the optimization hasn't converged yet.\n",
      "  % self.max_iter, ConvergenceWarning)\n"
     ]
    },
    {
     "name": "stdout",
     "output_type": "stream",
     "text": [
      "[CV]  mlp__activation=tanh, mlp__alpha=0.010000000000000002, mlp__learning_rate=adaptive, mlp__solver=sgd, mlp__validation_fraction=0.1, selectkbest__k=290, total=  25.5s\n",
      "[CV] mlp__activation=tanh, mlp__alpha=0.010000000000000002, mlp__learning_rate=adaptive, mlp__solver=sgd, mlp__validation_fraction=0.1, selectkbest__k=310 \n"
     ]
    },
    {
     "name": "stderr",
     "output_type": "stream",
     "text": [
      "D:\\Anaconda3\\lib\\site-packages\\sklearn\\neural_network\\multilayer_perceptron.py:562: ConvergenceWarning: Stochastic Optimizer: Maximum iterations (200) reached and the optimization hasn't converged yet.\n",
      "  % self.max_iter, ConvergenceWarning)\n"
     ]
    },
    {
     "name": "stdout",
     "output_type": "stream",
     "text": [
      "[CV]  mlp__activation=tanh, mlp__alpha=0.010000000000000002, mlp__learning_rate=adaptive, mlp__solver=sgd, mlp__validation_fraction=0.1, selectkbest__k=290, total=  26.6s\n",
      "[CV] mlp__activation=tanh, mlp__alpha=0.010000000000000002, mlp__learning_rate=adaptive, mlp__solver=sgd, mlp__validation_fraction=0.1, selectkbest__k=310 \n"
     ]
    },
    {
     "name": "stderr",
     "output_type": "stream",
     "text": [
      "D:\\Anaconda3\\lib\\site-packages\\sklearn\\neural_network\\multilayer_perceptron.py:562: ConvergenceWarning: Stochastic Optimizer: Maximum iterations (200) reached and the optimization hasn't converged yet.\n",
      "  % self.max_iter, ConvergenceWarning)\n"
     ]
    },
    {
     "name": "stdout",
     "output_type": "stream",
     "text": [
      "[CV]  mlp__activation=tanh, mlp__alpha=0.010000000000000002, mlp__learning_rate=adaptive, mlp__solver=sgd, mlp__validation_fraction=0.1, selectkbest__k=290, total=  26.5s\n",
      "[CV] mlp__activation=tanh, mlp__alpha=0.010000000000000002, mlp__learning_rate=adaptive, mlp__solver=sgd, mlp__validation_fraction=0.2, selectkbest__k=250 \n"
     ]
    },
    {
     "name": "stderr",
     "output_type": "stream",
     "text": [
      "D:\\Anaconda3\\lib\\site-packages\\sklearn\\neural_network\\multilayer_perceptron.py:562: ConvergenceWarning: Stochastic Optimizer: Maximum iterations (200) reached and the optimization hasn't converged yet.\n",
      "  % self.max_iter, ConvergenceWarning)\n"
     ]
    },
    {
     "name": "stdout",
     "output_type": "stream",
     "text": [
      "[CV]  mlp__activation=tanh, mlp__alpha=0.010000000000000002, mlp__learning_rate=adaptive, mlp__solver=sgd, mlp__validation_fraction=0.1, selectkbest__k=290, total=  26.3s\n",
      "[CV] mlp__activation=tanh, mlp__alpha=0.010000000000000002, mlp__learning_rate=adaptive, mlp__solver=sgd, mlp__validation_fraction=0.2, selectkbest__k=250 \n"
     ]
    },
    {
     "name": "stderr",
     "output_type": "stream",
     "text": [
      "D:\\Anaconda3\\lib\\site-packages\\sklearn\\neural_network\\multilayer_perceptron.py:562: ConvergenceWarning: Stochastic Optimizer: Maximum iterations (200) reached and the optimization hasn't converged yet.\n",
      "  % self.max_iter, ConvergenceWarning)\n"
     ]
    },
    {
     "name": "stdout",
     "output_type": "stream",
     "text": [
      "[CV]  mlp__activation=tanh, mlp__alpha=0.010000000000000002, mlp__learning_rate=adaptive, mlp__solver=sgd, mlp__validation_fraction=0.1, selectkbest__k=290, total=  27.3s\n",
      "[CV] mlp__activation=tanh, mlp__alpha=0.010000000000000002, mlp__learning_rate=adaptive, mlp__solver=sgd, mlp__validation_fraction=0.2, selectkbest__k=250 \n"
     ]
    },
    {
     "name": "stderr",
     "output_type": "stream",
     "text": [
      "D:\\Anaconda3\\lib\\site-packages\\sklearn\\neural_network\\multilayer_perceptron.py:562: ConvergenceWarning: Stochastic Optimizer: Maximum iterations (200) reached and the optimization hasn't converged yet.\n",
      "  % self.max_iter, ConvergenceWarning)\n"
     ]
    },
    {
     "name": "stdout",
     "output_type": "stream",
     "text": [
      "[CV]  mlp__activation=tanh, mlp__alpha=0.010000000000000002, mlp__learning_rate=adaptive, mlp__solver=sgd, mlp__validation_fraction=0.1, selectkbest__k=310, total=  27.6s\n",
      "[CV] mlp__activation=tanh, mlp__alpha=0.010000000000000002, mlp__learning_rate=adaptive, mlp__solver=sgd, mlp__validation_fraction=0.2, selectkbest__k=250 \n"
     ]
    },
    {
     "name": "stderr",
     "output_type": "stream",
     "text": [
      "D:\\Anaconda3\\lib\\site-packages\\sklearn\\neural_network\\multilayer_perceptron.py:562: ConvergenceWarning: Stochastic Optimizer: Maximum iterations (200) reached and the optimization hasn't converged yet.\n",
      "  % self.max_iter, ConvergenceWarning)\n"
     ]
    },
    {
     "name": "stdout",
     "output_type": "stream",
     "text": [
      "[CV]  mlp__activation=tanh, mlp__alpha=0.010000000000000002, mlp__learning_rate=adaptive, mlp__solver=sgd, mlp__validation_fraction=0.1, selectkbest__k=310, total=  27.8s\n",
      "[CV] mlp__activation=tanh, mlp__alpha=0.010000000000000002, mlp__learning_rate=adaptive, mlp__solver=sgd, mlp__validation_fraction=0.2, selectkbest__k=250 \n"
     ]
    },
    {
     "name": "stderr",
     "output_type": "stream",
     "text": [
      "D:\\Anaconda3\\lib\\site-packages\\sklearn\\neural_network\\multilayer_perceptron.py:562: ConvergenceWarning: Stochastic Optimizer: Maximum iterations (200) reached and the optimization hasn't converged yet.\n",
      "  % self.max_iter, ConvergenceWarning)\n"
     ]
    },
    {
     "name": "stdout",
     "output_type": "stream",
     "text": [
      "[CV]  mlp__activation=tanh, mlp__alpha=0.010000000000000002, mlp__learning_rate=adaptive, mlp__solver=sgd, mlp__validation_fraction=0.1, selectkbest__k=310, total=  26.4s\n",
      "[CV] mlp__activation=tanh, mlp__alpha=0.010000000000000002, mlp__learning_rate=adaptive, mlp__solver=sgd, mlp__validation_fraction=0.2, selectkbest__k=270 \n"
     ]
    },
    {
     "name": "stderr",
     "output_type": "stream",
     "text": [
      "D:\\Anaconda3\\lib\\site-packages\\sklearn\\neural_network\\multilayer_perceptron.py:562: ConvergenceWarning: Stochastic Optimizer: Maximum iterations (200) reached and the optimization hasn't converged yet.\n",
      "  % self.max_iter, ConvergenceWarning)\n"
     ]
    },
    {
     "name": "stdout",
     "output_type": "stream",
     "text": [
      "[CV]  mlp__activation=tanh, mlp__alpha=0.010000000000000002, mlp__learning_rate=adaptive, mlp__solver=sgd, mlp__validation_fraction=0.1, selectkbest__k=310, total=  26.2s\n",
      "[CV] mlp__activation=tanh, mlp__alpha=0.010000000000000002, mlp__learning_rate=adaptive, mlp__solver=sgd, mlp__validation_fraction=0.2, selectkbest__k=270 \n"
     ]
    },
    {
     "name": "stderr",
     "output_type": "stream",
     "text": [
      "D:\\Anaconda3\\lib\\site-packages\\sklearn\\neural_network\\multilayer_perceptron.py:562: ConvergenceWarning: Stochastic Optimizer: Maximum iterations (200) reached and the optimization hasn't converged yet.\n",
      "  % self.max_iter, ConvergenceWarning)\n"
     ]
    },
    {
     "name": "stdout",
     "output_type": "stream",
     "text": [
      "[CV]  mlp__activation=tanh, mlp__alpha=0.010000000000000002, mlp__learning_rate=adaptive, mlp__solver=sgd, mlp__validation_fraction=0.2, selectkbest__k=250, total=  25.3s\n",
      "[CV] mlp__activation=tanh, mlp__alpha=0.010000000000000002, mlp__learning_rate=adaptive, mlp__solver=sgd, mlp__validation_fraction=0.2, selectkbest__k=270 \n"
     ]
    },
    {
     "name": "stderr",
     "output_type": "stream",
     "text": [
      "D:\\Anaconda3\\lib\\site-packages\\sklearn\\neural_network\\multilayer_perceptron.py:562: ConvergenceWarning: Stochastic Optimizer: Maximum iterations (200) reached and the optimization hasn't converged yet.\n",
      "  % self.max_iter, ConvergenceWarning)\n"
     ]
    },
    {
     "name": "stdout",
     "output_type": "stream",
     "text": [
      "[CV]  mlp__activation=tanh, mlp__alpha=0.010000000000000002, mlp__learning_rate=adaptive, mlp__solver=sgd, mlp__validation_fraction=0.1, selectkbest__k=310, total=  26.7s\n",
      "[CV] mlp__activation=tanh, mlp__alpha=0.010000000000000002, mlp__learning_rate=adaptive, mlp__solver=sgd, mlp__validation_fraction=0.2, selectkbest__k=270 \n"
     ]
    },
    {
     "name": "stderr",
     "output_type": "stream",
     "text": [
      "D:\\Anaconda3\\lib\\site-packages\\sklearn\\neural_network\\multilayer_perceptron.py:562: ConvergenceWarning: Stochastic Optimizer: Maximum iterations (200) reached and the optimization hasn't converged yet.\n",
      "  % self.max_iter, ConvergenceWarning)\n"
     ]
    },
    {
     "name": "stdout",
     "output_type": "stream",
     "text": [
      "[CV]  mlp__activation=tanh, mlp__alpha=0.010000000000000002, mlp__learning_rate=adaptive, mlp__solver=sgd, mlp__validation_fraction=0.2, selectkbest__k=250, total=  25.2s\n",
      "[CV] mlp__activation=tanh, mlp__alpha=0.010000000000000002, mlp__learning_rate=adaptive, mlp__solver=sgd, mlp__validation_fraction=0.2, selectkbest__k=270 \n"
     ]
    },
    {
     "name": "stderr",
     "output_type": "stream",
     "text": [
      "D:\\Anaconda3\\lib\\site-packages\\sklearn\\neural_network\\multilayer_perceptron.py:562: ConvergenceWarning: Stochastic Optimizer: Maximum iterations (200) reached and the optimization hasn't converged yet.\n",
      "  % self.max_iter, ConvergenceWarning)\n"
     ]
    },
    {
     "name": "stdout",
     "output_type": "stream",
     "text": [
      "[CV]  mlp__activation=tanh, mlp__alpha=0.010000000000000002, mlp__learning_rate=adaptive, mlp__solver=sgd, mlp__validation_fraction=0.2, selectkbest__k=250, total=  24.8s\n",
      "[CV] mlp__activation=tanh, mlp__alpha=0.010000000000000002, mlp__learning_rate=adaptive, mlp__solver=sgd, mlp__validation_fraction=0.2, selectkbest__k=290 \n"
     ]
    },
    {
     "name": "stderr",
     "output_type": "stream",
     "text": [
      "D:\\Anaconda3\\lib\\site-packages\\sklearn\\neural_network\\multilayer_perceptron.py:562: ConvergenceWarning: Stochastic Optimizer: Maximum iterations (200) reached and the optimization hasn't converged yet.\n",
      "  % self.max_iter, ConvergenceWarning)\n"
     ]
    },
    {
     "name": "stdout",
     "output_type": "stream",
     "text": [
      "[CV]  mlp__activation=tanh, mlp__alpha=0.010000000000000002, mlp__learning_rate=adaptive, mlp__solver=sgd, mlp__validation_fraction=0.2, selectkbest__k=250, total=  24.4s\n",
      "[CV] mlp__activation=tanh, mlp__alpha=0.010000000000000002, mlp__learning_rate=adaptive, mlp__solver=sgd, mlp__validation_fraction=0.2, selectkbest__k=290 \n"
     ]
    },
    {
     "name": "stderr",
     "output_type": "stream",
     "text": [
      "D:\\Anaconda3\\lib\\site-packages\\sklearn\\neural_network\\multilayer_perceptron.py:562: ConvergenceWarning: Stochastic Optimizer: Maximum iterations (200) reached and the optimization hasn't converged yet.\n",
      "  % self.max_iter, ConvergenceWarning)\n"
     ]
    },
    {
     "name": "stdout",
     "output_type": "stream",
     "text": [
      "[CV]  mlp__activation=tanh, mlp__alpha=0.010000000000000002, mlp__learning_rate=adaptive, mlp__solver=sgd, mlp__validation_fraction=0.2, selectkbest__k=250, total=  24.9s\n",
      "[CV] mlp__activation=tanh, mlp__alpha=0.010000000000000002, mlp__learning_rate=adaptive, mlp__solver=sgd, mlp__validation_fraction=0.2, selectkbest__k=290 \n"
     ]
    },
    {
     "name": "stderr",
     "output_type": "stream",
     "text": [
      "D:\\Anaconda3\\lib\\site-packages\\sklearn\\neural_network\\multilayer_perceptron.py:562: ConvergenceWarning: Stochastic Optimizer: Maximum iterations (200) reached and the optimization hasn't converged yet.\n",
      "  % self.max_iter, ConvergenceWarning)\n"
     ]
    },
    {
     "name": "stdout",
     "output_type": "stream",
     "text": [
      "[CV]  mlp__activation=tanh, mlp__alpha=0.010000000000000002, mlp__learning_rate=adaptive, mlp__solver=sgd, mlp__validation_fraction=0.2, selectkbest__k=270, total=  24.4s\n",
      "[CV] mlp__activation=tanh, mlp__alpha=0.010000000000000002, mlp__learning_rate=adaptive, mlp__solver=sgd, mlp__validation_fraction=0.2, selectkbest__k=290 \n"
     ]
    },
    {
     "name": "stderr",
     "output_type": "stream",
     "text": [
      "D:\\Anaconda3\\lib\\site-packages\\sklearn\\neural_network\\multilayer_perceptron.py:562: ConvergenceWarning: Stochastic Optimizer: Maximum iterations (200) reached and the optimization hasn't converged yet.\n",
      "  % self.max_iter, ConvergenceWarning)\n"
     ]
    },
    {
     "name": "stdout",
     "output_type": "stream",
     "text": [
      "[CV]  mlp__activation=tanh, mlp__alpha=0.010000000000000002, mlp__learning_rate=adaptive, mlp__solver=sgd, mlp__validation_fraction=0.2, selectkbest__k=270, total=  24.5s\n",
      "[CV] mlp__activation=tanh, mlp__alpha=0.010000000000000002, mlp__learning_rate=adaptive, mlp__solver=sgd, mlp__validation_fraction=0.2, selectkbest__k=290 \n"
     ]
    },
    {
     "name": "stderr",
     "output_type": "stream",
     "text": [
      "D:\\Anaconda3\\lib\\site-packages\\sklearn\\neural_network\\multilayer_perceptron.py:562: ConvergenceWarning: Stochastic Optimizer: Maximum iterations (200) reached and the optimization hasn't converged yet.\n",
      "  % self.max_iter, ConvergenceWarning)\n"
     ]
    },
    {
     "name": "stdout",
     "output_type": "stream",
     "text": [
      "[CV]  mlp__activation=tanh, mlp__alpha=0.010000000000000002, mlp__learning_rate=adaptive, mlp__solver=sgd, mlp__validation_fraction=0.2, selectkbest__k=270, total=  25.0s\n",
      "[CV] mlp__activation=tanh, mlp__alpha=0.010000000000000002, mlp__learning_rate=adaptive, mlp__solver=sgd, mlp__validation_fraction=0.2, selectkbest__k=310 \n"
     ]
    },
    {
     "name": "stderr",
     "output_type": "stream",
     "text": [
      "D:\\Anaconda3\\lib\\site-packages\\sklearn\\neural_network\\multilayer_perceptron.py:562: ConvergenceWarning: Stochastic Optimizer: Maximum iterations (200) reached and the optimization hasn't converged yet.\n",
      "  % self.max_iter, ConvergenceWarning)\n"
     ]
    },
    {
     "name": "stdout",
     "output_type": "stream",
     "text": [
      "[CV]  mlp__activation=tanh, mlp__alpha=0.010000000000000002, mlp__learning_rate=adaptive, mlp__solver=sgd, mlp__validation_fraction=0.2, selectkbest__k=270, total=  24.8s\n",
      "[CV] mlp__activation=tanh, mlp__alpha=0.010000000000000002, mlp__learning_rate=adaptive, mlp__solver=sgd, mlp__validation_fraction=0.2, selectkbest__k=310 \n"
     ]
    },
    {
     "name": "stderr",
     "output_type": "stream",
     "text": [
      "D:\\Anaconda3\\lib\\site-packages\\sklearn\\neural_network\\multilayer_perceptron.py:562: ConvergenceWarning: Stochastic Optimizer: Maximum iterations (200) reached and the optimization hasn't converged yet.\n",
      "  % self.max_iter, ConvergenceWarning)\n"
     ]
    },
    {
     "name": "stdout",
     "output_type": "stream",
     "text": [
      "[CV]  mlp__activation=tanh, mlp__alpha=0.010000000000000002, mlp__learning_rate=adaptive, mlp__solver=sgd, mlp__validation_fraction=0.2, selectkbest__k=270, total=  25.6s\n",
      "[CV] mlp__activation=tanh, mlp__alpha=0.010000000000000002, mlp__learning_rate=adaptive, mlp__solver=sgd, mlp__validation_fraction=0.2, selectkbest__k=310 \n"
     ]
    },
    {
     "name": "stderr",
     "output_type": "stream",
     "text": [
      "D:\\Anaconda3\\lib\\site-packages\\sklearn\\neural_network\\multilayer_perceptron.py:562: ConvergenceWarning: Stochastic Optimizer: Maximum iterations (200) reached and the optimization hasn't converged yet.\n",
      "  % self.max_iter, ConvergenceWarning)\n"
     ]
    },
    {
     "name": "stdout",
     "output_type": "stream",
     "text": [
      "[CV]  mlp__activation=tanh, mlp__alpha=0.010000000000000002, mlp__learning_rate=adaptive, mlp__solver=sgd, mlp__validation_fraction=0.2, selectkbest__k=290, total=  26.3s\n",
      "[CV] mlp__activation=tanh, mlp__alpha=0.010000000000000002, mlp__learning_rate=adaptive, mlp__solver=sgd, mlp__validation_fraction=0.2, selectkbest__k=310 \n"
     ]
    },
    {
     "name": "stderr",
     "output_type": "stream",
     "text": [
      "D:\\Anaconda3\\lib\\site-packages\\sklearn\\neural_network\\multilayer_perceptron.py:562: ConvergenceWarning: Stochastic Optimizer: Maximum iterations (200) reached and the optimization hasn't converged yet.\n",
      "  % self.max_iter, ConvergenceWarning)\n"
     ]
    },
    {
     "name": "stdout",
     "output_type": "stream",
     "text": [
      "[CV]  mlp__activation=tanh, mlp__alpha=0.010000000000000002, mlp__learning_rate=adaptive, mlp__solver=sgd, mlp__validation_fraction=0.2, selectkbest__k=290, total=  26.2s\n",
      "[CV] mlp__activation=tanh, mlp__alpha=0.010000000000000002, mlp__learning_rate=adaptive, mlp__solver=sgd, mlp__validation_fraction=0.2, selectkbest__k=310 \n"
     ]
    },
    {
     "name": "stderr",
     "output_type": "stream",
     "text": [
      "D:\\Anaconda3\\lib\\site-packages\\sklearn\\neural_network\\multilayer_perceptron.py:562: ConvergenceWarning: Stochastic Optimizer: Maximum iterations (200) reached and the optimization hasn't converged yet.\n",
      "  % self.max_iter, ConvergenceWarning)\n"
     ]
    },
    {
     "name": "stdout",
     "output_type": "stream",
     "text": [
      "[CV]  mlp__activation=tanh, mlp__alpha=0.010000000000000002, mlp__learning_rate=adaptive, mlp__solver=sgd, mlp__validation_fraction=0.2, selectkbest__k=290, total=  25.0s\n"
     ]
    },
    {
     "name": "stderr",
     "output_type": "stream",
     "text": [
      "D:\\Anaconda3\\lib\\site-packages\\sklearn\\neural_network\\multilayer_perceptron.py:562: ConvergenceWarning: Stochastic Optimizer: Maximum iterations (200) reached and the optimization hasn't converged yet.\n",
      "  % self.max_iter, ConvergenceWarning)\n"
     ]
    },
    {
     "name": "stdout",
     "output_type": "stream",
     "text": [
      "[CV]  mlp__activation=tanh, mlp__alpha=0.010000000000000002, mlp__learning_rate=adaptive, mlp__solver=sgd, mlp__validation_fraction=0.2, selectkbest__k=290, total=  26.4s\n"
     ]
    },
    {
     "name": "stderr",
     "output_type": "stream",
     "text": [
      "D:\\Anaconda3\\lib\\site-packages\\sklearn\\neural_network\\multilayer_perceptron.py:562: ConvergenceWarning: Stochastic Optimizer: Maximum iterations (200) reached and the optimization hasn't converged yet.\n",
      "  % self.max_iter, ConvergenceWarning)\n"
     ]
    },
    {
     "name": "stdout",
     "output_type": "stream",
     "text": [
      "[CV]  mlp__activation=tanh, mlp__alpha=0.010000000000000002, mlp__learning_rate=adaptive, mlp__solver=sgd, mlp__validation_fraction=0.2, selectkbest__k=290, total=  25.0s\n"
     ]
    },
    {
     "name": "stderr",
     "output_type": "stream",
     "text": [
      "D:\\Anaconda3\\lib\\site-packages\\sklearn\\neural_network\\multilayer_perceptron.py:562: ConvergenceWarning: Stochastic Optimizer: Maximum iterations (200) reached and the optimization hasn't converged yet.\n",
      "  % self.max_iter, ConvergenceWarning)\n",
      "D:\\Anaconda3\\lib\\site-packages\\sklearn\\neural_network\\multilayer_perceptron.py:562: ConvergenceWarning: Stochastic Optimizer: Maximum iterations (200) reached and the optimization hasn't converged yet.\n",
      "  % self.max_iter, ConvergenceWarning)\n"
     ]
    },
    {
     "name": "stdout",
     "output_type": "stream",
     "text": [
      "[CV]  mlp__activation=tanh, mlp__alpha=0.010000000000000002, mlp__learning_rate=adaptive, mlp__solver=sgd, mlp__validation_fraction=0.2, selectkbest__k=310, total=  22.5s\n",
      "[CV]  mlp__activation=tanh, mlp__alpha=0.010000000000000002, mlp__learning_rate=adaptive, mlp__solver=sgd, mlp__validation_fraction=0.2, selectkbest__k=310, total=  22.3s\n"
     ]
    },
    {
     "name": "stderr",
     "output_type": "stream",
     "text": [
      "D:\\Anaconda3\\lib\\site-packages\\sklearn\\neural_network\\multilayer_perceptron.py:562: ConvergenceWarning: Stochastic Optimizer: Maximum iterations (200) reached and the optimization hasn't converged yet.\n",
      "  % self.max_iter, ConvergenceWarning)\n"
     ]
    },
    {
     "name": "stdout",
     "output_type": "stream",
     "text": [
      "[CV]  mlp__activation=tanh, mlp__alpha=0.010000000000000002, mlp__learning_rate=adaptive, mlp__solver=sgd, mlp__validation_fraction=0.2, selectkbest__k=310, total=  19.6s\n"
     ]
    },
    {
     "name": "stderr",
     "output_type": "stream",
     "text": [
      "D:\\Anaconda3\\lib\\site-packages\\sklearn\\neural_network\\multilayer_perceptron.py:562: ConvergenceWarning: Stochastic Optimizer: Maximum iterations (200) reached and the optimization hasn't converged yet.\n",
      "  % self.max_iter, ConvergenceWarning)\n"
     ]
    },
    {
     "name": "stdout",
     "output_type": "stream",
     "text": [
      "[CV]  mlp__activation=tanh, mlp__alpha=0.010000000000000002, mlp__learning_rate=adaptive, mlp__solver=sgd, mlp__validation_fraction=0.2, selectkbest__k=310, total=  15.4s\n"
     ]
    },
    {
     "name": "stderr",
     "output_type": "stream",
     "text": [
      "D:\\Anaconda3\\lib\\site-packages\\sklearn\\neural_network\\multilayer_perceptron.py:562: ConvergenceWarning: Stochastic Optimizer: Maximum iterations (200) reached and the optimization hasn't converged yet.\n",
      "  % self.max_iter, ConvergenceWarning)\n",
      "[Parallel(n_jobs=-1)]: Done 320 out of 320 | elapsed: 17.5min finished\n",
      "D:\\Anaconda3\\lib\\site-packages\\sklearn\\model_selection\\_search.py:841: DeprecationWarning: The default of the `iid` parameter will change from True to False in version 0.22 and will be removed in 0.24. This will change numeric results when test-set sizes are unequal.\n",
      "  DeprecationWarning)\n"
     ]
    },
    {
     "name": "stdout",
     "output_type": "stream",
     "text": [
      "[CV]  mlp__activation=tanh, mlp__alpha=0.010000000000000002, mlp__learning_rate=adaptive, mlp__solver=sgd, mlp__validation_fraction=0.2, selectkbest__k=310, total=  14.3s\n"
     ]
    },
    {
     "name": "stderr",
     "output_type": "stream",
     "text": [
      "D:\\Anaconda3\\lib\\site-packages\\sklearn\\neural_network\\multilayer_perceptron.py:562: ConvergenceWarning: Stochastic Optimizer: Maximum iterations (200) reached and the optimization hasn't converged yet.\n",
      "  % self.max_iter, ConvergenceWarning)\n"
     ]
    },
    {
     "name": "stdout",
     "output_type": "stream",
     "text": [
      "------ Tuning hyperparameters finished ------\n",
      "Optimal activation:  tanh\n",
      "Optimal Solver:  sgd\n",
      "Optimal learning rate:  constant\n",
      "Optimal k:  290\n",
      "Optimal Alpha:  0.001\n",
      "Optimal Fraction:  0.1\n"
     ]
    },
    {
     "name": "stderr",
     "output_type": "stream",
     "text": [
      "D:\\Anaconda3\\lib\\site-packages\\sklearn\\neural_network\\multilayer_perceptron.py:562: ConvergenceWarning: Stochastic Optimizer: Maximum iterations (200) reached and the optimization hasn't converged yet.\n",
      "  % self.max_iter, ConvergenceWarning)\n"
     ]
    },
    {
     "name": "stdout",
     "output_type": "stream",
     "text": [
      "Grid scores on training data set:\n",
      "\n",
      "[0.79129213 0.79775281 0.81011236 0.80168539 0.8002809  0.80393258\n",
      " 0.80421348 0.80589888 0.79719101 0.79803371 0.8011236  0.8002809\n",
      " 0.79466292 0.80674157 0.80280899 0.8008427  0.79438202 0.80421348\n",
      " 0.8005618  0.79691011 0.79775281 0.7997191  0.8011236  0.79325843\n",
      " 0.7991573  0.80140449 0.80365169 0.7988764  0.79578652 0.80589888\n",
      " 0.80168539 0.79747191 0.79747191 0.80421348 0.80337079 0.8\n",
      " 0.79831461 0.80505618 0.79662921 0.79859551 0.79831461 0.8008427\n",
      " 0.79494382 0.7988764  0.80308989 0.79859551 0.8008427  0.79606742\n",
      " 0.80674157 0.80561798 0.8008427  0.80786517 0.7997191  0.80674157\n",
      " 0.80589888 0.80168539 0.80365169 0.7994382  0.7991573  0.80280899\n",
      " 0.80224719 0.79522472 0.80449438 0.80140449]\n",
      "0.791 (+/-0.037) for {'mlp__activation': 'tanh', 'mlp__alpha': 0.001, 'mlp__learning_rate': 'constant', 'mlp__solver': 'sgd', 'mlp__validation_fraction': 0.1, 'selectkbest__k': 250}\n",
      "0.798 (+/-0.042) for {'mlp__activation': 'tanh', 'mlp__alpha': 0.001, 'mlp__learning_rate': 'constant', 'mlp__solver': 'sgd', 'mlp__validation_fraction': 0.1, 'selectkbest__k': 270}\n",
      "0.810 (+/-0.038) for {'mlp__activation': 'tanh', 'mlp__alpha': 0.001, 'mlp__learning_rate': 'constant', 'mlp__solver': 'sgd', 'mlp__validation_fraction': 0.1, 'selectkbest__k': 290}\n",
      "0.802 (+/-0.038) for {'mlp__activation': 'tanh', 'mlp__alpha': 0.001, 'mlp__learning_rate': 'constant', 'mlp__solver': 'sgd', 'mlp__validation_fraction': 0.1, 'selectkbest__k': 310}\n",
      "0.800 (+/-0.047) for {'mlp__activation': 'tanh', 'mlp__alpha': 0.001, 'mlp__learning_rate': 'constant', 'mlp__solver': 'sgd', 'mlp__validation_fraction': 0.2, 'selectkbest__k': 250}\n",
      "0.804 (+/-0.027) for {'mlp__activation': 'tanh', 'mlp__alpha': 0.001, 'mlp__learning_rate': 'constant', 'mlp__solver': 'sgd', 'mlp__validation_fraction': 0.2, 'selectkbest__k': 270}\n",
      "0.804 (+/-0.046) for {'mlp__activation': 'tanh', 'mlp__alpha': 0.001, 'mlp__learning_rate': 'constant', 'mlp__solver': 'sgd', 'mlp__validation_fraction': 0.2, 'selectkbest__k': 290}\n",
      "0.806 (+/-0.038) for {'mlp__activation': 'tanh', 'mlp__alpha': 0.001, 'mlp__learning_rate': 'constant', 'mlp__solver': 'sgd', 'mlp__validation_fraction': 0.2, 'selectkbest__k': 310}\n",
      "0.797 (+/-0.041) for {'mlp__activation': 'tanh', 'mlp__alpha': 0.001, 'mlp__learning_rate': 'adaptive', 'mlp__solver': 'sgd', 'mlp__validation_fraction': 0.1, 'selectkbest__k': 250}\n",
      "0.798 (+/-0.029) for {'mlp__activation': 'tanh', 'mlp__alpha': 0.001, 'mlp__learning_rate': 'adaptive', 'mlp__solver': 'sgd', 'mlp__validation_fraction': 0.1, 'selectkbest__k': 270}\n",
      "0.801 (+/-0.046) for {'mlp__activation': 'tanh', 'mlp__alpha': 0.001, 'mlp__learning_rate': 'adaptive', 'mlp__solver': 'sgd', 'mlp__validation_fraction': 0.1, 'selectkbest__k': 290}\n",
      "0.800 (+/-0.038) for {'mlp__activation': 'tanh', 'mlp__alpha': 0.001, 'mlp__learning_rate': 'adaptive', 'mlp__solver': 'sgd', 'mlp__validation_fraction': 0.1, 'selectkbest__k': 310}\n",
      "0.795 (+/-0.044) for {'mlp__activation': 'tanh', 'mlp__alpha': 0.001, 'mlp__learning_rate': 'adaptive', 'mlp__solver': 'sgd', 'mlp__validation_fraction': 0.2, 'selectkbest__k': 250}\n",
      "0.807 (+/-0.033) for {'mlp__activation': 'tanh', 'mlp__alpha': 0.001, 'mlp__learning_rate': 'adaptive', 'mlp__solver': 'sgd', 'mlp__validation_fraction': 0.2, 'selectkbest__k': 270}\n",
      "0.803 (+/-0.035) for {'mlp__activation': 'tanh', 'mlp__alpha': 0.001, 'mlp__learning_rate': 'adaptive', 'mlp__solver': 'sgd', 'mlp__validation_fraction': 0.2, 'selectkbest__k': 290}\n",
      "0.801 (+/-0.046) for {'mlp__activation': 'tanh', 'mlp__alpha': 0.001, 'mlp__learning_rate': 'adaptive', 'mlp__solver': 'sgd', 'mlp__validation_fraction': 0.2, 'selectkbest__k': 310}\n",
      "0.794 (+/-0.046) for {'mlp__activation': 'tanh', 'mlp__alpha': 0.004, 'mlp__learning_rate': 'constant', 'mlp__solver': 'sgd', 'mlp__validation_fraction': 0.1, 'selectkbest__k': 250}\n",
      "0.804 (+/-0.038) for {'mlp__activation': 'tanh', 'mlp__alpha': 0.004, 'mlp__learning_rate': 'constant', 'mlp__solver': 'sgd', 'mlp__validation_fraction': 0.1, 'selectkbest__k': 270}\n",
      "0.801 (+/-0.034) for {'mlp__activation': 'tanh', 'mlp__alpha': 0.004, 'mlp__learning_rate': 'constant', 'mlp__solver': 'sgd', 'mlp__validation_fraction': 0.1, 'selectkbest__k': 290}\n",
      "0.797 (+/-0.040) for {'mlp__activation': 'tanh', 'mlp__alpha': 0.004, 'mlp__learning_rate': 'constant', 'mlp__solver': 'sgd', 'mlp__validation_fraction': 0.1, 'selectkbest__k': 310}\n",
      "0.798 (+/-0.036) for {'mlp__activation': 'tanh', 'mlp__alpha': 0.004, 'mlp__learning_rate': 'constant', 'mlp__solver': 'sgd', 'mlp__validation_fraction': 0.2, 'selectkbest__k': 250}\n",
      "0.800 (+/-0.040) for {'mlp__activation': 'tanh', 'mlp__alpha': 0.004, 'mlp__learning_rate': 'constant', 'mlp__solver': 'sgd', 'mlp__validation_fraction': 0.2, 'selectkbest__k': 270}\n",
      "0.801 (+/-0.030) for {'mlp__activation': 'tanh', 'mlp__alpha': 0.004, 'mlp__learning_rate': 'constant', 'mlp__solver': 'sgd', 'mlp__validation_fraction': 0.2, 'selectkbest__k': 290}\n",
      "0.793 (+/-0.049) for {'mlp__activation': 'tanh', 'mlp__alpha': 0.004, 'mlp__learning_rate': 'constant', 'mlp__solver': 'sgd', 'mlp__validation_fraction': 0.2, 'selectkbest__k': 310}\n",
      "0.799 (+/-0.037) for {'mlp__activation': 'tanh', 'mlp__alpha': 0.004, 'mlp__learning_rate': 'adaptive', 'mlp__solver': 'sgd', 'mlp__validation_fraction': 0.1, 'selectkbest__k': 250}\n",
      "0.801 (+/-0.024) for {'mlp__activation': 'tanh', 'mlp__alpha': 0.004, 'mlp__learning_rate': 'adaptive', 'mlp__solver': 'sgd', 'mlp__validation_fraction': 0.1, 'selectkbest__k': 270}\n",
      "0.804 (+/-0.036) for {'mlp__activation': 'tanh', 'mlp__alpha': 0.004, 'mlp__learning_rate': 'adaptive', 'mlp__solver': 'sgd', 'mlp__validation_fraction': 0.1, 'selectkbest__k': 290}\n",
      "0.799 (+/-0.048) for {'mlp__activation': 'tanh', 'mlp__alpha': 0.004, 'mlp__learning_rate': 'adaptive', 'mlp__solver': 'sgd', 'mlp__validation_fraction': 0.1, 'selectkbest__k': 310}\n",
      "0.796 (+/-0.056) for {'mlp__activation': 'tanh', 'mlp__alpha': 0.004, 'mlp__learning_rate': 'adaptive', 'mlp__solver': 'sgd', 'mlp__validation_fraction': 0.2, 'selectkbest__k': 250}\n",
      "0.806 (+/-0.029) for {'mlp__activation': 'tanh', 'mlp__alpha': 0.004, 'mlp__learning_rate': 'adaptive', 'mlp__solver': 'sgd', 'mlp__validation_fraction': 0.2, 'selectkbest__k': 270}\n",
      "0.802 (+/-0.038) for {'mlp__activation': 'tanh', 'mlp__alpha': 0.004, 'mlp__learning_rate': 'adaptive', 'mlp__solver': 'sgd', 'mlp__validation_fraction': 0.2, 'selectkbest__k': 290}\n",
      "0.797 (+/-0.052) for {'mlp__activation': 'tanh', 'mlp__alpha': 0.004, 'mlp__learning_rate': 'adaptive', 'mlp__solver': 'sgd', 'mlp__validation_fraction': 0.2, 'selectkbest__k': 310}\n",
      "0.797 (+/-0.041) for {'mlp__activation': 'tanh', 'mlp__alpha': 0.007, 'mlp__learning_rate': 'constant', 'mlp__solver': 'sgd', 'mlp__validation_fraction': 0.1, 'selectkbest__k': 250}\n",
      "0.804 (+/-0.037) for {'mlp__activation': 'tanh', 'mlp__alpha': 0.007, 'mlp__learning_rate': 'constant', 'mlp__solver': 'sgd', 'mlp__validation_fraction': 0.1, 'selectkbest__k': 270}\n",
      "0.803 (+/-0.041) for {'mlp__activation': 'tanh', 'mlp__alpha': 0.007, 'mlp__learning_rate': 'constant', 'mlp__solver': 'sgd', 'mlp__validation_fraction': 0.1, 'selectkbest__k': 290}\n",
      "0.800 (+/-0.040) for {'mlp__activation': 'tanh', 'mlp__alpha': 0.007, 'mlp__learning_rate': 'constant', 'mlp__solver': 'sgd', 'mlp__validation_fraction': 0.1, 'selectkbest__k': 310}\n",
      "0.798 (+/-0.043) for {'mlp__activation': 'tanh', 'mlp__alpha': 0.007, 'mlp__learning_rate': 'constant', 'mlp__solver': 'sgd', 'mlp__validation_fraction': 0.2, 'selectkbest__k': 250}\n",
      "0.805 (+/-0.049) for {'mlp__activation': 'tanh', 'mlp__alpha': 0.007, 'mlp__learning_rate': 'constant', 'mlp__solver': 'sgd', 'mlp__validation_fraction': 0.2, 'selectkbest__k': 270}\n",
      "0.797 (+/-0.042) for {'mlp__activation': 'tanh', 'mlp__alpha': 0.007, 'mlp__learning_rate': 'constant', 'mlp__solver': 'sgd', 'mlp__validation_fraction': 0.2, 'selectkbest__k': 290}\n",
      "0.799 (+/-0.038) for {'mlp__activation': 'tanh', 'mlp__alpha': 0.007, 'mlp__learning_rate': 'constant', 'mlp__solver': 'sgd', 'mlp__validation_fraction': 0.2, 'selectkbest__k': 310}\n",
      "0.798 (+/-0.031) for {'mlp__activation': 'tanh', 'mlp__alpha': 0.007, 'mlp__learning_rate': 'adaptive', 'mlp__solver': 'sgd', 'mlp__validation_fraction': 0.1, 'selectkbest__k': 250}\n",
      "0.801 (+/-0.045) for {'mlp__activation': 'tanh', 'mlp__alpha': 0.007, 'mlp__learning_rate': 'adaptive', 'mlp__solver': 'sgd', 'mlp__validation_fraction': 0.1, 'selectkbest__k': 270}\n",
      "0.795 (+/-0.048) for {'mlp__activation': 'tanh', 'mlp__alpha': 0.007, 'mlp__learning_rate': 'adaptive', 'mlp__solver': 'sgd', 'mlp__validation_fraction': 0.1, 'selectkbest__k': 290}\n",
      "0.799 (+/-0.036) for {'mlp__activation': 'tanh', 'mlp__alpha': 0.007, 'mlp__learning_rate': 'adaptive', 'mlp__solver': 'sgd', 'mlp__validation_fraction': 0.1, 'selectkbest__k': 310}\n",
      "0.803 (+/-0.045) for {'mlp__activation': 'tanh', 'mlp__alpha': 0.007, 'mlp__learning_rate': 'adaptive', 'mlp__solver': 'sgd', 'mlp__validation_fraction': 0.2, 'selectkbest__k': 250}\n",
      "0.799 (+/-0.032) for {'mlp__activation': 'tanh', 'mlp__alpha': 0.007, 'mlp__learning_rate': 'adaptive', 'mlp__solver': 'sgd', 'mlp__validation_fraction': 0.2, 'selectkbest__k': 270}\n",
      "0.801 (+/-0.039) for {'mlp__activation': 'tanh', 'mlp__alpha': 0.007, 'mlp__learning_rate': 'adaptive', 'mlp__solver': 'sgd', 'mlp__validation_fraction': 0.2, 'selectkbest__k': 290}\n",
      "0.796 (+/-0.038) for {'mlp__activation': 'tanh', 'mlp__alpha': 0.007, 'mlp__learning_rate': 'adaptive', 'mlp__solver': 'sgd', 'mlp__validation_fraction': 0.2, 'selectkbest__k': 310}\n",
      "0.807 (+/-0.038) for {'mlp__activation': 'tanh', 'mlp__alpha': 0.010000000000000002, 'mlp__learning_rate': 'constant', 'mlp__solver': 'sgd', 'mlp__validation_fraction': 0.1, 'selectkbest__k': 250}\n",
      "0.806 (+/-0.040) for {'mlp__activation': 'tanh', 'mlp__alpha': 0.010000000000000002, 'mlp__learning_rate': 'constant', 'mlp__solver': 'sgd', 'mlp__validation_fraction': 0.1, 'selectkbest__k': 270}\n",
      "0.801 (+/-0.031) for {'mlp__activation': 'tanh', 'mlp__alpha': 0.010000000000000002, 'mlp__learning_rate': 'constant', 'mlp__solver': 'sgd', 'mlp__validation_fraction': 0.1, 'selectkbest__k': 290}\n",
      "0.808 (+/-0.038) for {'mlp__activation': 'tanh', 'mlp__alpha': 0.010000000000000002, 'mlp__learning_rate': 'constant', 'mlp__solver': 'sgd', 'mlp__validation_fraction': 0.1, 'selectkbest__k': 310}\n",
      "0.800 (+/-0.047) for {'mlp__activation': 'tanh', 'mlp__alpha': 0.010000000000000002, 'mlp__learning_rate': 'constant', 'mlp__solver': 'sgd', 'mlp__validation_fraction': 0.2, 'selectkbest__k': 250}\n",
      "0.807 (+/-0.034) for {'mlp__activation': 'tanh', 'mlp__alpha': 0.010000000000000002, 'mlp__learning_rate': 'constant', 'mlp__solver': 'sgd', 'mlp__validation_fraction': 0.2, 'selectkbest__k': 270}\n",
      "0.806 (+/-0.033) for {'mlp__activation': 'tanh', 'mlp__alpha': 0.010000000000000002, 'mlp__learning_rate': 'constant', 'mlp__solver': 'sgd', 'mlp__validation_fraction': 0.2, 'selectkbest__k': 290}\n",
      "0.802 (+/-0.032) for {'mlp__activation': 'tanh', 'mlp__alpha': 0.010000000000000002, 'mlp__learning_rate': 'constant', 'mlp__solver': 'sgd', 'mlp__validation_fraction': 0.2, 'selectkbest__k': 310}\n",
      "0.804 (+/-0.040) for {'mlp__activation': 'tanh', 'mlp__alpha': 0.010000000000000002, 'mlp__learning_rate': 'adaptive', 'mlp__solver': 'sgd', 'mlp__validation_fraction': 0.1, 'selectkbest__k': 250}\n",
      "0.799 (+/-0.034) for {'mlp__activation': 'tanh', 'mlp__alpha': 0.010000000000000002, 'mlp__learning_rate': 'adaptive', 'mlp__solver': 'sgd', 'mlp__validation_fraction': 0.1, 'selectkbest__k': 270}\n",
      "0.799 (+/-0.040) for {'mlp__activation': 'tanh', 'mlp__alpha': 0.010000000000000002, 'mlp__learning_rate': 'adaptive', 'mlp__solver': 'sgd', 'mlp__validation_fraction': 0.1, 'selectkbest__k': 290}\n",
      "0.803 (+/-0.045) for {'mlp__activation': 'tanh', 'mlp__alpha': 0.010000000000000002, 'mlp__learning_rate': 'adaptive', 'mlp__solver': 'sgd', 'mlp__validation_fraction': 0.1, 'selectkbest__k': 310}\n",
      "0.802 (+/-0.039) for {'mlp__activation': 'tanh', 'mlp__alpha': 0.010000000000000002, 'mlp__learning_rate': 'adaptive', 'mlp__solver': 'sgd', 'mlp__validation_fraction': 0.2, 'selectkbest__k': 250}\n",
      "0.795 (+/-0.048) for {'mlp__activation': 'tanh', 'mlp__alpha': 0.010000000000000002, 'mlp__learning_rate': 'adaptive', 'mlp__solver': 'sgd', 'mlp__validation_fraction': 0.2, 'selectkbest__k': 270}\n",
      "0.804 (+/-0.041) for {'mlp__activation': 'tanh', 'mlp__alpha': 0.010000000000000002, 'mlp__learning_rate': 'adaptive', 'mlp__solver': 'sgd', 'mlp__validation_fraction': 0.2, 'selectkbest__k': 290}\n",
      "0.801 (+/-0.036) for {'mlp__activation': 'tanh', 'mlp__alpha': 0.010000000000000002, 'mlp__learning_rate': 'adaptive', 'mlp__solver': 'sgd', 'mlp__validation_fraction': 0.2, 'selectkbest__k': 310}\n",
      "---------Optimal pipe finished -----------\n"
     ]
    },
    {
     "name": "stderr",
     "output_type": "stream",
     "text": [
      "D:\\Anaconda3\\lib\\site-packages\\sklearn\\neural_network\\multilayer_perceptron.py:562: ConvergenceWarning: Stochastic Optimizer: Maximum iterations (200) reached and the optimization hasn't converged yet.\n",
      "  % self.max_iter, ConvergenceWarning)\n",
      "D:\\Anaconda3\\lib\\site-packages\\sklearn\\neural_network\\multilayer_perceptron.py:562: ConvergenceWarning: Stochastic Optimizer: Maximum iterations (200) reached and the optimization hasn't converged yet.\n",
      "  % self.max_iter, ConvergenceWarning)\n",
      "D:\\Anaconda3\\lib\\site-packages\\sklearn\\neural_network\\multilayer_perceptron.py:562: ConvergenceWarning: Stochastic Optimizer: Maximum iterations (200) reached and the optimization hasn't converged yet.\n",
      "  % self.max_iter, ConvergenceWarning)\n",
      "D:\\Anaconda3\\lib\\site-packages\\sklearn\\neural_network\\multilayer_perceptron.py:562: ConvergenceWarning: Stochastic Optimizer: Maximum iterations (200) reached and the optimization hasn't converged yet.\n",
      "  % self.max_iter, ConvergenceWarning)\n",
      "D:\\Anaconda3\\lib\\site-packages\\sklearn\\neural_network\\multilayer_perceptron.py:562: ConvergenceWarning: Stochastic Optimizer: Maximum iterations (200) reached and the optimization hasn't converged yet.\n",
      "  % self.max_iter, ConvergenceWarning)\n"
     ]
    },
    {
     "name": "stdout",
     "output_type": "stream",
     "text": [
      "[0.8125     0.76836158 0.81680441 0.82730924 0.79703704]\n",
      "Average (cross validated) map@3 score:  0.8044024527238463 , stdev:  0.02048068963395105\n"
     ]
    },
    {
     "name": "stderr",
     "output_type": "stream",
     "text": [
      "D:\\Anaconda3\\lib\\site-packages\\sklearn\\neural_network\\multilayer_perceptron.py:562: ConvergenceWarning: Stochastic Optimizer: Maximum iterations (200) reached and the optimization hasn't converged yet.\n",
      "  % self.max_iter, ConvergenceWarning)\n"
     ]
    },
    {
     "data": {
      "text/plain": [
       "Pipeline(memory=None,\n",
       "     steps=[('scale', StandardScaler(copy=True, with_mean=True, with_std=True)), ('selectkbest', SelectKBest(k=290, score_func=<function f_classif at 0x00000149A8EAB1E0>)), ('mlp', MLPClassifier(activation='tanh', alpha=0.001, batch_size='auto', beta_1=0.9,\n",
       "       beta_2=0.999, early_stopping=False, epsi...e=True, solver='sgd', tol=0.0001,\n",
       "       validation_fraction=0.1, verbose=False, warm_start=False))])"
      ]
     },
     "execution_count": 23,
     "metadata": {},
     "output_type": "execute_result"
    }
   ],
   "source": [
    "sgkf = validation.stratified_group_k_fold(train_samples, train_labels, train_persons, 5, seed)\n",
    "optimal_pipe, res = tune_pipeline(X_train, y_train, 1)\n",
    "print('---------Optimal pipe finished -----------')\n",
    "##Train validate data splitter for Cross Validation\n",
    "sgkf = validation.stratified_group_k_fold(train_samples, train_labels, train_persons, 5, seed)\n",
    "\n",
    "with parallel_backend('threading'):\n",
    "    scores = cross_val_score(optimal_pipe, X_train, y_train, scoring=map3, cv=sgkf, n_jobs=-1, pre_dispatch='n_jobs')\n",
    "print(scores)\n",
    "print(\"Average (cross validated) map@3 score: \",scores.mean(),\", stdev: \",scores.std())\n",
    "\n",
    "optimal_pipe.fit(X_train, y_train)"
   ]
  },
  {
   "cell_type": "markdown",
   "metadata": {},
   "source": [
    "## Generate kaggle submission file"
   ]
  },
  {
   "cell_type": "code",
   "execution_count": 24,
   "metadata": {},
   "outputs": [],
   "source": [
    "test_probas = optimal_pipe.predict_proba(X_test)\n",
    "H.create_submission(test_probas, 'mlp_classifier1.csv')"
   ]
  },
  {
   "cell_type": "code",
   "execution_count": null,
   "metadata": {},
   "outputs": [],
   "source": []
  },
  {
   "cell_type": "code",
   "execution_count": null,
   "metadata": {},
   "outputs": [],
   "source": []
  },
  {
   "cell_type": "code",
   "execution_count": null,
   "metadata": {},
   "outputs": [],
   "source": []
  },
  {
   "cell_type": "code",
   "execution_count": null,
   "metadata": {},
   "outputs": [],
   "source": []
  },
  {
   "cell_type": "code",
   "execution_count": null,
   "metadata": {},
   "outputs": [],
   "source": []
  },
  {
   "cell_type": "code",
   "execution_count": null,
   "metadata": {},
   "outputs": [],
   "source": []
  },
  {
   "cell_type": "code",
   "execution_count": null,
   "metadata": {},
   "outputs": [],
   "source": []
  }
 ],
 "metadata": {
  "kernelspec": {
   "display_name": "Python 3",
   "language": "python",
   "name": "python3"
  },
  "language_info": {
   "codemirror_mode": {
    "name": "ipython",
    "version": 3
   },
   "file_extension": ".py",
   "mimetype": "text/x-python",
   "name": "python",
   "nbconvert_exporter": "python",
   "pygments_lexer": "ipython3",
   "version": "3.7.1"
  }
 },
 "nbformat": 4,
 "nbformat_minor": 2
}
