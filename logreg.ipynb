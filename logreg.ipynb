{
 "cells": [
  {
   "cell_type": "code",
   "execution_count": 1,
   "metadata": {},
   "outputs": [],
   "source": [
    "# REQUIRED IMPORTS FROM STANDARD PACKAGES\n",
    "\n",
    "import numpy as np\n",
    "import matplotlib.pyplot as plt\n",
    "%matplotlib inline\n",
    "import csv\n",
    "import random\n",
    "import pandas as pd\n",
    "from os.path import join as pjoin\n",
    "from glob import glob\n",
    "import sklearn as sk\n",
    "from sklearn import preprocessing\n",
    "from sklearn.linear_model import LogisticRegression\n",
    "from sklearn.metrics import f1_score\n",
    "from sklearn.pipeline import make_pipeline, Pipeline\n",
    "from sklearn.decomposition import PCA\n",
    "from sklearn.model_selection import cross_val_score\n",
    "from sklearn.model_selection import GridSearchCV\n",
    "from sklearn.preprocessing import StandardScaler\n",
    "from sklearn.model_selection import RandomizedSearchCV\n",
    "import scipy\n",
    "from sklearn.model_selection import GroupShuffleSplit\n",
    "from sklearn.metrics import make_scorer, accuracy_score\n",
    "from sklearn import svm\n",
    "from sklearn.discriminant_analysis import LinearDiscriminantAnalysis as LDA\n",
    "\n",
    "# IMPORTS FROM THE UTIL LIBRARY PROVIDED BY US\n",
    "\n",
    "import util.vis as V\n",
    "import util.helpers as H\n",
    "\n",
    "# Normally, all libraries are loaded only once, \n",
    "# even if you execute the import code multiple times\n",
    "# This code is helpful if you make your own helper libraries \n",
    "%load_ext autoreload\n",
    "%autoreload 1\n",
    "# list your libraries below with aimport: should ensure \n",
    "#they are reloaded each time without having to restart your kernel\n",
    "# in this case, our libraries are used as an example\n",
    "\n",
    "%aimport util.helpers, util.vis\n",
    "%aimport features_extraction\n",
    "%aimport augmentation\n",
    "%aimport Analysis\n",
    "%aimport validation\n",
    "%aimport preprocessing\n",
    "\n",
    "# seed random generator such that this notebook always returns the same values \n",
    "# (this is by no means necessary, but it is useful for reproducability of results)\n",
    "rng = np.random.RandomState(42)"
   ]
  },
  {
   "cell_type": "code",
   "execution_count": 2,
   "metadata": {},
   "outputs": [],
   "source": [
    "# PATHS\n",
    "\n",
    "DATA_DIR = '../data'\n",
    "POSE_DIR = '../data/pose'"
   ]
  },
  {
   "cell_type": "markdown",
   "metadata": {},
   "source": [
    "## Loading data\n",
    "Loading all the training and test data"
   ]
  },
  {
   "cell_type": "code",
   "execution_count": 3,
   "metadata": {},
   "outputs": [],
   "source": [
    "##Loading all the training data\n",
    "dataset_file=pjoin(DATA_DIR,'labels.csv')\n",
    "\n",
    "train_samples=[]\n",
    "train_labels=[]\n",
    "train_persons = []\n",
    "train_personlabels = []\n",
    "\n",
    "with open(dataset_file) as csvfile:\n",
    "    reader = csv.reader(csvfile, delimiter=',')\n",
    "    next(reader)\n",
    "    for row in reader:\n",
    "        name, _gloss, label, _person = row\n",
    "        sample = np.load(pjoin(POSE_DIR, 'train', name+'.npy'))\n",
    "        train_samples.append(sample)\n",
    "        train_labels.append(int(label))\n",
    "        train_persons.append(_person)\n",
    "        train_personlabels.append((label, _person))\n",
    "\n",
    "train_samples=np.array(train_samples)\n",
    "train_labels=np.array(train_labels)\n",
    "\n",
    "##Loading all the test data\n",
    "all_test_files = sorted(glob(pjoin(POSE_DIR, 'test', '*.npy')))  \n",
    "\n",
    "test_samples = []\n",
    "for numpy_file in all_test_files:\n",
    "    sample = np.load(numpy_file)\n",
    "    test_samples.append(sample)\n",
    "    \n",
    "test_samples = np.array(test_samples)"
   ]
  },
  {
   "cell_type": "markdown",
   "metadata": {},
   "source": [
    "## Data augmentation"
   ]
  },
  {
   "cell_type": "code",
   "execution_count": 4,
   "metadata": {},
   "outputs": [],
   "source": [
    "train_samples = augmentation.augment_data(train_samples)\n",
    "train_labels = np.concatenate(( train_labels,train_labels, train_labels))\n",
    "train_persons = np.concatenate(( train_persons,train_persons, train_persons))\n",
    "train_personlabels = np.concatenate(( train_personlabels,train_personlabels, train_personlabels))"
   ]
  },
  {
   "cell_type": "markdown",
   "metadata": {},
   "source": [
    "## Data preprocessing"
   ]
  },
  {
   "cell_type": "code",
   "execution_count": 5,
   "metadata": {},
   "outputs": [],
   "source": [
    "train_samples = preprocessing.centering(train_samples)\n",
    "test_samples = preprocessing.centering(test_samples)"
   ]
  },
  {
   "cell_type": "markdown",
   "metadata": {},
   "source": [
    "## Extracting features"
   ]
  },
  {
   "cell_type": "code",
   "execution_count": 7,
   "metadata": {},
   "outputs": [],
   "source": [
    "df = features_extraction.extract_features(train_samples)\n",
    "#Analysis.plot_correlation_matrix(df)\n",
    "X_train = df.values #convert pandas dataframe to numpy array with .values\n",
    "y_train = train_labels\n",
    "X_test = features_extraction.extract_features(test_samples).values"
   ]
  },
  {
   "cell_type": "markdown",
   "metadata": {},
   "source": [
    "## PCA Analysis\n",
    "We don't need to run this code anymore, since we will not use PCA anymore. It's just over here in case we would need it once again."
   ]
  },
  {
   "cell_type": "code",
   "execution_count": null,
   "metadata": {},
   "outputs": [],
   "source": [
    "##PCA\n",
    "#Check the number of components needed in order to get the maximum variance\n",
    "pca_1 = PCA().fit(df) \n",
    "\n",
    "#Plotting variance \n",
    "plt.figure() \n",
    "plt.plot(np.cumsum(pca_1.explained_variance_ratio_)) \n",
    "plt.xlabel(' Number of components ') \n",
    "plt.ylabel(' Variance (%) ') #per each component\n",
    "plt.title('Explained Variance ') \n",
    "plt.show()\n",
    "\n",
    "#Number of components 7\n",
    "#Fit with only 7 features\n",
    "pca_1 = PCA(0.99) \n",
    "new_matrix=preprocessing.StandardScaler().fit_transform(df)\n",
    "new_matrix = pca_1.fit_transform(new_matrix)\n",
    "\n",
    "print(new_matrix.shape)"
   ]
  },
  {
   "cell_type": "markdown",
   "metadata": {},
   "source": [
    "## Loss functions\n",
    "Custom scoring functions"
   ]
  },
  {
   "cell_type": "code",
   "execution_count": 8,
   "metadata": {},
   "outputs": [],
   "source": [
    "##Custom scoring functions\n",
    "\n",
    "def top3_acc_score(y_true, proba):\n",
    "    return H.mapk(proba,y_true)\n",
    "\n",
    "def map3_score(y_true, proba):\n",
    "    return H.top3_accuracy(proba, y_true)\n",
    "    \n",
    "\n",
    "acc = make_scorer(accuracy_score)\n",
    "top3_acc = make_scorer(top3_acc_score, needs_proba=True) \n",
    "map3 = make_scorer(map3_score, needs_proba=True)\n",
    "scoring_functions = {\"acc\": acc, \"top3_acc\": top3_acc, \"map3\": map3}"
   ]
  },
  {
   "cell_type": "markdown",
   "metadata": {},
   "source": [
    "## Validation strategy"
   ]
  },
  {
   "cell_type": "code",
   "execution_count": 17,
   "metadata": {},
   "outputs": [],
   "source": [
    "##Train validate data splitter for Cross Validation\n",
    "gss = GroupShuffleSplit(n_splits = 4, test_size=0.2, random_state=0)\n",
    "gss = gss.split(train_samples, train_labels, groups=train_persons)"
   ]
  },
  {
   "cell_type": "markdown",
   "metadata": {},
   "source": [
    "## Pipeline & model training"
   ]
  },
  {
   "cell_type": "code",
   "execution_count": 22,
   "metadata": {},
   "outputs": [],
   "source": [
    "# the function below generates our rescaled pipeline model\n",
    "# with optimized regularisation parameter\n",
    "def tune_C_logreg(x_data,r_data,verbose=0):\n",
    "    pipe = Pipeline([\n",
    "        ('scale', StandardScaler()), \n",
    "        ('lda', LDA()), \n",
    "        ('logreg', LogisticRegression(tol=1e-3, class_weight='balanced', solver='liblinear'))\n",
    "    ])\n",
    "\n",
    "\n",
    "    # Set the parameters by cross-validation\n",
    "    tuned_parameters = [{'logreg__C': [1.0e-5,1.0e-4,1.0e-3,1.0e-2,1.0e-1,1.0, \n",
    "                                       10.0, 100.0, 1000.0,10000.0,100000]}]\n",
    "\n",
    "    CV = GridSearchCV(pipe, tuned_parameters, cv=gss, scoring =map3)\n",
    "    CV.fit(x_data, r_data)\n",
    "    bestC = CV.best_params_['logreg__C']\n",
    "    print(\"Optimal regularisation value: \",bestC)\n",
    "    optimal_pipe = Pipeline([\n",
    "        ('scale', StandardScaler()), \n",
    "        ('lda', LDA()), \n",
    "        ('logreg', LogisticRegression(C=bestC, tol=1e-3, class_weight='balanced', solver='liblinear'))\n",
    "    ])\n",
    "    \n",
    "    if verbose>0:\n",
    "    \n",
    "        print(\"Grid scores on training data set:\")\n",
    "        print()\n",
    "        cv_means = CV.cv_results_['mean_test_score']\n",
    "        cv_stds = CV.cv_results_['std_test_score']\n",
    "        for mean, std, params in zip(cv_means, cv_stds, CV.cv_results_['params']):\n",
    "            print(\"%0.3f (+/-%0.03f) for %r\" % (mean, std * 2, params))\n",
    "\n",
    "\n",
    "    return optimal_pipe\n"
   ]
  },
  {
   "cell_type": "code",
   "execution_count": 23,
   "metadata": {},
   "outputs": [
    {
     "name": "stderr",
     "output_type": "stream",
     "text": [
      "D:\\Anaconda3\\lib\\site-packages\\sklearn\\linear_model\\logistic.py:460: FutureWarning: Default multi_class will be changed to 'auto' in 0.22. Specify the multi_class option to silence this warning.\n",
      "  \"this warning.\", FutureWarning)\n",
      "D:\\Anaconda3\\lib\\site-packages\\sklearn\\linear_model\\logistic.py:460: FutureWarning: Default multi_class will be changed to 'auto' in 0.22. Specify the multi_class option to silence this warning.\n",
      "  \"this warning.\", FutureWarning)\n",
      "D:\\Anaconda3\\lib\\site-packages\\sklearn\\linear_model\\logistic.py:460: FutureWarning: Default multi_class will be changed to 'auto' in 0.22. Specify the multi_class option to silence this warning.\n",
      "  \"this warning.\", FutureWarning)\n",
      "D:\\Anaconda3\\lib\\site-packages\\sklearn\\linear_model\\logistic.py:460: FutureWarning: Default multi_class will be changed to 'auto' in 0.22. Specify the multi_class option to silence this warning.\n",
      "  \"this warning.\", FutureWarning)\n",
      "D:\\Anaconda3\\lib\\site-packages\\sklearn\\linear_model\\logistic.py:460: FutureWarning: Default multi_class will be changed to 'auto' in 0.22. Specify the multi_class option to silence this warning.\n",
      "  \"this warning.\", FutureWarning)\n",
      "D:\\Anaconda3\\lib\\site-packages\\sklearn\\linear_model\\logistic.py:460: FutureWarning: Default multi_class will be changed to 'auto' in 0.22. Specify the multi_class option to silence this warning.\n",
      "  \"this warning.\", FutureWarning)\n",
      "D:\\Anaconda3\\lib\\site-packages\\sklearn\\linear_model\\logistic.py:460: FutureWarning: Default multi_class will be changed to 'auto' in 0.22. Specify the multi_class option to silence this warning.\n",
      "  \"this warning.\", FutureWarning)\n",
      "D:\\Anaconda3\\lib\\site-packages\\sklearn\\linear_model\\logistic.py:460: FutureWarning: Default multi_class will be changed to 'auto' in 0.22. Specify the multi_class option to silence this warning.\n",
      "  \"this warning.\", FutureWarning)\n",
      "D:\\Anaconda3\\lib\\site-packages\\sklearn\\linear_model\\logistic.py:460: FutureWarning: Default multi_class will be changed to 'auto' in 0.22. Specify the multi_class option to silence this warning.\n",
      "  \"this warning.\", FutureWarning)\n",
      "D:\\Anaconda3\\lib\\site-packages\\sklearn\\linear_model\\logistic.py:460: FutureWarning: Default multi_class will be changed to 'auto' in 0.22. Specify the multi_class option to silence this warning.\n",
      "  \"this warning.\", FutureWarning)\n",
      "D:\\Anaconda3\\lib\\site-packages\\sklearn\\linear_model\\logistic.py:460: FutureWarning: Default multi_class will be changed to 'auto' in 0.22. Specify the multi_class option to silence this warning.\n",
      "  \"this warning.\", FutureWarning)\n",
      "D:\\Anaconda3\\lib\\site-packages\\sklearn\\linear_model\\logistic.py:460: FutureWarning: Default multi_class will be changed to 'auto' in 0.22. Specify the multi_class option to silence this warning.\n",
      "  \"this warning.\", FutureWarning)\n",
      "D:\\Anaconda3\\lib\\site-packages\\sklearn\\linear_model\\logistic.py:460: FutureWarning: Default multi_class will be changed to 'auto' in 0.22. Specify the multi_class option to silence this warning.\n",
      "  \"this warning.\", FutureWarning)\n",
      "D:\\Anaconda3\\lib\\site-packages\\sklearn\\linear_model\\logistic.py:460: FutureWarning: Default multi_class will be changed to 'auto' in 0.22. Specify the multi_class option to silence this warning.\n",
      "  \"this warning.\", FutureWarning)\n",
      "D:\\Anaconda3\\lib\\site-packages\\sklearn\\linear_model\\logistic.py:460: FutureWarning: Default multi_class will be changed to 'auto' in 0.22. Specify the multi_class option to silence this warning.\n",
      "  \"this warning.\", FutureWarning)\n",
      "D:\\Anaconda3\\lib\\site-packages\\sklearn\\linear_model\\logistic.py:460: FutureWarning: Default multi_class will be changed to 'auto' in 0.22. Specify the multi_class option to silence this warning.\n",
      "  \"this warning.\", FutureWarning)\n",
      "D:\\Anaconda3\\lib\\site-packages\\sklearn\\linear_model\\logistic.py:460: FutureWarning: Default multi_class will be changed to 'auto' in 0.22. Specify the multi_class option to silence this warning.\n",
      "  \"this warning.\", FutureWarning)\n",
      "D:\\Anaconda3\\lib\\site-packages\\sklearn\\linear_model\\logistic.py:460: FutureWarning: Default multi_class will be changed to 'auto' in 0.22. Specify the multi_class option to silence this warning.\n",
      "  \"this warning.\", FutureWarning)\n",
      "D:\\Anaconda3\\lib\\site-packages\\sklearn\\linear_model\\logistic.py:460: FutureWarning: Default multi_class will be changed to 'auto' in 0.22. Specify the multi_class option to silence this warning.\n",
      "  \"this warning.\", FutureWarning)\n",
      "D:\\Anaconda3\\lib\\site-packages\\sklearn\\linear_model\\logistic.py:460: FutureWarning: Default multi_class will be changed to 'auto' in 0.22. Specify the multi_class option to silence this warning.\n",
      "  \"this warning.\", FutureWarning)\n",
      "D:\\Anaconda3\\lib\\site-packages\\sklearn\\linear_model\\logistic.py:460: FutureWarning: Default multi_class will be changed to 'auto' in 0.22. Specify the multi_class option to silence this warning.\n",
      "  \"this warning.\", FutureWarning)\n",
      "D:\\Anaconda3\\lib\\site-packages\\sklearn\\linear_model\\logistic.py:460: FutureWarning: Default multi_class will be changed to 'auto' in 0.22. Specify the multi_class option to silence this warning.\n",
      "  \"this warning.\", FutureWarning)\n",
      "D:\\Anaconda3\\lib\\site-packages\\sklearn\\linear_model\\logistic.py:460: FutureWarning: Default multi_class will be changed to 'auto' in 0.22. Specify the multi_class option to silence this warning.\n",
      "  \"this warning.\", FutureWarning)\n",
      "D:\\Anaconda3\\lib\\site-packages\\sklearn\\linear_model\\logistic.py:460: FutureWarning: Default multi_class will be changed to 'auto' in 0.22. Specify the multi_class option to silence this warning.\n",
      "  \"this warning.\", FutureWarning)\n",
      "D:\\Anaconda3\\lib\\site-packages\\sklearn\\linear_model\\logistic.py:460: FutureWarning: Default multi_class will be changed to 'auto' in 0.22. Specify the multi_class option to silence this warning.\n",
      "  \"this warning.\", FutureWarning)\n",
      "D:\\Anaconda3\\lib\\site-packages\\sklearn\\linear_model\\logistic.py:460: FutureWarning: Default multi_class will be changed to 'auto' in 0.22. Specify the multi_class option to silence this warning.\n",
      "  \"this warning.\", FutureWarning)\n",
      "D:\\Anaconda3\\lib\\site-packages\\sklearn\\linear_model\\logistic.py:460: FutureWarning: Default multi_class will be changed to 'auto' in 0.22. Specify the multi_class option to silence this warning.\n",
      "  \"this warning.\", FutureWarning)\n",
      "D:\\Anaconda3\\lib\\site-packages\\sklearn\\linear_model\\logistic.py:460: FutureWarning: Default multi_class will be changed to 'auto' in 0.22. Specify the multi_class option to silence this warning.\n",
      "  \"this warning.\", FutureWarning)\n",
      "D:\\Anaconda3\\lib\\site-packages\\sklearn\\linear_model\\logistic.py:460: FutureWarning: Default multi_class will be changed to 'auto' in 0.22. Specify the multi_class option to silence this warning.\n",
      "  \"this warning.\", FutureWarning)\n",
      "D:\\Anaconda3\\lib\\site-packages\\sklearn\\linear_model\\logistic.py:460: FutureWarning: Default multi_class will be changed to 'auto' in 0.22. Specify the multi_class option to silence this warning.\n",
      "  \"this warning.\", FutureWarning)\n",
      "D:\\Anaconda3\\lib\\site-packages\\sklearn\\linear_model\\logistic.py:460: FutureWarning: Default multi_class will be changed to 'auto' in 0.22. Specify the multi_class option to silence this warning.\n",
      "  \"this warning.\", FutureWarning)\n",
      "D:\\Anaconda3\\lib\\site-packages\\sklearn\\linear_model\\logistic.py:460: FutureWarning: Default multi_class will be changed to 'auto' in 0.22. Specify the multi_class option to silence this warning.\n",
      "  \"this warning.\", FutureWarning)\n",
      "D:\\Anaconda3\\lib\\site-packages\\sklearn\\linear_model\\logistic.py:460: FutureWarning: Default multi_class will be changed to 'auto' in 0.22. Specify the multi_class option to silence this warning.\n",
      "  \"this warning.\", FutureWarning)\n",
      "D:\\Anaconda3\\lib\\site-packages\\sklearn\\linear_model\\logistic.py:460: FutureWarning: Default multi_class will be changed to 'auto' in 0.22. Specify the multi_class option to silence this warning.\n",
      "  \"this warning.\", FutureWarning)\n",
      "D:\\Anaconda3\\lib\\site-packages\\sklearn\\linear_model\\logistic.py:460: FutureWarning: Default multi_class will be changed to 'auto' in 0.22. Specify the multi_class option to silence this warning.\n",
      "  \"this warning.\", FutureWarning)\n",
      "D:\\Anaconda3\\lib\\site-packages\\sklearn\\linear_model\\logistic.py:460: FutureWarning: Default multi_class will be changed to 'auto' in 0.22. Specify the multi_class option to silence this warning.\n",
      "  \"this warning.\", FutureWarning)\n"
     ]
    },
    {
     "name": "stderr",
     "output_type": "stream",
     "text": [
      "D:\\Anaconda3\\lib\\site-packages\\sklearn\\linear_model\\logistic.py:460: FutureWarning: Default multi_class will be changed to 'auto' in 0.22. Specify the multi_class option to silence this warning.\n",
      "  \"this warning.\", FutureWarning)\n",
      "D:\\Anaconda3\\lib\\site-packages\\sklearn\\linear_model\\logistic.py:460: FutureWarning: Default multi_class will be changed to 'auto' in 0.22. Specify the multi_class option to silence this warning.\n",
      "  \"this warning.\", FutureWarning)\n",
      "D:\\Anaconda3\\lib\\site-packages\\sklearn\\linear_model\\logistic.py:460: FutureWarning: Default multi_class will be changed to 'auto' in 0.22. Specify the multi_class option to silence this warning.\n",
      "  \"this warning.\", FutureWarning)\n",
      "D:\\Anaconda3\\lib\\site-packages\\sklearn\\linear_model\\logistic.py:460: FutureWarning: Default multi_class will be changed to 'auto' in 0.22. Specify the multi_class option to silence this warning.\n",
      "  \"this warning.\", FutureWarning)\n",
      "D:\\Anaconda3\\lib\\site-packages\\sklearn\\linear_model\\logistic.py:460: FutureWarning: Default multi_class will be changed to 'auto' in 0.22. Specify the multi_class option to silence this warning.\n",
      "  \"this warning.\", FutureWarning)\n",
      "D:\\Anaconda3\\lib\\site-packages\\sklearn\\linear_model\\logistic.py:460: FutureWarning: Default multi_class will be changed to 'auto' in 0.22. Specify the multi_class option to silence this warning.\n",
      "  \"this warning.\", FutureWarning)\n",
      "D:\\Anaconda3\\lib\\site-packages\\sklearn\\linear_model\\logistic.py:460: FutureWarning: Default multi_class will be changed to 'auto' in 0.22. Specify the multi_class option to silence this warning.\n",
      "  \"this warning.\", FutureWarning)\n",
      "D:\\Anaconda3\\lib\\site-packages\\sklearn\\linear_model\\logistic.py:460: FutureWarning: Default multi_class will be changed to 'auto' in 0.22. Specify the multi_class option to silence this warning.\n",
      "  \"this warning.\", FutureWarning)\n",
      "D:\\Anaconda3\\lib\\site-packages\\sklearn\\model_selection\\_search.py:841: DeprecationWarning: The default of the `iid` parameter will change from True to False in version 0.22 and will be removed in 0.24. This will change numeric results when test-set sizes are unequal.\n",
      "  DeprecationWarning)\n",
      "D:\\Anaconda3\\lib\\site-packages\\sklearn\\linear_model\\logistic.py:460: FutureWarning: Default multi_class will be changed to 'auto' in 0.22. Specify the multi_class option to silence this warning.\n",
      "  \"this warning.\", FutureWarning)\n"
     ]
    },
    {
     "name": "stdout",
     "output_type": "stream",
     "text": [
      "Optimal regularisation value:  1e-05\n"
     ]
    },
    {
     "name": "stderr",
     "output_type": "stream",
     "text": [
      "D:\\Anaconda3\\lib\\site-packages\\sklearn\\linear_model\\logistic.py:460: FutureWarning: Default multi_class will be changed to 'auto' in 0.22. Specify the multi_class option to silence this warning.\n",
      "  \"this warning.\", FutureWarning)\n",
      "D:\\Anaconda3\\lib\\site-packages\\sklearn\\linear_model\\logistic.py:460: FutureWarning: Default multi_class will be changed to 'auto' in 0.22. Specify the multi_class option to silence this warning.\n",
      "  \"this warning.\", FutureWarning)\n",
      "D:\\Anaconda3\\lib\\site-packages\\sklearn\\linear_model\\logistic.py:460: FutureWarning: Default multi_class will be changed to 'auto' in 0.22. Specify the multi_class option to silence this warning.\n",
      "  \"this warning.\", FutureWarning)\n",
      "D:\\Anaconda3\\lib\\site-packages\\sklearn\\linear_model\\logistic.py:460: FutureWarning: Default multi_class will be changed to 'auto' in 0.22. Specify the multi_class option to silence this warning.\n",
      "  \"this warning.\", FutureWarning)\n",
      "D:\\Anaconda3\\lib\\site-packages\\sklearn\\linear_model\\logistic.py:460: FutureWarning: Default multi_class will be changed to 'auto' in 0.22. Specify the multi_class option to silence this warning.\n",
      "  \"this warning.\", FutureWarning)\n",
      "D:\\Anaconda3\\lib\\site-packages\\sklearn\\linear_model\\logistic.py:460: FutureWarning: Default multi_class will be changed to 'auto' in 0.22. Specify the multi_class option to silence this warning.\n",
      "  \"this warning.\", FutureWarning)\n",
      "D:\\Anaconda3\\lib\\site-packages\\sklearn\\linear_model\\logistic.py:460: FutureWarning: Default multi_class will be changed to 'auto' in 0.22. Specify the multi_class option to silence this warning.\n",
      "  \"this warning.\", FutureWarning)\n",
      "D:\\Anaconda3\\lib\\site-packages\\sklearn\\linear_model\\logistic.py:460: FutureWarning: Default multi_class will be changed to 'auto' in 0.22. Specify the multi_class option to silence this warning.\n",
      "  \"this warning.\", FutureWarning)\n",
      "D:\\Anaconda3\\lib\\site-packages\\sklearn\\linear_model\\logistic.py:460: FutureWarning: Default multi_class will be changed to 'auto' in 0.22. Specify the multi_class option to silence this warning.\n",
      "  \"this warning.\", FutureWarning)\n"
     ]
    },
    {
     "name": "stdout",
     "output_type": "stream",
     "text": [
      "[0.38314653 0.37028658 0.32734531 0.39150508 0.34172662 0.34948097\n",
      " 0.3619211  0.33968254 0.34424242 0.41682723]\n",
      "Average accuracy:  0.3626164378981739 , stdev:  0.026402099839656884\n"
     ]
    },
    {
     "name": "stderr",
     "output_type": "stream",
     "text": [
      "D:\\Anaconda3\\lib\\site-packages\\sklearn\\linear_model\\logistic.py:460: FutureWarning: Default multi_class will be changed to 'auto' in 0.22. Specify the multi_class option to silence this warning.\n",
      "  \"this warning.\", FutureWarning)\n"
     ]
    }
   ],
   "source": [
    "##Train validate data splitter for Cross Validation\n",
    "gss = GroupShuffleSplit(n_splits = 4, test_size=0.2, random_state=0)\n",
    "gss = gss.split(train_samples, train_labels, groups=train_persons)\n",
    "\n",
    "##Create Optimal Pipeline and train the model\n",
    "\n",
    "optimal_pipe = tune_C_logreg(X_train, y_train)\n",
    "#optimal_pipe.fit(X_train, y_train)\n",
    "\n",
    "##Train validate data splitter for Cross Validation\n",
    "gss = GroupShuffleSplit(n_splits = 10, test_size=0.2, random_state=0)\n",
    "gss = gss.split(train_samples, train_labels, groups=train_persons)\n",
    "\n",
    "scores = cross_val_score(optimal_pipe, X_train, y_train, cv=gss)\n",
    "print(scores)\n",
    "print(\"Average accuracy: \",scores.mean(),\", stdev: \",scores.std())\n"
   ]
  },
  {
   "cell_type": "code",
   "execution_count": null,
   "metadata": {},
   "outputs": [],
   "source": [
    "\n",
    "#C_range = [ 1.0e-5,1.0e-4,1.0e-3,1.0e-2,1.0e-1,1.0, 10.0, 100.0, 1000.0,10000.0]\n",
    "#tuned_parameters = {'logreg__C': C_range}\n",
    "\n",
    "#CV=RandomizedSearchCV(pipe1, tuned_parameters, verbose = 1, scoring =map3, cv=gss, n_iter=10, n_jobs=-1,pre_dispatch='n_jobs', iid=False, return_train_score=True)\n",
    "#CV.fit(X_train, y_train)\n",
    "\n",
    "#print(\"Best parameters set found on development set: \",CV.best_params_)\n",
    "\n",
    "#print(\"Best parameters set found on development set: \",CV.best_params_)\n",
    "## store the best optimization parameter for later reuse\n",
    "#bestC2 = CV.best_params_['logreg__C']\n",
    "\n",
    "#print(\"Grid scores on training data set:\")\n",
    "#print()\n",
    "#cv_means = CV.cv_results_['mean_test_score']\n",
    "#cv_stds = CV.cv_results_['std_test_score']\n",
    "\n",
    "\n",
    "#use this for randonsearch\n",
    "#train_probas = CV.predict_proba(X_train)\n",
    "#print('Training set accuracy:', CV.score(X_train, y_train))\n",
    "#print('Training set score (map@3):', H.mapk(train_probas,y_train))\n",
    "#print('Training set top-3 accuracy:', H.top3_accuracy(train_probas, y_train))\n",
    "\n",
    "#print(CV.cv_results_['mean_train_score'])\n",
    "#print(CV.cv_results_['mean_test_score'])\n",
    "#till here\n",
    "\n",
    "\n",
    "\n",
    "\n",
    "#val_probas = pipe1.predict_proba(X_val)\n",
    "#print('Validation set accuracy:', pipe1.score(X_val, y_val))\n",
    "#print('Validation set score (map@3):', H.mapk(val_probas,y_val))\n",
    "#print('Validation set top-3 accuracy:', H.top3_accuracy(val_probas, y_val))\n",
    "                  \n",
    "#print('Training set accuracy:', CV.cv_results_['mean_train_acc'])\n",
    "#print('Training set score (map@3):', CV.cv_results_['mean_train_map3'])\n",
    "#print('Training set top-3 accuracy:', CV.cv_results_['mean_train_top3acc'])\n",
    "\n",
    "#print('Training set accuracy:', CV.cv_results_['mean_test_acc'])\n",
    "#print('Validation set score (map@3):', CV.cv_results_['mean_test_map3'])\n",
    "#print('Training set top-3 accuracy:', CV.cv_results_['mean_test_top3acc'])"
   ]
  },
  {
   "cell_type": "markdown",
   "metadata": {},
   "source": [
    "## Generate kaggle submission file"
   ]
  },
  {
   "cell_type": "code",
   "execution_count": null,
   "metadata": {},
   "outputs": [],
   "source": [
    "test_probas = pipe1.predict_proba(X_test)\n",
    "H.create_submission(test_probas, 'submission_11_lda_map3.csv')"
   ]
  },
  {
   "cell_type": "markdown",
   "metadata": {},
   "source": [
    "## Model analysis\n",
    "Generate confusion matrix and calculate the precision, recall, F1 score, TP, FP, NP"
   ]
  },
  {
   "cell_type": "code",
   "execution_count": null,
   "metadata": {},
   "outputs": [],
   "source": [
    "##ANALYSIS\n",
    "\n",
    "#PLOTS\n",
    "P,R,F1 = None,None,None # compute these for class c on the TEST SET\n",
    "\n",
    "#ORDER PROBABILITIES\n",
    "prob_order = H.get_ordered_predictions(train_probas)\n",
    "# Get the top prediction per sample.\n",
    "top_prob = prob_order[:,:1]\n",
    "top_prob_2= prob_order[:,1:2]\n",
    "top_prob_3= prob_order[:,2:3]\n",
    "\n",
    "#PRECISION,RECALL,F1 PER CLASS\n",
    "print(\"--- TEST SET ---\")\n",
    "macro_f1 = 0 \n",
    "for c in range(0,18):\n",
    "    print(\"Class :{}\".format(c))\n",
    "    print('------')\n",
    "    for k in range(1,4):\n",
    "        print(\"k :{}\".format(k))\n",
    "        P,R,F1 = None,None,None # compute these for class c on the TEST SET\n",
    "        # YOUR CODE HERE\n",
    "        P,R,F1,TP,FP,FN = Analysis.compute_precision_recall_F1_label(train_probas, y_train, k,c)\n",
    "        #raise NotImplementedError()\n",
    "        if F1!=0.0:\n",
    "            macro_f1 += F1\n",
    "        \n",
    "        print(\"Number of TP,FP,FN:\")\n",
    "        print('TP in k{} for class {}:{}'.format(k,c,TP))\n",
    "        print('FP in k{} for class {}:{}'.format(k,c,FP))\n",
    "        print('FN in k{} for class {}:{}'.format(k,c,FN))\n",
    "        print(\"------\")\n",
    "        print('Precision K:{} for class {}: {}'.format(k,c,P))\n",
    "        print('Recall K:{} for class    {}: {}'.format(k,c,R))\n",
    "        print('F1 K:{} for class        {}: {}'.format(k,c,F1))\n",
    "        \n",
    "    print('-----------------------------')\n",
    "        \n",
    "        \n",
    "macro_f1 /= 3        \n",
    "\n",
    "print(f'F1: {macro_f1}')\n",
    "\n",
    "\n",
    "#CONFUSION MATRICES\n",
    "##Top 1 (1)\n",
    "Analysis.plot_confusion_matrix(top_prob, y_train.astype(np.int32) ,1)\n",
    "##Top 2 (1/2)\n",
    "Analysis.plot_confusion_matrix(top_prob_2, y_train.astype(np.int32) , '1/2')\n",
    "##Top 3 (1/3)\n",
    "Analysis.plot_confusion_matrix(top_prob_3, y_train.astype(np.int32) , '1/3')"
   ]
  }
 ],
 "metadata": {
  "kernelspec": {
   "display_name": "Python 3",
   "language": "python",
   "name": "python3"
  },
  "language_info": {
   "codemirror_mode": {
    "name": "ipython",
    "version": 3
   },
   "file_extension": ".py",
   "mimetype": "text/x-python",
   "name": "python",
   "nbconvert_exporter": "python",
   "pygments_lexer": "ipython3",
   "version": "3.7.1"
  }
 },
 "nbformat": 4,
 "nbformat_minor": 2
}
